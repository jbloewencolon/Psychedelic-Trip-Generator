{
  "nbformat": 4,
  "nbformat_minor": 0,
  "metadata": {
    "colab": {
      "provenance": [],
      "machine_shape": "hm",
      "gpuType": "V100",
      "mount_file_id": "1h_h-XImEM9YFKp1vgkoAFRj0U_1xmNJ4",
      "authorship_tag": "ABX9TyOMqaKgV7d/UQSc6dEc4lAO",
      "include_colab_link": true
    },
    "kernelspec": {
      "name": "python3",
      "display_name": "Python 3"
    },
    "language_info": {
      "name": "python"
    },
    "accelerator": "GPU"
  },
  "cells": [
    {
      "cell_type": "markdown",
      "metadata": {
        "id": "view-in-github",
        "colab_type": "text"
      },
      "source": [
        "<a href=\"https://colab.research.google.com/github/jbloewencolon/Psychedelic-Trip-Generator/blob/main/LDA_and_Word2Vec.ipynb\" target=\"_parent\"><img src=\"https://colab.research.google.com/assets/colab-badge.svg\" alt=\"Open In Colab\"/></a>"
      ]
    },
    {
      "cell_type": "code",
      "execution_count": 16,
      "metadata": {
        "id": "3L8ThvWC-cvL",
        "colab": {
          "base_uri": "https://localhost:8080/"
        },
        "outputId": "dae312a0-a068-4f5a-f565-b72c67da5102"
      },
      "outputs": [
        {
          "output_type": "stream",
          "name": "stderr",
          "text": [
            "[nltk_data] Downloading package punkt to /root/nltk_data...\n",
            "[nltk_data]   Package punkt is already up-to-date!\n"
          ]
        },
        {
          "output_type": "execute_result",
          "data": {
            "text/plain": [
              "[PhysicalDevice(name='/physical_device:GPU:0', device_type='GPU')]"
            ]
          },
          "metadata": {},
          "execution_count": 16
        }
      ],
      "source": [
        "import pandas as pd\n",
        "import numpy as np\n",
        "import seaborn as sns\n",
        "import matplotlib.pyplot as plt\n",
        "import gensim\n",
        "import re\n",
        "import xgboost as xgb\n",
        "import pickle\n",
        "import tensorflow as tf\n",
        "from sklearn.pipeline import Pipeline\n",
        "from sklearn.linear_model import LogisticRegression\n",
        "from sklearn.feature_extraction.text import TfidfVectorizer, CountVectorizer\n",
        "from sklearn.model_selection import train_test_split, GridSearchCV\n",
        "from sklearn.ensemble import RandomForestClassifier\n",
        "from sklearn.metrics import classification_report\n",
        "from sklearn.preprocessing import LabelEncoder, StandardScaler\n",
        "from imblearn.over_sampling import SMOTE\n",
        "from imblearn.pipeline import make_pipeline\n",
        "from xgboost import XGBClassifier\n",
        "from gensim.models import Word2Vec, LdaModel, CoherenceModel\n",
        "from gensim.utils import simple_preprocess\n",
        "from gensim import corpora\n",
        "from gensim.corpora import Dictionary\n",
        "from sklearn.base import BaseEstimator, TransformerMixin\n",
        "import nltk\n",
        "from nltk.tokenize import word_tokenize\n",
        "nltk.download('punkt')\n",
        "tf.config.list_physical_devices('GPU')"
      ]
    },
    {
      "cell_type": "code",
      "source": [
        "df = pd.read_csv('/content/drive/MyDrive/Colab Notebooks/Data/processed.csv')"
      ],
      "metadata": {
        "id": "H590US3U_Zen"
      },
      "execution_count": 11,
      "outputs": []
    },
    {
      "cell_type": "code",
      "source": [
        "df.info()"
      ],
      "metadata": {
        "id": "mzo_TlQNG-x_",
        "outputId": "3b11150f-109d-4738-a7f8-b1c410b11434",
        "colab": {
          "base_uri": "https://localhost:8080/"
        }
      },
      "execution_count": null,
      "outputs": [
        {
          "output_type": "stream",
          "name": "stdout",
          "text": [
            "<class 'pandas.core.frame.DataFrame'>\n",
            "RangeIndex: 76450 entries, 0 to 76449\n",
            "Data columns (total 11 columns):\n",
            " #   Column            Non-Null Count  Dtype  \n",
            "---  ------            --------------  -----  \n",
            " 0   title             76448 non-null  object \n",
            " 1   drug              76447 non-null  object \n",
            " 2   dosage            73699 non-null  object \n",
            " 3   delivery          74213 non-null  object \n",
            " 4   weight            76449 non-null  float64\n",
            " 5   year              76449 non-null  float64\n",
            " 6   gender            76446 non-null  object \n",
            " 7   report            76439 non-null  object \n",
            " 8   processed_report  76438 non-null  object \n",
            " 9   mixed             76448 non-null  float64\n",
            " 10  drug_category     76448 non-null  object \n",
            "dtypes: float64(3), object(8)\n",
            "memory usage: 6.4+ MB\n"
          ]
        }
      ]
    },
    {
      "cell_type": "code",
      "source": [
        "# Fill missing values with 'unknown' in 'drug_category' column\n",
        "df[['drug', 'dosage', 'delivery']] = df[['drug', 'dosage', 'delivery']].fillna('unknown')\n",
        "\n",
        "# Replace non-finite values in 'year' and 'mixed' columns with 0\n",
        "df[['year', 'mixed']] = df[['year', 'mixed']].fillna(0)\n",
        "\n",
        "# Convert 'year' and 'mixed' columns to integers\n",
        "df[['year', 'mixed']] = df[['year', 'mixed']].astype(int)\n",
        "\n",
        "# Convert the 'processed_report' column to string type\n",
        "df['report'] = df['report'].astype(str)\n",
        "\n",
        "df = df.dropna()\n",
        "\n",
        "df.info()"
      ],
      "metadata": {
        "colab": {
          "base_uri": "https://localhost:8080/"
        },
        "id": "YbhusvMOIXe1",
        "outputId": "125ba934-a2b3-46b1-f444-cb2ed4453cbf"
      },
      "execution_count": 12,
      "outputs": [
        {
          "output_type": "stream",
          "name": "stdout",
          "text": [
            "<class 'pandas.core.frame.DataFrame'>\n",
            "Int64Index: 76438 entries, 0 to 76449\n",
            "Data columns (total 11 columns):\n",
            " #   Column            Non-Null Count  Dtype  \n",
            "---  ------            --------------  -----  \n",
            " 0   title             76438 non-null  object \n",
            " 1   drug              76438 non-null  object \n",
            " 2   dosage            76438 non-null  object \n",
            " 3   delivery          76438 non-null  object \n",
            " 4   weight            76438 non-null  float64\n",
            " 5   year              76438 non-null  int64  \n",
            " 6   gender            76438 non-null  object \n",
            " 7   report            76438 non-null  object \n",
            " 8   processed_report  76438 non-null  object \n",
            " 9   mixed             76438 non-null  int64  \n",
            " 10  drug_category     76438 non-null  object \n",
            "dtypes: float64(1), int64(2), object(8)\n",
            "memory usage: 7.0+ MB\n"
          ]
        }
      ]
    },
    {
      "cell_type": "code",
      "source": [
        "df.head()"
      ],
      "metadata": {
        "id": "uXoi-tsyHAnO",
        "outputId": "f5ae819a-6ba8-4377-dd23-52304e515547",
        "colab": {
          "base_uri": "https://localhost:8080/",
          "height": 371
        }
      },
      "execution_count": null,
      "outputs": [
        {
          "output_type": "execute_result",
          "data": {
            "text/plain": [
              "                                   title      drug       dosage      delivery  \\\n",
              "0                             Ode to Joy      mdma  1.5 tablets          oral   \n",
              "1  Make Sure the Music's Not Too Complex  cannabis      unknown        smoked   \n",
              "2                            After Hours      mdma       160 mg          oral   \n",
              "3                            After Hours      mdma       100 mg          oral   \n",
              "4                            After Hours      mdma        50 mg   insufflated   \n",
              "\n",
              "   weight  year         gender  \\\n",
              "0   185.0  2000           male   \n",
              "1   152.0  1999  not specified   \n",
              "2   150.0  2001           male   \n",
              "3   150.0  2001           male   \n",
              "4   150.0  2001           male   \n",
              "\n",
              "                                              report  \\\n",
              "0  My friend had some experience with X and had t...   \n",
              "1  This was the first experience that either my f...   \n",
              "2  Preparation: I have heard some conflicting opi...   \n",
              "3  Preparation: I have heard some conflicting opi...   \n",
              "4  Preparation: I have heard some conflicting opi...   \n",
              "\n",
              "                                    processed_report  mixed drug_category  \n",
              "0  friend experi x told one day said come across ...      0          mdma  \n",
              "1  first experi either friend salvia housem check...      0      cannabis  \n",
              "2  prepar heard conflict opinion 5htp ie load day...      1          mdma  \n",
              "3  prepar heard conflict opinion 5htp ie load day...      1          mdma  \n",
              "4  prepar heard conflict opinion 5htp ie load day...      1          mdma  "
            ],
            "text/html": [
              "\n",
              "\n",
              "  <div id=\"df-7e795a98-d234-43cc-b4d2-5613b3d2d6ea\">\n",
              "    <div class=\"colab-df-container\">\n",
              "      <div>\n",
              "<style scoped>\n",
              "    .dataframe tbody tr th:only-of-type {\n",
              "        vertical-align: middle;\n",
              "    }\n",
              "\n",
              "    .dataframe tbody tr th {\n",
              "        vertical-align: top;\n",
              "    }\n",
              "\n",
              "    .dataframe thead th {\n",
              "        text-align: right;\n",
              "    }\n",
              "</style>\n",
              "<table border=\"1\" class=\"dataframe\">\n",
              "  <thead>\n",
              "    <tr style=\"text-align: right;\">\n",
              "      <th></th>\n",
              "      <th>title</th>\n",
              "      <th>drug</th>\n",
              "      <th>dosage</th>\n",
              "      <th>delivery</th>\n",
              "      <th>weight</th>\n",
              "      <th>year</th>\n",
              "      <th>gender</th>\n",
              "      <th>report</th>\n",
              "      <th>processed_report</th>\n",
              "      <th>mixed</th>\n",
              "      <th>drug_category</th>\n",
              "    </tr>\n",
              "  </thead>\n",
              "  <tbody>\n",
              "    <tr>\n",
              "      <th>0</th>\n",
              "      <td>Ode to Joy</td>\n",
              "      <td>mdma</td>\n",
              "      <td>1.5 tablets</td>\n",
              "      <td>oral</td>\n",
              "      <td>185.0</td>\n",
              "      <td>2000</td>\n",
              "      <td>male</td>\n",
              "      <td>My friend had some experience with X and had t...</td>\n",
              "      <td>friend experi x told one day said come across ...</td>\n",
              "      <td>0</td>\n",
              "      <td>mdma</td>\n",
              "    </tr>\n",
              "    <tr>\n",
              "      <th>1</th>\n",
              "      <td>Make Sure the Music's Not Too Complex</td>\n",
              "      <td>cannabis</td>\n",
              "      <td>unknown</td>\n",
              "      <td>smoked</td>\n",
              "      <td>152.0</td>\n",
              "      <td>1999</td>\n",
              "      <td>not specified</td>\n",
              "      <td>This was the first experience that either my f...</td>\n",
              "      <td>first experi either friend salvia housem check...</td>\n",
              "      <td>0</td>\n",
              "      <td>cannabis</td>\n",
              "    </tr>\n",
              "    <tr>\n",
              "      <th>2</th>\n",
              "      <td>After Hours</td>\n",
              "      <td>mdma</td>\n",
              "      <td>160 mg</td>\n",
              "      <td>oral</td>\n",
              "      <td>150.0</td>\n",
              "      <td>2001</td>\n",
              "      <td>male</td>\n",
              "      <td>Preparation: I have heard some conflicting opi...</td>\n",
              "      <td>prepar heard conflict opinion 5htp ie load day...</td>\n",
              "      <td>1</td>\n",
              "      <td>mdma</td>\n",
              "    </tr>\n",
              "    <tr>\n",
              "      <th>3</th>\n",
              "      <td>After Hours</td>\n",
              "      <td>mdma</td>\n",
              "      <td>100 mg</td>\n",
              "      <td>oral</td>\n",
              "      <td>150.0</td>\n",
              "      <td>2001</td>\n",
              "      <td>male</td>\n",
              "      <td>Preparation: I have heard some conflicting opi...</td>\n",
              "      <td>prepar heard conflict opinion 5htp ie load day...</td>\n",
              "      <td>1</td>\n",
              "      <td>mdma</td>\n",
              "    </tr>\n",
              "    <tr>\n",
              "      <th>4</th>\n",
              "      <td>After Hours</td>\n",
              "      <td>mdma</td>\n",
              "      <td>50 mg</td>\n",
              "      <td>insufflated</td>\n",
              "      <td>150.0</td>\n",
              "      <td>2001</td>\n",
              "      <td>male</td>\n",
              "      <td>Preparation: I have heard some conflicting opi...</td>\n",
              "      <td>prepar heard conflict opinion 5htp ie load day...</td>\n",
              "      <td>1</td>\n",
              "      <td>mdma</td>\n",
              "    </tr>\n",
              "  </tbody>\n",
              "</table>\n",
              "</div>\n",
              "      <button class=\"colab-df-convert\" onclick=\"convertToInteractive('df-7e795a98-d234-43cc-b4d2-5613b3d2d6ea')\"\n",
              "              title=\"Convert this dataframe to an interactive table.\"\n",
              "              style=\"display:none;\">\n",
              "\n",
              "  <svg xmlns=\"http://www.w3.org/2000/svg\" height=\"24px\"viewBox=\"0 0 24 24\"\n",
              "       width=\"24px\">\n",
              "    <path d=\"M0 0h24v24H0V0z\" fill=\"none\"/>\n",
              "    <path d=\"M18.56 5.44l.94 2.06.94-2.06 2.06-.94-2.06-.94-.94-2.06-.94 2.06-2.06.94zm-11 1L8.5 8.5l.94-2.06 2.06-.94-2.06-.94L8.5 2.5l-.94 2.06-2.06.94zm10 10l.94 2.06.94-2.06 2.06-.94-2.06-.94-.94-2.06-.94 2.06-2.06.94z\"/><path d=\"M17.41 7.96l-1.37-1.37c-.4-.4-.92-.59-1.43-.59-.52 0-1.04.2-1.43.59L10.3 9.45l-7.72 7.72c-.78.78-.78 2.05 0 2.83L4 21.41c.39.39.9.59 1.41.59.51 0 1.02-.2 1.41-.59l7.78-7.78 2.81-2.81c.8-.78.8-2.07 0-2.86zM5.41 20L4 18.59l7.72-7.72 1.47 1.35L5.41 20z\"/>\n",
              "  </svg>\n",
              "      </button>\n",
              "\n",
              "\n",
              "\n",
              "    <div id=\"df-cb235f15-04c9-4dd6-a0ed-73410c5fb53e\">\n",
              "      <button class=\"colab-df-quickchart\" onclick=\"quickchart('df-cb235f15-04c9-4dd6-a0ed-73410c5fb53e')\"\n",
              "              title=\"Suggest charts.\"\n",
              "              style=\"display:none;\">\n",
              "\n",
              "<svg xmlns=\"http://www.w3.org/2000/svg\" height=\"24px\"viewBox=\"0 0 24 24\"\n",
              "     width=\"24px\">\n",
              "    <g>\n",
              "        <path d=\"M19 3H5c-1.1 0-2 .9-2 2v14c0 1.1.9 2 2 2h14c1.1 0 2-.9 2-2V5c0-1.1-.9-2-2-2zM9 17H7v-7h2v7zm4 0h-2V7h2v10zm4 0h-2v-4h2v4z\"/>\n",
              "    </g>\n",
              "</svg>\n",
              "      </button>\n",
              "    </div>\n",
              "\n",
              "<style>\n",
              "  .colab-df-quickchart {\n",
              "    background-color: #E8F0FE;\n",
              "    border: none;\n",
              "    border-radius: 50%;\n",
              "    cursor: pointer;\n",
              "    display: none;\n",
              "    fill: #1967D2;\n",
              "    height: 32px;\n",
              "    padding: 0 0 0 0;\n",
              "    width: 32px;\n",
              "  }\n",
              "\n",
              "  .colab-df-quickchart:hover {\n",
              "    background-color: #E2EBFA;\n",
              "    box-shadow: 0px 1px 2px rgba(60, 64, 67, 0.3), 0px 1px 3px 1px rgba(60, 64, 67, 0.15);\n",
              "    fill: #174EA6;\n",
              "  }\n",
              "\n",
              "  [theme=dark] .colab-df-quickchart {\n",
              "    background-color: #3B4455;\n",
              "    fill: #D2E3FC;\n",
              "  }\n",
              "\n",
              "  [theme=dark] .colab-df-quickchart:hover {\n",
              "    background-color: #434B5C;\n",
              "    box-shadow: 0px 1px 3px 1px rgba(0, 0, 0, 0.15);\n",
              "    filter: drop-shadow(0px 1px 2px rgba(0, 0, 0, 0.3));\n",
              "    fill: #FFFFFF;\n",
              "  }\n",
              "</style>\n",
              "\n",
              "    <script>\n",
              "      async function quickchart(key) {\n",
              "        const containerElement = document.querySelector('#' + key);\n",
              "        const charts = await google.colab.kernel.invokeFunction(\n",
              "            'suggestCharts', [key], {});\n",
              "      }\n",
              "    </script>\n",
              "\n",
              "      <script>\n",
              "\n",
              "function displayQuickchartButton(domScope) {\n",
              "  let quickchartButtonEl =\n",
              "    domScope.querySelector('#df-cb235f15-04c9-4dd6-a0ed-73410c5fb53e button.colab-df-quickchart');\n",
              "  quickchartButtonEl.style.display =\n",
              "    google.colab.kernel.accessAllowed ? 'block' : 'none';\n",
              "}\n",
              "\n",
              "        displayQuickchartButton(document);\n",
              "      </script>\n",
              "      <style>\n",
              "    .colab-df-container {\n",
              "      display:flex;\n",
              "      flex-wrap:wrap;\n",
              "      gap: 12px;\n",
              "    }\n",
              "\n",
              "    .colab-df-convert {\n",
              "      background-color: #E8F0FE;\n",
              "      border: none;\n",
              "      border-radius: 50%;\n",
              "      cursor: pointer;\n",
              "      display: none;\n",
              "      fill: #1967D2;\n",
              "      height: 32px;\n",
              "      padding: 0 0 0 0;\n",
              "      width: 32px;\n",
              "    }\n",
              "\n",
              "    .colab-df-convert:hover {\n",
              "      background-color: #E2EBFA;\n",
              "      box-shadow: 0px 1px 2px rgba(60, 64, 67, 0.3), 0px 1px 3px 1px rgba(60, 64, 67, 0.15);\n",
              "      fill: #174EA6;\n",
              "    }\n",
              "\n",
              "    [theme=dark] .colab-df-convert {\n",
              "      background-color: #3B4455;\n",
              "      fill: #D2E3FC;\n",
              "    }\n",
              "\n",
              "    [theme=dark] .colab-df-convert:hover {\n",
              "      background-color: #434B5C;\n",
              "      box-shadow: 0px 1px 3px 1px rgba(0, 0, 0, 0.15);\n",
              "      filter: drop-shadow(0px 1px 2px rgba(0, 0, 0, 0.3));\n",
              "      fill: #FFFFFF;\n",
              "    }\n",
              "  </style>\n",
              "\n",
              "      <script>\n",
              "        const buttonEl =\n",
              "          document.querySelector('#df-7e795a98-d234-43cc-b4d2-5613b3d2d6ea button.colab-df-convert');\n",
              "        buttonEl.style.display =\n",
              "          google.colab.kernel.accessAllowed ? 'block' : 'none';\n",
              "\n",
              "        async function convertToInteractive(key) {\n",
              "          const element = document.querySelector('#df-7e795a98-d234-43cc-b4d2-5613b3d2d6ea');\n",
              "          const dataTable =\n",
              "            await google.colab.kernel.invokeFunction('convertToInteractive',\n",
              "                                                     [key], {});\n",
              "          if (!dataTable) return;\n",
              "\n",
              "          const docLinkHtml = 'Like what you see? Visit the ' +\n",
              "            '<a target=\"_blank\" href=https://colab.research.google.com/notebooks/data_table.ipynb>data table notebook</a>'\n",
              "            + ' to learn more about interactive tables.';\n",
              "          element.innerHTML = '';\n",
              "          dataTable['output_type'] = 'display_data';\n",
              "          await google.colab.output.renderOutput(dataTable, element);\n",
              "          const docLink = document.createElement('div');\n",
              "          docLink.innerHTML = docLinkHtml;\n",
              "          element.appendChild(docLink);\n",
              "        }\n",
              "      </script>\n",
              "    </div>\n",
              "  </div>\n"
            ]
          },
          "metadata": {},
          "execution_count": 9
        }
      ]
    },
    {
      "cell_type": "code",
      "source": [
        "df['drug_category'].value_counts()"
      ],
      "metadata": {
        "colab": {
          "base_uri": "https://localhost:8080/"
        },
        "id": "hmHK62eNuVal",
        "outputId": "eda4e432-110d-48c2-8177-92dc05016a69"
      },
      "execution_count": null,
      "outputs": [
        {
          "output_type": "execute_result",
          "data": {
            "text/plain": [
              "pharmaceutical           10125\n",
              "cannabis                  9536\n",
              "stimulant                 5780\n",
              "mushrooms                 4055\n",
              "botanical                 3814\n",
              "opioid                    3795\n",
              "mdma                      3560\n",
              "alcohol                   3368\n",
              "hallucinogen              3128\n",
              "lsd                       3064\n",
              "salvia                    2831\n",
              "2c                        2812\n",
              "other                     2746\n",
              "dissociative              2624\n",
              "entheogen                 2546\n",
              "DMT                       2362\n",
              "entactogen                1754\n",
              "nootropic                 1653\n",
              "5-meo                     1290\n",
              "ketamine                  1233\n",
              "unknown                    923\n",
              "mescaline                  726\n",
              "depressant                 686\n",
              "synthetic cannabinoid      451\n",
              "anxiolytic                 448\n",
              "oneirogen                  307\n",
              "ayahuasca                  229\n",
              "phencyclidine              216\n",
              "antidepressant             167\n",
              "3-MeO                      131\n",
              "ibogaine                    78\n",
              "Name: drug_category, dtype: int64"
            ]
          },
          "metadata": {},
          "execution_count": 10
        }
      ]
    },
    {
      "cell_type": "code",
      "source": [
        "# Define the mapping from old categories to new ones\n",
        "category_mapping = {\n",
        "    'pharmaceutical': 'Pharmaceutical',\n",
        "    'cannabis': 'Cannabinoid',\n",
        "    'stimulant': 'Stimulant',\n",
        "    'mushrooms': 'Psychedelic',\n",
        "    'botanical': 'Other',\n",
        "    'opioid': 'Opioid',\n",
        "    'mdma': 'Entactogen/Empathogen',\n",
        "    'alcohol': 'Depressant',\n",
        "    'hallucinogen': 'Psychedelic',\n",
        "    'lsd': 'Psychedelic',\n",
        "    'salvia': 'Psychedelic',\n",
        "    '2c': 'Psychedelic',\n",
        "    'other': 'Other',\n",
        "    'dissociative': 'Dissociative',\n",
        "    'entheogen': 'Entheogen',\n",
        "    'DMT': 'Psychedelic',\n",
        "    'entactogen': 'Entactogen/Empathogen',\n",
        "    'nootropic': 'Other',\n",
        "    '5-meo': 'Psychedelic',\n",
        "    'ketamine': 'Dissociative',\n",
        "    'unknown': 'Other',\n",
        "    'mescaline': 'Psychedelic',\n",
        "    'depressant': 'Depressant',\n",
        "    'synthetic cannabinoid': 'Cannabinoid',\n",
        "    'anxiolytic': 'Pharmaceutical',\n",
        "    'oneirogen': 'Other',\n",
        "    'ayahuasca': 'Psychedelic',\n",
        "    'phencyclidine': 'Dissociative',\n",
        "    'antidepressant': 'Pharmaceutical',\n",
        "    '3-MeO': 'Other',\n",
        "    'ibogaine': 'Entheogen'\n",
        "}\n",
        "\n",
        "# Apply the mapping to the 'drug_category' column and create a new column 'grouped_drug_category'\n",
        "df['drug_category'] = df['drug_category'].map(category_mapping)\n",
        "\n",
        "df['drug_category'].value_counts()"
      ],
      "metadata": {
        "colab": {
          "base_uri": "https://localhost:8080/"
        },
        "id": "1vX5jkdztN1V",
        "outputId": "45be4e4b-a2d6-4f87-fd8e-34c6796ac766"
      },
      "execution_count": 13,
      "outputs": [
        {
          "output_type": "execute_result",
          "data": {
            "text/plain": [
              "Psychedelic              20497\n",
              "Pharmaceutical           10740\n",
              "Cannabinoid               9987\n",
              "Other                     9574\n",
              "Stimulant                 5780\n",
              "Entactogen/Empathogen     5314\n",
              "Dissociative              4073\n",
              "Depressant                4054\n",
              "Opioid                    3795\n",
              "Entheogen                 2624\n",
              "Name: drug_category, dtype: int64"
            ]
          },
          "metadata": {},
          "execution_count": 13
        }
      ]
    },
    {
      "cell_type": "code",
      "source": [
        "df.head()"
      ],
      "metadata": {
        "colab": {
          "base_uri": "https://localhost:8080/",
          "height": 206
        },
        "id": "IHoP7dFy9KVx",
        "outputId": "cbd68054-0244-4a5a-d089-bb73a38bfcaf"
      },
      "execution_count": 5,
      "outputs": [
        {
          "output_type": "execute_result",
          "data": {
            "text/plain": [
              "                                   title      drug       dosage      delivery  \\\n",
              "0                             Ode to Joy      mdma  1.5 tablets          oral   \n",
              "1  Make Sure the Music's Not Too Complex  cannabis      unknown        smoked   \n",
              "2                            After Hours      mdma       160 mg          oral   \n",
              "3                            After Hours      mdma       100 mg          oral   \n",
              "4                            After Hours      mdma        50 mg   insufflated   \n",
              "\n",
              "   weight  year         gender  \\\n",
              "0   185.0  2000           male   \n",
              "1   152.0  1999  not specified   \n",
              "2   150.0  2001           male   \n",
              "3   150.0  2001           male   \n",
              "4   150.0  2001           male   \n",
              "\n",
              "                                              report  \\\n",
              "0  My friend had some experience with X and had t...   \n",
              "1  This was the first experience that either my f...   \n",
              "2  Preparation: I have heard some conflicting opi...   \n",
              "3  Preparation: I have heard some conflicting opi...   \n",
              "4  Preparation: I have heard some conflicting opi...   \n",
              "\n",
              "                                    processed_report  mixed  \\\n",
              "0  friend experi x told one day said come across ...      0   \n",
              "1  first experi either friend salvia housem check...      0   \n",
              "2  prepar heard conflict opinion 5htp ie load day...      1   \n",
              "3  prepar heard conflict opinion 5htp ie load day...      1   \n",
              "4  prepar heard conflict opinion 5htp ie load day...      1   \n",
              "\n",
              "           drug_category  \n",
              "0  Entactogen/Empathogen  \n",
              "1            Cannabinoid  \n",
              "2  Entactogen/Empathogen  \n",
              "3  Entactogen/Empathogen  \n",
              "4  Entactogen/Empathogen  "
            ],
            "text/html": [
              "\n",
              "\n",
              "  <div id=\"df-baedf5a3-9151-4703-9a61-167b19f5fefd\">\n",
              "    <div class=\"colab-df-container\">\n",
              "      <div>\n",
              "<style scoped>\n",
              "    .dataframe tbody tr th:only-of-type {\n",
              "        vertical-align: middle;\n",
              "    }\n",
              "\n",
              "    .dataframe tbody tr th {\n",
              "        vertical-align: top;\n",
              "    }\n",
              "\n",
              "    .dataframe thead th {\n",
              "        text-align: right;\n",
              "    }\n",
              "</style>\n",
              "<table border=\"1\" class=\"dataframe\">\n",
              "  <thead>\n",
              "    <tr style=\"text-align: right;\">\n",
              "      <th></th>\n",
              "      <th>title</th>\n",
              "      <th>drug</th>\n",
              "      <th>dosage</th>\n",
              "      <th>delivery</th>\n",
              "      <th>weight</th>\n",
              "      <th>year</th>\n",
              "      <th>gender</th>\n",
              "      <th>report</th>\n",
              "      <th>processed_report</th>\n",
              "      <th>mixed</th>\n",
              "      <th>drug_category</th>\n",
              "    </tr>\n",
              "  </thead>\n",
              "  <tbody>\n",
              "    <tr>\n",
              "      <th>0</th>\n",
              "      <td>Ode to Joy</td>\n",
              "      <td>mdma</td>\n",
              "      <td>1.5 tablets</td>\n",
              "      <td>oral</td>\n",
              "      <td>185.0</td>\n",
              "      <td>2000</td>\n",
              "      <td>male</td>\n",
              "      <td>My friend had some experience with X and had t...</td>\n",
              "      <td>friend experi x told one day said come across ...</td>\n",
              "      <td>0</td>\n",
              "      <td>Entactogen/Empathogen</td>\n",
              "    </tr>\n",
              "    <tr>\n",
              "      <th>1</th>\n",
              "      <td>Make Sure the Music's Not Too Complex</td>\n",
              "      <td>cannabis</td>\n",
              "      <td>unknown</td>\n",
              "      <td>smoked</td>\n",
              "      <td>152.0</td>\n",
              "      <td>1999</td>\n",
              "      <td>not specified</td>\n",
              "      <td>This was the first experience that either my f...</td>\n",
              "      <td>first experi either friend salvia housem check...</td>\n",
              "      <td>0</td>\n",
              "      <td>Cannabinoid</td>\n",
              "    </tr>\n",
              "    <tr>\n",
              "      <th>2</th>\n",
              "      <td>After Hours</td>\n",
              "      <td>mdma</td>\n",
              "      <td>160 mg</td>\n",
              "      <td>oral</td>\n",
              "      <td>150.0</td>\n",
              "      <td>2001</td>\n",
              "      <td>male</td>\n",
              "      <td>Preparation: I have heard some conflicting opi...</td>\n",
              "      <td>prepar heard conflict opinion 5htp ie load day...</td>\n",
              "      <td>1</td>\n",
              "      <td>Entactogen/Empathogen</td>\n",
              "    </tr>\n",
              "    <tr>\n",
              "      <th>3</th>\n",
              "      <td>After Hours</td>\n",
              "      <td>mdma</td>\n",
              "      <td>100 mg</td>\n",
              "      <td>oral</td>\n",
              "      <td>150.0</td>\n",
              "      <td>2001</td>\n",
              "      <td>male</td>\n",
              "      <td>Preparation: I have heard some conflicting opi...</td>\n",
              "      <td>prepar heard conflict opinion 5htp ie load day...</td>\n",
              "      <td>1</td>\n",
              "      <td>Entactogen/Empathogen</td>\n",
              "    </tr>\n",
              "    <tr>\n",
              "      <th>4</th>\n",
              "      <td>After Hours</td>\n",
              "      <td>mdma</td>\n",
              "      <td>50 mg</td>\n",
              "      <td>insufflated</td>\n",
              "      <td>150.0</td>\n",
              "      <td>2001</td>\n",
              "      <td>male</td>\n",
              "      <td>Preparation: I have heard some conflicting opi...</td>\n",
              "      <td>prepar heard conflict opinion 5htp ie load day...</td>\n",
              "      <td>1</td>\n",
              "      <td>Entactogen/Empathogen</td>\n",
              "    </tr>\n",
              "  </tbody>\n",
              "</table>\n",
              "</div>\n",
              "      <button class=\"colab-df-convert\" onclick=\"convertToInteractive('df-baedf5a3-9151-4703-9a61-167b19f5fefd')\"\n",
              "              title=\"Convert this dataframe to an interactive table.\"\n",
              "              style=\"display:none;\">\n",
              "\n",
              "  <svg xmlns=\"http://www.w3.org/2000/svg\" height=\"24px\"viewBox=\"0 0 24 24\"\n",
              "       width=\"24px\">\n",
              "    <path d=\"M0 0h24v24H0V0z\" fill=\"none\"/>\n",
              "    <path d=\"M18.56 5.44l.94 2.06.94-2.06 2.06-.94-2.06-.94-.94-2.06-.94 2.06-2.06.94zm-11 1L8.5 8.5l.94-2.06 2.06-.94-2.06-.94L8.5 2.5l-.94 2.06-2.06.94zm10 10l.94 2.06.94-2.06 2.06-.94-2.06-.94-.94-2.06-.94 2.06-2.06.94z\"/><path d=\"M17.41 7.96l-1.37-1.37c-.4-.4-.92-.59-1.43-.59-.52 0-1.04.2-1.43.59L10.3 9.45l-7.72 7.72c-.78.78-.78 2.05 0 2.83L4 21.41c.39.39.9.59 1.41.59.51 0 1.02-.2 1.41-.59l7.78-7.78 2.81-2.81c.8-.78.8-2.07 0-2.86zM5.41 20L4 18.59l7.72-7.72 1.47 1.35L5.41 20z\"/>\n",
              "  </svg>\n",
              "      </button>\n",
              "\n",
              "\n",
              "\n",
              "    <div id=\"df-169c1fc0-d379-42fe-a65b-84f292edc64f\">\n",
              "      <button class=\"colab-df-quickchart\" onclick=\"quickchart('df-169c1fc0-d379-42fe-a65b-84f292edc64f')\"\n",
              "              title=\"Suggest charts.\"\n",
              "              style=\"display:none;\">\n",
              "\n",
              "<svg xmlns=\"http://www.w3.org/2000/svg\" height=\"24px\"viewBox=\"0 0 24 24\"\n",
              "     width=\"24px\">\n",
              "    <g>\n",
              "        <path d=\"M19 3H5c-1.1 0-2 .9-2 2v14c0 1.1.9 2 2 2h14c1.1 0 2-.9 2-2V5c0-1.1-.9-2-2-2zM9 17H7v-7h2v7zm4 0h-2V7h2v10zm4 0h-2v-4h2v4z\"/>\n",
              "    </g>\n",
              "</svg>\n",
              "      </button>\n",
              "    </div>\n",
              "\n",
              "<style>\n",
              "  .colab-df-quickchart {\n",
              "    background-color: #E8F0FE;\n",
              "    border: none;\n",
              "    border-radius: 50%;\n",
              "    cursor: pointer;\n",
              "    display: none;\n",
              "    fill: #1967D2;\n",
              "    height: 32px;\n",
              "    padding: 0 0 0 0;\n",
              "    width: 32px;\n",
              "  }\n",
              "\n",
              "  .colab-df-quickchart:hover {\n",
              "    background-color: #E2EBFA;\n",
              "    box-shadow: 0px 1px 2px rgba(60, 64, 67, 0.3), 0px 1px 3px 1px rgba(60, 64, 67, 0.15);\n",
              "    fill: #174EA6;\n",
              "  }\n",
              "\n",
              "  [theme=dark] .colab-df-quickchart {\n",
              "    background-color: #3B4455;\n",
              "    fill: #D2E3FC;\n",
              "  }\n",
              "\n",
              "  [theme=dark] .colab-df-quickchart:hover {\n",
              "    background-color: #434B5C;\n",
              "    box-shadow: 0px 1px 3px 1px rgba(0, 0, 0, 0.15);\n",
              "    filter: drop-shadow(0px 1px 2px rgba(0, 0, 0, 0.3));\n",
              "    fill: #FFFFFF;\n",
              "  }\n",
              "</style>\n",
              "\n",
              "    <script>\n",
              "      async function quickchart(key) {\n",
              "        const containerElement = document.querySelector('#' + key);\n",
              "        const charts = await google.colab.kernel.invokeFunction(\n",
              "            'suggestCharts', [key], {});\n",
              "      }\n",
              "    </script>\n",
              "\n",
              "      <script>\n",
              "\n",
              "function displayQuickchartButton(domScope) {\n",
              "  let quickchartButtonEl =\n",
              "    domScope.querySelector('#df-169c1fc0-d379-42fe-a65b-84f292edc64f button.colab-df-quickchart');\n",
              "  quickchartButtonEl.style.display =\n",
              "    google.colab.kernel.accessAllowed ? 'block' : 'none';\n",
              "}\n",
              "\n",
              "        displayQuickchartButton(document);\n",
              "      </script>\n",
              "      <style>\n",
              "    .colab-df-container {\n",
              "      display:flex;\n",
              "      flex-wrap:wrap;\n",
              "      gap: 12px;\n",
              "    }\n",
              "\n",
              "    .colab-df-convert {\n",
              "      background-color: #E8F0FE;\n",
              "      border: none;\n",
              "      border-radius: 50%;\n",
              "      cursor: pointer;\n",
              "      display: none;\n",
              "      fill: #1967D2;\n",
              "      height: 32px;\n",
              "      padding: 0 0 0 0;\n",
              "      width: 32px;\n",
              "    }\n",
              "\n",
              "    .colab-df-convert:hover {\n",
              "      background-color: #E2EBFA;\n",
              "      box-shadow: 0px 1px 2px rgba(60, 64, 67, 0.3), 0px 1px 3px 1px rgba(60, 64, 67, 0.15);\n",
              "      fill: #174EA6;\n",
              "    }\n",
              "\n",
              "    [theme=dark] .colab-df-convert {\n",
              "      background-color: #3B4455;\n",
              "      fill: #D2E3FC;\n",
              "    }\n",
              "\n",
              "    [theme=dark] .colab-df-convert:hover {\n",
              "      background-color: #434B5C;\n",
              "      box-shadow: 0px 1px 3px 1px rgba(0, 0, 0, 0.15);\n",
              "      filter: drop-shadow(0px 1px 2px rgba(0, 0, 0, 0.3));\n",
              "      fill: #FFFFFF;\n",
              "    }\n",
              "  </style>\n",
              "\n",
              "      <script>\n",
              "        const buttonEl =\n",
              "          document.querySelector('#df-baedf5a3-9151-4703-9a61-167b19f5fefd button.colab-df-convert');\n",
              "        buttonEl.style.display =\n",
              "          google.colab.kernel.accessAllowed ? 'block' : 'none';\n",
              "\n",
              "        async function convertToInteractive(key) {\n",
              "          const element = document.querySelector('#df-baedf5a3-9151-4703-9a61-167b19f5fefd');\n",
              "          const dataTable =\n",
              "            await google.colab.kernel.invokeFunction('convertToInteractive',\n",
              "                                                     [key], {});\n",
              "          if (!dataTable) return;\n",
              "\n",
              "          const docLinkHtml = 'Like what you see? Visit the ' +\n",
              "            '<a target=\"_blank\" href=https://colab.research.google.com/notebooks/data_table.ipynb>data table notebook</a>'\n",
              "            + ' to learn more about interactive tables.';\n",
              "          element.innerHTML = '';\n",
              "          dataTable['output_type'] = 'display_data';\n",
              "          await google.colab.output.renderOutput(dataTable, element);\n",
              "          const docLink = document.createElement('div');\n",
              "          docLink.innerHTML = docLinkHtml;\n",
              "          element.appendChild(docLink);\n",
              "        }\n",
              "      </script>\n",
              "    </div>\n",
              "  </div>\n"
            ]
          },
          "metadata": {},
          "execution_count": 5
        }
      ]
    },
    {
      "cell_type": "code",
      "source": [
        "# Tokenize the reports\n",
        "tokenized_reports = df['report'].apply(simple_preprocess)\n",
        "\n",
        "# Train a Word2Vec model\n",
        "word2vec = Word2Vec(sentences=tokenized_reports, vector_size=100, window=5, min_count=5, workers=4)\n",
        "\n",
        "# Function to convert a report into a vector\n",
        "def report_to_vector(report):\n",
        "    report_vec = []\n",
        "    numw = 0\n",
        "    for word in report:\n",
        "        try:\n",
        "            if numw == 0:\n",
        "                report_vec = word2vec.wv[word] # Use word2vec.wv[word] instead of model[word]\n",
        "            else:\n",
        "                report_vec = np.add(report_vec, word2vec.wv[word]) # Use word2vec.wv[word] instead of model[word]\n",
        "            numw+=1\n",
        "        except:\n",
        "            pass\n",
        "\n",
        "    return np.asarray(report_vec) / numw if numw != 0 else np.zeros(word2vec.vector_size)\n",
        "\n",
        "# Convert reports into vectors\n",
        "X = df['report'].apply(report_to_vector).tolist()"
      ],
      "metadata": {
        "id": "pR-28yaQvouJ"
      },
      "execution_count": 20,
      "outputs": []
    },
    {
      "cell_type": "code",
      "source": [
        "class Word2VecVectorizer(BaseEstimator, TransformerMixin):\n",
        "    def __init__(self, model):\n",
        "        self.model = model\n",
        "        self.size = model.vector_size\n",
        "\n",
        "    def fit(self, X, y=None):\n",
        "        return self\n",
        "\n",
        "    def transform(self, X):\n",
        "        return np.array([report_to_vector(report) for report in X])"
      ],
      "metadata": {
        "id": "UQZVvW8Jx1Pv"
      },
      "execution_count": 7,
      "outputs": []
    },
    {
      "cell_type": "code",
      "source": [
        "# Instantiate Word2Vec model (replace with your model parameters and training data)\n",
        "model = gensim.models.Word2Vec(sentences=tokenized_reports, vector_size=100, window=5, min_count=1, workers=4)\n",
        "\n",
        "# Define feature extractor\n",
        "vectorizer = Word2VecVectorizer(model)"
      ],
      "metadata": {
        "id": "k7dQ6agwpA6O"
      },
      "execution_count": null,
      "outputs": []
    },
    {
      "cell_type": "code",
      "source": [
        "print(tokenized_reports.head())"
      ],
      "metadata": {
        "id": "a3QCFRHwzBU7",
        "colab": {
          "base_uri": "https://localhost:8080/"
        },
        "outputId": "d98506c3-ddd4-4cf2-f456-6a8b7ba70cfe"
      },
      "execution_count": 22,
      "outputs": [
        {
          "output_type": "stream",
          "name": "stdout",
          "text": [
            "0    [my, friend, had, some, experience, with, and,...\n",
            "1    [this, was, the, first, experience, that, eith...\n",
            "2    [preparation, have, heard, some, conflicting, ...\n",
            "3    [preparation, have, heard, some, conflicting, ...\n",
            "4    [preparation, have, heard, some, conflicting, ...\n",
            "Name: report, dtype: object\n"
          ]
        }
      ]
    },
    {
      "cell_type": "code",
      "source": [
        "# Define the file paths in your Google Drive where you want to save the pickle files\n",
        "word2vec_model_file_path = '/content/drive/MyDrive/Colab Notebooks/Data/word2vec_model.pkl'\n",
        "word2vec_vectorizer_file_path = '/content/drive/MyDrive/Colab Notebooks/Data/word2vec_vectorizer.pkl'"
      ],
      "metadata": {
        "id": "-96yH4ppUXhE"
      },
      "execution_count": 9,
      "outputs": []
    },
    {
      "cell_type": "code",
      "source": [
        "# Pickle the Word2Vec model\n",
        "with open(word2vec_model_file_path, 'wb') as f:\n",
        "    pickle.dump(model, f)\n",
        "\n",
        "# Pickle the Word2VecVectorizer\n",
        "with open(word2vec_vectorizer_file_path, 'wb') as f:\n",
        "    pickle.dump(vectorizer, f)"
      ],
      "metadata": {
        "id": "dDrB_Yh1vpW1"
      },
      "execution_count": 24,
      "outputs": []
    },
    {
      "cell_type": "code",
      "source": [
        "model = gensim.models.Word2Vec()\n",
        "vectorizer = Word2VecVectorizer(model)\n",
        "\n",
        "# Load the Word2Vec model\n",
        "with open(word2vec_model_file_path, 'rb') as f:\n",
        "    model = pickle.load(f)\n",
        "\n",
        "# Load the Word2VecVectorizer\n",
        "with open(word2vec_vectorizer_file_path, 'rb') as f:\n",
        "    vectorizer = pickle.load(f)"
      ],
      "metadata": {
        "id": "cMcT75qDv3dt"
      },
      "execution_count": 10,
      "outputs": []
    },
    {
      "cell_type": "code",
      "source": [
        "# Retrieve the original text\n",
        "original_text = df['report'][0]\n",
        "\n",
        "# Retrieve the tokens generated from Word2Vec\n",
        "word2vec_tokens = tokenized_reports[0]\n",
        "\n",
        "# Compare\n",
        "print(\"Original Text:\", original_text)\n",
        "print(\"Word2Vec Tokens:\", word2vec_tokens)"
      ],
      "metadata": {
        "colab": {
          "base_uri": "https://localhost:8080/",
          "height": 235
        },
        "id": "J-QjWCQs8_0q",
        "outputId": "8a30e4b2-9e5c-4420-b39b-17228dfd6a04"
      },
      "execution_count": 11,
      "outputs": [
        {
          "output_type": "error",
          "ename": "NameError",
          "evalue": "ignored",
          "traceback": [
            "\u001b[0;31m---------------------------------------------------------------------------\u001b[0m",
            "\u001b[0;31mNameError\u001b[0m                                 Traceback (most recent call last)",
            "\u001b[0;32m<ipython-input-11-bfc70e4d448b>\u001b[0m in \u001b[0;36m<cell line: 5>\u001b[0;34m()\u001b[0m\n\u001b[1;32m      3\u001b[0m \u001b[0;34m\u001b[0m\u001b[0m\n\u001b[1;32m      4\u001b[0m \u001b[0;31m# Retrieve the tokens generated from Word2Vec\u001b[0m\u001b[0;34m\u001b[0m\u001b[0;34m\u001b[0m\u001b[0m\n\u001b[0;32m----> 5\u001b[0;31m \u001b[0mword2vec_tokens\u001b[0m \u001b[0;34m=\u001b[0m \u001b[0mtokenized_reports\u001b[0m\u001b[0;34m[\u001b[0m\u001b[0;36m0\u001b[0m\u001b[0;34m]\u001b[0m\u001b[0;34m\u001b[0m\u001b[0;34m\u001b[0m\u001b[0m\n\u001b[0m\u001b[1;32m      6\u001b[0m \u001b[0;34m\u001b[0m\u001b[0m\n\u001b[1;32m      7\u001b[0m \u001b[0;31m# Compare\u001b[0m\u001b[0;34m\u001b[0m\u001b[0;34m\u001b[0m\u001b[0m\n",
            "\u001b[0;31mNameError\u001b[0m: name 'tokenized_reports' is not defined"
          ]
        }
      ]
    },
    {
      "cell_type": "code",
      "source": [
        "# Tokenize the texts\n",
        "texts = df['processed_report'].apply(word_tokenize).tolist()\n",
        "\n",
        "# Create a Gensim dictionary from the texts\n",
        "dictionary = Dictionary(texts)\n",
        "\n",
        "# Remove extremes\n",
        "dictionary.filter_extremes(no_below=3, no_above=0.5)\n",
        "\n",
        "# Convert the dictionary into a bag-of-words corpus\n",
        "corpus = [dictionary.doc2bow(text) for text in texts]"
      ],
      "metadata": {
        "id": "HfKaA8vts45T"
      },
      "execution_count": null,
      "outputs": []
    },
    {
      "cell_type": "code",
      "source": [
        "# Initialize the LDA model with hyperparameters\n",
        "num_topics = 10\n",
        "lda = LdaModel(corpus=corpus, id2word=dictionary, num_topics=num_topics, passes=10)"
      ],
      "metadata": {
        "id": "H91Z-IFuOjKi"
      },
      "execution_count": 27,
      "outputs": []
    },
    {
      "cell_type": "code",
      "source": [
        "# Compute Coherence Score\n",
        "coherence_model_lda = CoherenceModel(model=lda, texts=texts, dictionary=dictionary, coherence='c_v')\n",
        "coherence_lda = coherence_model_lda.get_coherence()\n",
        "\n",
        "print(f'\\nCoherence Score: {coherence_lda}')"
      ],
      "metadata": {
        "colab": {
          "base_uri": "https://localhost:8080/"
        },
        "id": "UxjnAi-GvKcB",
        "outputId": "429c1301-270c-41ef-aa3b-293a1585edc7"
      },
      "execution_count": 28,
      "outputs": [
        {
          "output_type": "stream",
          "name": "stdout",
          "text": [
            "\n",
            "Coherence Score: 0.4189523267818478\n"
          ]
        }
      ]
    },
    {
      "cell_type": "code",
      "source": [
        "# Pickle the LDA model to the specified location\n",
        "with open('/content/drive/MyDrive/Colab Notebooks/Data/lda_model.pkl', 'wb') as f:\n",
        "    pickle.dump(lda, f)\n",
        "\n",
        "# Pickle the Dictionary to the specified location\n",
        "with open('/content/drive/MyDrive/Colab Notebooks/Data/dictionary.pkl', 'wb') as f:\n",
        "    pickle.dump(dictionary, f)\n",
        "\n",
        "# Pickle the CoherenceModel to the specified location\n",
        "with open('/content/drive/MyDrive/Colab Notebooks/Data/coherence_model.pkl', 'wb') as f:\n",
        "    pickle.dump(coherence_model_lda, f)"
      ],
      "metadata": {
        "id": "oyDh9pUNmif2"
      },
      "execution_count": 29,
      "outputs": []
    },
    {
      "cell_type": "code",
      "source": [
        "# Load the LDA model\n",
        "with open('/content/drive/MyDrive/Colab Notebooks/Data/lda_model.pkl', 'rb') as f:\n",
        "    lda_model = pickle.load(f)\n",
        "\n",
        "# Load the Dictionary\n",
        "with open('/content/drive/MyDrive/Colab Notebooks/Data/dictionary.pkl', 'rb') as f:\n",
        "    dictionary = pickle.load(f)\n",
        "\n",
        "# Load the CoherenceModel\n",
        "with open('/content/drive/MyDrive/Colab Notebooks/Data/coherence_model.pkl', 'rb') as f:\n",
        "    coherence_model_lda = pickle.load(f)"
      ],
      "metadata": {
        "id": "-ikTKWM7mkKv"
      },
      "execution_count": 33,
      "outputs": []
    },
    {
      "cell_type": "code",
      "source": [
        "def print_top_words(lda_model, dictionary, n_top_words):\n",
        "    for i, topic in enumerate(lda_model.get_topics()):\n",
        "        top_feature_ids = topic.argsort()[-n_top_words:][::-1]\n",
        "        features = [dictionary.id2token[token_id] for token_id in top_feature_ids]\n",
        "        print(f\"Topic {i + 1}: {', '.join(features)}\")\n",
        "\n",
        "print_top_words(lda, dictionary, n_top_words=10)"
      ],
      "metadata": {
        "id": "BadosxKfZm4A",
        "colab": {
          "base_uri": "https://localhost:8080/"
        },
        "outputId": "a1f4bd3d-1285-444f-9f95-229d6be299e2"
      },
      "execution_count": 30,
      "outputs": [
        {
          "output_type": "stream",
          "name": "stdout",
          "text": [
            "Topic 1: high, year, addict, opiat, snort, line, month, cocain, pill, everi\n",
            "Topic 2: walk, us, light, hous, beauti, tree, began, mushroom, visual, color\n",
            "Topic 3: tea, seed, water, tast, gram, drink, kratom, extract, plant, cup\n",
            "Topic 4: life, mind, world, sens, love, state, experienc, person, part, peopl\n",
            "Topic 5: dmt, nitrou, balloon, dpt, die, oxid, inhal, 5meodmt, ich, breakthrough\n",
            "Topic 6: rememb, said, told, ask, couldnt, room, say, happen, talk, tell\n",
            "Topic 7: eye, room, visual, hit, light, move, close, everyth, color, salvia\n",
            "Topic 8: peopl, talk, bit, pretti, weed, lot, roll, mdma, high, music\n",
            "Topic 9: sleep, dose, mg, pill, work, pain, week, anxieti, help, high\n",
            "Topic 10: dose, visual, mdma, mg, substanc, bit, stimul, psychedel, notic, report\n"
          ]
        }
      ]
    },
    {
      "cell_type": "code",
      "source": [
        "def generate_corpus(df_subset):\n",
        "    # If the reports are already tokenized\n",
        "    texts = df_subset['processed_report'].tolist()\n",
        "\n",
        "    # Create a Gensim dictionary from the texts\n",
        "    dictionary = Dictionary(texts)\n",
        "\n",
        "    # Remove extremes\n",
        "    dictionary.filter_extremes(no_below=3, no_above=0.5)\n",
        "\n",
        "    # Convert the dictionary into a bag-of-words corpus\n",
        "    corpus = [dictionary.doc2bow(text) for text in texts]\n",
        "\n",
        "    return corpus, dictionary\n",
        "\n",
        "# Get unique values in drug_category\n",
        "unique_categories = df['drug_category'].unique()\n",
        "\n",
        "# Iterate over unique categories\n",
        "for category in unique_categories:\n",
        "    # Filter the dataset based on the category\n",
        "    subset = df[df['drug_category'] == category]\n",
        "\n",
        "    # Generate the corpus and dictionary for the subset\n",
        "    corpus_subset, dictionary_subset = generate_corpus(subset)\n",
        "\n",
        "    # Apply LDA on the corpus\n",
        "    lda_subset = LdaModel(corpus=corpus_subset, id2word=dictionary_subset, num_topics=10, passes=10)\n",
        "\n",
        "    # Print the topics for the category\n",
        "    print(f\"Topics for category: {category}\")\n",
        "    for i in range(10):\n",
        "        print(f\"Topic {i+1}: {lda_subset.print_topic(i, 5)}\")  # prints top 5 words for each topic\n",
        "    print()"
      ],
      "metadata": {
        "id": "_9D31c6zGHid",
        "colab": {
          "base_uri": "https://localhost:8080/",
          "height": 380
        },
        "outputId": "c015a3ca-069d-46a9-92a9-54bdf12ebcb9"
      },
      "execution_count": 34,
      "outputs": [
        {
          "output_type": "error",
          "ename": "TypeError",
          "evalue": "ignored",
          "traceback": [
            "\u001b[0;31m---------------------------------------------------------------------------\u001b[0m",
            "\u001b[0;31mTypeError\u001b[0m                                 Traceback (most recent call last)",
            "\u001b[0;32m<ipython-input-34-ef2d7ce70c43>\u001b[0m in \u001b[0;36m<cell line: 20>\u001b[0;34m()\u001b[0m\n\u001b[1;32m     23\u001b[0m \u001b[0;34m\u001b[0m\u001b[0m\n\u001b[1;32m     24\u001b[0m     \u001b[0;31m# Generate the corpus and dictionary for the subset\u001b[0m\u001b[0;34m\u001b[0m\u001b[0;34m\u001b[0m\u001b[0m\n\u001b[0;32m---> 25\u001b[0;31m     \u001b[0mcorpus_subset\u001b[0m\u001b[0;34m,\u001b[0m \u001b[0mdictionary_subset\u001b[0m \u001b[0;34m=\u001b[0m \u001b[0mgenerate_corpus\u001b[0m\u001b[0;34m(\u001b[0m\u001b[0msubset\u001b[0m\u001b[0;34m)\u001b[0m\u001b[0;34m\u001b[0m\u001b[0;34m\u001b[0m\u001b[0m\n\u001b[0m\u001b[1;32m     26\u001b[0m \u001b[0;34m\u001b[0m\u001b[0m\n\u001b[1;32m     27\u001b[0m     \u001b[0;31m# Apply LDA on the corpus\u001b[0m\u001b[0;34m\u001b[0m\u001b[0;34m\u001b[0m\u001b[0m\n",
            "\u001b[0;32m<ipython-input-34-ef2d7ce70c43>\u001b[0m in \u001b[0;36mgenerate_corpus\u001b[0;34m(df_subset)\u001b[0m\n\u001b[1;32m      4\u001b[0m \u001b[0;34m\u001b[0m\u001b[0m\n\u001b[1;32m      5\u001b[0m     \u001b[0;31m# Create a Gensim dictionary from the texts\u001b[0m\u001b[0;34m\u001b[0m\u001b[0;34m\u001b[0m\u001b[0m\n\u001b[0;32m----> 6\u001b[0;31m     \u001b[0mdictionary\u001b[0m \u001b[0;34m=\u001b[0m \u001b[0mDictionary\u001b[0m\u001b[0;34m(\u001b[0m\u001b[0mtexts\u001b[0m\u001b[0;34m)\u001b[0m\u001b[0;34m\u001b[0m\u001b[0;34m\u001b[0m\u001b[0m\n\u001b[0m\u001b[1;32m      7\u001b[0m \u001b[0;34m\u001b[0m\u001b[0m\n\u001b[1;32m      8\u001b[0m     \u001b[0;31m# Remove extremes\u001b[0m\u001b[0;34m\u001b[0m\u001b[0;34m\u001b[0m\u001b[0m\n",
            "\u001b[0;32m/usr/local/lib/python3.10/dist-packages/gensim/corpora/dictionary.py\u001b[0m in \u001b[0;36m__init__\u001b[0;34m(self, documents, prune_at)\u001b[0m\n\u001b[1;32m     76\u001b[0m \u001b[0;34m\u001b[0m\u001b[0m\n\u001b[1;32m     77\u001b[0m         \u001b[0;32mif\u001b[0m \u001b[0mdocuments\u001b[0m \u001b[0;32mis\u001b[0m \u001b[0;32mnot\u001b[0m \u001b[0;32mNone\u001b[0m\u001b[0;34m:\u001b[0m\u001b[0;34m\u001b[0m\u001b[0;34m\u001b[0m\u001b[0m\n\u001b[0;32m---> 78\u001b[0;31m             \u001b[0mself\u001b[0m\u001b[0;34m.\u001b[0m\u001b[0madd_documents\u001b[0m\u001b[0;34m(\u001b[0m\u001b[0mdocuments\u001b[0m\u001b[0;34m,\u001b[0m \u001b[0mprune_at\u001b[0m\u001b[0;34m=\u001b[0m\u001b[0mprune_at\u001b[0m\u001b[0;34m)\u001b[0m\u001b[0;34m\u001b[0m\u001b[0;34m\u001b[0m\u001b[0m\n\u001b[0m\u001b[1;32m     79\u001b[0m             self.add_lifecycle_event(\n\u001b[1;32m     80\u001b[0m                 \u001b[0;34m\"created\"\u001b[0m\u001b[0;34m,\u001b[0m\u001b[0;34m\u001b[0m\u001b[0;34m\u001b[0m\u001b[0m\n",
            "\u001b[0;32m/usr/local/lib/python3.10/dist-packages/gensim/corpora/dictionary.py\u001b[0m in \u001b[0;36madd_documents\u001b[0;34m(self, documents, prune_at)\u001b[0m\n\u001b[1;32m    202\u001b[0m \u001b[0;34m\u001b[0m\u001b[0m\n\u001b[1;32m    203\u001b[0m             \u001b[0;31m# update Dictionary with the document\u001b[0m\u001b[0;34m\u001b[0m\u001b[0;34m\u001b[0m\u001b[0m\n\u001b[0;32m--> 204\u001b[0;31m             \u001b[0mself\u001b[0m\u001b[0;34m.\u001b[0m\u001b[0mdoc2bow\u001b[0m\u001b[0;34m(\u001b[0m\u001b[0mdocument\u001b[0m\u001b[0;34m,\u001b[0m \u001b[0mallow_update\u001b[0m\u001b[0;34m=\u001b[0m\u001b[0;32mTrue\u001b[0m\u001b[0;34m)\u001b[0m  \u001b[0;31m# ignore the result, here we only care about updating token ids\u001b[0m\u001b[0;34m\u001b[0m\u001b[0;34m\u001b[0m\u001b[0m\n\u001b[0m\u001b[1;32m    205\u001b[0m \u001b[0;34m\u001b[0m\u001b[0m\n\u001b[1;32m    206\u001b[0m         \u001b[0mlogger\u001b[0m\u001b[0;34m.\u001b[0m\u001b[0minfo\u001b[0m\u001b[0;34m(\u001b[0m\u001b[0;34m\"built %s from %i documents (total %i corpus positions)\"\u001b[0m\u001b[0;34m,\u001b[0m \u001b[0mself\u001b[0m\u001b[0;34m,\u001b[0m \u001b[0mself\u001b[0m\u001b[0;34m.\u001b[0m\u001b[0mnum_docs\u001b[0m\u001b[0;34m,\u001b[0m \u001b[0mself\u001b[0m\u001b[0;34m.\u001b[0m\u001b[0mnum_pos\u001b[0m\u001b[0;34m)\u001b[0m\u001b[0;34m\u001b[0m\u001b[0;34m\u001b[0m\u001b[0m\n",
            "\u001b[0;32m/usr/local/lib/python3.10/dist-packages/gensim/corpora/dictionary.py\u001b[0m in \u001b[0;36mdoc2bow\u001b[0;34m(self, document, allow_update, return_missing)\u001b[0m\n\u001b[1;32m    239\u001b[0m         \"\"\"\n\u001b[1;32m    240\u001b[0m         \u001b[0;32mif\u001b[0m \u001b[0misinstance\u001b[0m\u001b[0;34m(\u001b[0m\u001b[0mdocument\u001b[0m\u001b[0;34m,\u001b[0m \u001b[0mstr\u001b[0m\u001b[0;34m)\u001b[0m\u001b[0;34m:\u001b[0m\u001b[0;34m\u001b[0m\u001b[0;34m\u001b[0m\u001b[0m\n\u001b[0;32m--> 241\u001b[0;31m             \u001b[0;32mraise\u001b[0m \u001b[0mTypeError\u001b[0m\u001b[0;34m(\u001b[0m\u001b[0;34m\"doc2bow expects an array of unicode tokens on input, not a single string\"\u001b[0m\u001b[0;34m)\u001b[0m\u001b[0;34m\u001b[0m\u001b[0;34m\u001b[0m\u001b[0m\n\u001b[0m\u001b[1;32m    242\u001b[0m \u001b[0;34m\u001b[0m\u001b[0m\n\u001b[1;32m    243\u001b[0m         \u001b[0;31m# Construct (word, frequency) mapping.\u001b[0m\u001b[0;34m\u001b[0m\u001b[0;34m\u001b[0m\u001b[0m\n",
            "\u001b[0;31mTypeError\u001b[0m: doc2bow expects an array of unicode tokens on input, not a single string"
          ]
        }
      ]
    },
    {
      "cell_type": "code",
      "source": [
        "# Get unique values in drug_category\n",
        "unique_categories = df['drug_category'].unique()\n",
        "\n",
        "# Iterate over unique categories\n",
        "for category in unique_categories:\n",
        "    # Filter the dataset based on the category\n",
        "    subset = df[df['drug_category'] == category]\n",
        "\n",
        "    # Generate the corpus and dictionary for the subset\n",
        "    corpus_subset, dictionary_subset = generate_corpus(subset)\n",
        "\n",
        "    # Apply LDA on the corpus\n",
        "    lda_subset = LdaModel(corpus=corpus_subset, id2word=dictionary_subset, num_topics=10, passes=10)\n",
        "\n",
        "    # Print the topics for the category\n",
        "    print(f\"Topics for category: {category}\")\n",
        "    for i in range(10):\n",
        "        print(f\"Topic {i+1}: {lda_subset.print_topic(i, 5)}\")  # prints top 5 words for each topic\n",
        "    print()"
      ],
      "metadata": {
        "id": "MMcxy0OOux1J"
      },
      "execution_count": null,
      "outputs": []
    },
    {
      "cell_type": "code",
      "source": [
        "from wordcloud import WordCloud\n",
        "import matplotlib.pyplot as plt\n",
        "\n",
        "# Filter the dataset for the \"Psychedelic\" drug category\n",
        "subset = df[df['drug_category'] == 'Psychedelic']\n",
        "\n",
        "# Tokenize the texts\n",
        "texts = subset['report'].apply(word_tokenize).tolist()\n",
        "\n",
        "# Create a Gensim dictionary from the texts\n",
        "dictionary = Dictionary(texts)\n",
        "\n",
        "# Convert the dictionary into a bag-of-words corpus\n",
        "corpus = [dictionary.doc2bow(text) for text in texts]\n",
        "\n",
        "# Apply LDA on the corpus\n",
        "lda = LdaModel(corpus=corpus, id2word=dictionary, num_topics=10, passes=10)\n",
        "\n",
        "# Assuming we want to create a wordcloud for the first topic\n",
        "topic_num = 0\n",
        "topic_terms = lda.get_topic_terms(topic_num, topn=len(dictionary))\n",
        "\n",
        "# Create a dictionary with word frequencies\n",
        "word_freq = {dictionary.get(id): freq for id, freq in topic_terms}\n",
        "\n",
        "# Generate a word cloud\n",
        "wordcloud = WordCloud(width=800, height=400, background_color='white').generate_from_frequencies(word_freq)\n",
        "\n",
        "# Display the word cloud\n",
        "plt.figure(figsize=(10, 5))\n",
        "plt.imshow(wordcloud, interpolation='bilinear')\n",
        "plt.axis('off')\n",
        "plt.show()"
      ],
      "metadata": {
        "id": "iaPBZoIGGJAj"
      },
      "execution_count": null,
      "outputs": []
    },
    {
      "cell_type": "code",
      "source": [
        "# Define oversampler\n",
        "oversampler = SMOTE()\n",
        "\n",
        "# Encode the labels in y\n",
        "label_encoder = LabelEncoder()\n",
        "y_encoded = label_encoder.fit_transform(y)\n",
        "\n",
        "# Set up the XGBoost parameters\n",
        "params = {\n",
        "    'objective': 'multi:softmax',\n",
        "    'num_class': 3\n",
        "}\n",
        "\n",
        "# Define classifiers\n",
        "classifiers = {\n",
        "    'Logistic Regression': LogisticRegression(max_iter=1000, class_weight=class_weights),\n",
        "    'Random Forest': RandomForestClassifier(class_weight=class_weights, n_estimators=100, random_state=42),\n",
        "    'XGB': XGBClassifier(eval_metric='mlogloss')\n",
        "}\n",
        "\n",
        "# Define pipelines\n",
        "pipelines = {\n",
        "    name: make_pipeline(oversampler, model)\n",
        "    for name, model in classifiers.items()\n",
        "}\n",
        "\n",
        "# Split your data\n",
        "X_train, X_test, y_train, y_test = train_test_split(X, y, test_size=0.2, random_state=42)"
      ],
      "metadata": {
        "id": "GRoESyJ3qfoI"
      },
      "execution_count": null,
      "outputs": []
    },
    {
      "cell_type": "code",
      "source": [
        "# Fit and evaluate Logistic Regression\n",
        "print('\\nTraining Logistic Regression...')\n",
        "pipeline.fit(X_train, y_train)\n",
        "y_pred_lr = pipeline.predict(X_test)\n",
        "print('\\nLogistic Regression:')\n",
        "print(classification_report(y_test, y_pred_lr, target_names=encoder.classes_, zero_division=1))"
      ],
      "metadata": {
        "id": "8uyV3a7yqufm",
        "colab": {
          "base_uri": "https://localhost:8080/",
          "height": 269
        },
        "outputId": "dc923e21-8195-4e20-a5f7-b268ef6b7e32"
      },
      "execution_count": null,
      "outputs": [
        {
          "output_type": "stream",
          "name": "stdout",
          "text": [
            "\n",
            "Training Logistic Regression...\n"
          ]
        },
        {
          "output_type": "error",
          "ename": "NameError",
          "evalue": "ignored",
          "traceback": [
            "\u001b[0;31m---------------------------------------------------------------------------\u001b[0m",
            "\u001b[0;31mNameError\u001b[0m                                 Traceback (most recent call last)",
            "\u001b[0;32m<ipython-input-25-2d3e320a4c5d>\u001b[0m in \u001b[0;36m<cell line: 3>\u001b[0;34m()\u001b[0m\n\u001b[1;32m      1\u001b[0m \u001b[0;31m# Fit and evaluate Logistic Regression\u001b[0m\u001b[0;34m\u001b[0m\u001b[0;34m\u001b[0m\u001b[0m\n\u001b[1;32m      2\u001b[0m \u001b[0mprint\u001b[0m\u001b[0;34m(\u001b[0m\u001b[0;34m'\\nTraining Logistic Regression...'\u001b[0m\u001b[0;34m)\u001b[0m\u001b[0;34m\u001b[0m\u001b[0;34m\u001b[0m\u001b[0m\n\u001b[0;32m----> 3\u001b[0;31m \u001b[0mpipeline\u001b[0m\u001b[0;34m.\u001b[0m\u001b[0mfit\u001b[0m\u001b[0;34m(\u001b[0m\u001b[0mX_train\u001b[0m\u001b[0;34m,\u001b[0m \u001b[0my_train\u001b[0m\u001b[0;34m)\u001b[0m\u001b[0;34m\u001b[0m\u001b[0;34m\u001b[0m\u001b[0m\n\u001b[0m\u001b[1;32m      4\u001b[0m \u001b[0my_pred_lr\u001b[0m \u001b[0;34m=\u001b[0m \u001b[0mpipeline\u001b[0m\u001b[0;34m.\u001b[0m\u001b[0mpredict\u001b[0m\u001b[0;34m(\u001b[0m\u001b[0mX_test\u001b[0m\u001b[0;34m)\u001b[0m\u001b[0;34m\u001b[0m\u001b[0;34m\u001b[0m\u001b[0m\n\u001b[1;32m      5\u001b[0m \u001b[0mprint\u001b[0m\u001b[0;34m(\u001b[0m\u001b[0;34m'\\nLogistic Regression:'\u001b[0m\u001b[0;34m)\u001b[0m\u001b[0;34m\u001b[0m\u001b[0;34m\u001b[0m\u001b[0m\n",
            "\u001b[0;31mNameError\u001b[0m: name 'pipeline' is not defined"
          ]
        }
      ]
    },
    {
      "cell_type": "code",
      "source": [
        "# Fit and evaluate Random Forest\n",
        "print('\\nTraining Random Forest...')\n",
        "pipeline.fit(X_train, y_train)\n",
        "y_pred = pipeline.predict(X_test)\n",
        "print('\\nRandom Forest:')\n",
        "print(classification_report(y_test, y_pred_rf, target_names=encoder.classes_, zero_division=1))"
      ],
      "metadata": {
        "id": "VMEvL0TDskUu"
      },
      "execution_count": null,
      "outputs": []
    },
    {
      "cell_type": "code",
      "source": [
        "# Fit and evaluate XGBoost with the pipeline\n",
        "print('\\nTraining XGB through pipeline...')\n",
        "pipeline_xgb.fit(X_train, y_train, xgbclassifier__sample_weight=weights_train)\n",
        "y_pred_xgb = pipeline_xgb.predict(X_test)\n",
        "print('\\nXGBoost (through pipeline):')\n",
        "print(classification_report(y_test, y_pred_xgb, target_names=encoder.classes_, zero_division=1))"
      ],
      "metadata": {
        "id": "THJ1mhvLvLT-"
      },
      "execution_count": null,
      "outputs": []
    },
    {
      "cell_type": "code",
      "source": [
        "# Define the parameter grid\n",
        "param_grid = {'C': [0.1, 1, 10, 100], 'penalty': ['l1', 'l2']}\n",
        "\n",
        "# Create a GridSearchCV object\n",
        "grid_search = GridSearchCV(lr, param_grid, cv=5)\n",
        "\n",
        "# Perform grid search\n",
        "grid_search.fit(X_train, y_train)\n",
        "\n",
        "# Print the best parameters and the best score\n",
        "print(grid_search.best_params_)\n",
        "print(grid_search.best_score_)\n"
      ],
      "metadata": {
        "id": "u_15jvfzOlg1"
      },
      "execution_count": null,
      "outputs": []
    },
    {
      "cell_type": "code",
      "source": [
        "# Define the parameter grid\n",
        "param_grid = {\n",
        "    'n_components': [5, 10, 15],  # Number of topics\n",
        "    'learning_method': ['batch', 'online'],  # Learning method\n",
        "    'doc_topic_prior': [0.1, 0.5, 1.0],  # Alpha parameter\n",
        "    'topic_word_prior': [0.01, 0.1, 1.0]  # Beta parameter\n",
        "}\n",
        "\n",
        "# Create the GridSearchCV object\n",
        "grid_search = GridSearchCV(lda, param_grid, cv=3)\n",
        "\n",
        "# Fit the grid search to the data\n",
        "grid_search.fit(X)\n",
        "\n",
        "# Print the best parameters and score\n",
        "print(\"Best Parameters:\", grid_search.best_params_)\n",
        "print(\"Best Score:\", grid_search.best_score_)"
      ],
      "metadata": {
        "id": "UuQCDXTehOQt"
      },
      "execution_count": null,
      "outputs": []
    }
  ]
}