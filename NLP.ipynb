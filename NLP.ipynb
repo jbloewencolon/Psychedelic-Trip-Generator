{
  "nbformat": 4,
  "nbformat_minor": 0,
  "metadata": {
    "colab": {
      "provenance": [],
      "mount_file_id": "1G_HBjSnrJAx4Sd--fgYycIWWtnqQNHXD",
      "authorship_tag": "ABX9TyN8JGvM+2xUbf5SyWFhTbyL",
      "include_colab_link": true
    },
    "kernelspec": {
      "name": "python3",
      "display_name": "Python 3"
    },
    "language_info": {
      "name": "python"
    }
  },
  "cells": [
    {
      "cell_type": "markdown",
      "metadata": {
        "id": "view-in-github",
        "colab_type": "text"
      },
      "source": [
        "<a href=\"https://colab.research.google.com/github/jbloewencolon/Psychedelic-Trip-Generator/blob/main/NLP.ipynb\" target=\"_parent\"><img src=\"https://colab.research.google.com/assets/colab-badge.svg\" alt=\"Open In Colab\"/></a>"
      ]
    },
    {
      "cell_type": "code",
      "execution_count": 24,
      "metadata": {
        "id": "3L8ThvWC-cvL"
      },
      "outputs": [],
      "source": [
        "import pandas as pd\n",
        "import numpy as np\n",
        "import gensim\n",
        "import re\n",
        "from sklearn.pipeline import Pipeline\n",
        "from sklearn.linear_model import LogisticRegression\n",
        "from sklearn.feature_extraction.text import TfidfVectorizer\n",
        "from sklearn.decomposition import LatentDirichletAllocation as LDA\n",
        "from sklearn.model_selection import GridSearchCV\n",
        "from sklearn.model_selection import train_test_split\n",
        "from sklearn.feature_extraction.text import TfidfVectorizer\n",
        "from sklearn.ensemble import RandomForestClassifier\n",
        "from sklearn.metrics import classification_report\n",
        "from sklearn.preprocessing import LabelEncoder, StandardScaler\n",
        "from imblearn.over_sampling import SMOTE\n",
        "from imblearn.pipeline import make_pipeline as make_pipeline_imb\n",
        "from xgboost import XGBClassifier\n",
        "from gensim.models import Word2Vec\n",
        "from gensim.utils import simple_preprocess\n",
        "from sklearn.base import BaseEstimator, TransformerMixin\n"
      ]
    },
    {
      "cell_type": "code",
      "source": [
        "df = pd.read_csv('/content/drive/MyDrive/Colab Notebooks/Data/processed.csv')"
      ],
      "metadata": {
        "id": "H590US3U_Zen"
      },
      "execution_count": 10,
      "outputs": []
    },
    {
      "cell_type": "code",
      "source": [
        "df.info()"
      ],
      "metadata": {
        "id": "mzo_TlQNG-x_",
        "outputId": "04b0131a-c998-4a9a-828d-73924124262e",
        "colab": {
          "base_uri": "https://localhost:8080/"
        }
      },
      "execution_count": 11,
      "outputs": [
        {
          "output_type": "stream",
          "name": "stdout",
          "text": [
            "<class 'pandas.core.frame.DataFrame'>\n",
            "RangeIndex: 77088 entries, 0 to 77087\n",
            "Data columns (total 11 columns):\n",
            " #   Column            Non-Null Count  Dtype \n",
            "---  ------            --------------  ----- \n",
            " 0   title             76974 non-null  object\n",
            " 1   drug              76969 non-null  object\n",
            " 2   dosage            74319 non-null  object\n",
            " 3   delivery          74718 non-null  object\n",
            " 4   weight            77088 non-null  int64 \n",
            " 5   year              77088 non-null  int64 \n",
            " 6   gender            76967 non-null  object\n",
            " 7   report            76959 non-null  object\n",
            " 8   processed_report  76959 non-null  object\n",
            " 9   mixed             77088 non-null  int64 \n",
            " 10  drug_category     77088 non-null  object\n",
            "dtypes: int64(3), object(8)\n",
            "memory usage: 6.5+ MB\n"
          ]
        }
      ]
    },
    {
      "cell_type": "code",
      "source": [
        "# Drop rows with missing 'drug_category' or 'processed_report'\n",
        "df = df.dropna(subset=['drug_category', 'processed_report'])\n",
        "df.info()"
      ],
      "metadata": {
        "colab": {
          "base_uri": "https://localhost:8080/"
        },
        "id": "YbhusvMOIXe1",
        "outputId": "bddcaa5f-6939-410f-be39-cc321e21c752"
      },
      "execution_count": 12,
      "outputs": [
        {
          "output_type": "stream",
          "name": "stdout",
          "text": [
            "<class 'pandas.core.frame.DataFrame'>\n",
            "Int64Index: 76959 entries, 0 to 77087\n",
            "Data columns (total 11 columns):\n",
            " #   Column            Non-Null Count  Dtype \n",
            "---  ------            --------------  ----- \n",
            " 0   title             76959 non-null  object\n",
            " 1   drug              76958 non-null  object\n",
            " 2   dosage            74190 non-null  object\n",
            " 3   delivery          74709 non-null  object\n",
            " 4   weight            76959 non-null  int64 \n",
            " 5   year              76959 non-null  int64 \n",
            " 6   gender            76959 non-null  object\n",
            " 7   report            76959 non-null  object\n",
            " 8   processed_report  76959 non-null  object\n",
            " 9   mixed             76959 non-null  int64 \n",
            " 10  drug_category     76959 non-null  object\n",
            "dtypes: int64(3), object(8)\n",
            "memory usage: 7.0+ MB\n"
          ]
        }
      ]
    },
    {
      "cell_type": "code",
      "source": [
        "df.head()"
      ],
      "metadata": {
        "id": "uXoi-tsyHAnO",
        "outputId": "9e2f019b-9395-480b-a4d1-f616961c4106",
        "colab": {
          "base_uri": "https://localhost:8080/",
          "height": 206
        }
      },
      "execution_count": 13,
      "outputs": [
        {
          "output_type": "execute_result",
          "data": {
            "text/plain": [
              "                                   title      drug       dosage      delivery  \\\n",
              "0                             Ode to Joy      mdma  1.5 tablets          oral   \n",
              "1  Make Sure the Music's Not Too Complex  cannabis      unknown        smoked   \n",
              "2                            After Hours      mdma       160 mg          oral   \n",
              "3                            After Hours      mdma       100 mg          oral   \n",
              "4                            After Hours      mdma        50 mg   insufflated   \n",
              "\n",
              "   weight  year         gender  \\\n",
              "0     185  2000           male   \n",
              "1     152  1999  not specified   \n",
              "2     150  2001           male   \n",
              "3     150  2001           male   \n",
              "4     150  2001           male   \n",
              "\n",
              "                                              report  \\\n",
              "0  My friend had some experience with X and had t...   \n",
              "1  This was the first experience that either my f...   \n",
              "2  Preparation: I have heard some conflicting opi...   \n",
              "3  Preparation: I have heard some conflicting opi...   \n",
              "4  Preparation: I have heard some conflicting opi...   \n",
              "\n",
              "                                    processed_report  mixed drug_category  \n",
              "0  friend experi x told one day said come across ...      0          mdma  \n",
              "1  first experi either friend salvia housem check...      0      cannabis  \n",
              "2  prepar heard conflict opinion 5htp ie load day...      1          mdma  \n",
              "3  prepar heard conflict opinion 5htp ie load day...      1          mdma  \n",
              "4  prepar heard conflict opinion 5htp ie load day...      1          mdma  "
            ],
            "text/html": [
              "\n",
              "\n",
              "  <div id=\"df-87af8d6e-3818-4870-a2cf-ae2189c00ab3\">\n",
              "    <div class=\"colab-df-container\">\n",
              "      <div>\n",
              "<style scoped>\n",
              "    .dataframe tbody tr th:only-of-type {\n",
              "        vertical-align: middle;\n",
              "    }\n",
              "\n",
              "    .dataframe tbody tr th {\n",
              "        vertical-align: top;\n",
              "    }\n",
              "\n",
              "    .dataframe thead th {\n",
              "        text-align: right;\n",
              "    }\n",
              "</style>\n",
              "<table border=\"1\" class=\"dataframe\">\n",
              "  <thead>\n",
              "    <tr style=\"text-align: right;\">\n",
              "      <th></th>\n",
              "      <th>title</th>\n",
              "      <th>drug</th>\n",
              "      <th>dosage</th>\n",
              "      <th>delivery</th>\n",
              "      <th>weight</th>\n",
              "      <th>year</th>\n",
              "      <th>gender</th>\n",
              "      <th>report</th>\n",
              "      <th>processed_report</th>\n",
              "      <th>mixed</th>\n",
              "      <th>drug_category</th>\n",
              "    </tr>\n",
              "  </thead>\n",
              "  <tbody>\n",
              "    <tr>\n",
              "      <th>0</th>\n",
              "      <td>Ode to Joy</td>\n",
              "      <td>mdma</td>\n",
              "      <td>1.5 tablets</td>\n",
              "      <td>oral</td>\n",
              "      <td>185</td>\n",
              "      <td>2000</td>\n",
              "      <td>male</td>\n",
              "      <td>My friend had some experience with X and had t...</td>\n",
              "      <td>friend experi x told one day said come across ...</td>\n",
              "      <td>0</td>\n",
              "      <td>mdma</td>\n",
              "    </tr>\n",
              "    <tr>\n",
              "      <th>1</th>\n",
              "      <td>Make Sure the Music's Not Too Complex</td>\n",
              "      <td>cannabis</td>\n",
              "      <td>unknown</td>\n",
              "      <td>smoked</td>\n",
              "      <td>152</td>\n",
              "      <td>1999</td>\n",
              "      <td>not specified</td>\n",
              "      <td>This was the first experience that either my f...</td>\n",
              "      <td>first experi either friend salvia housem check...</td>\n",
              "      <td>0</td>\n",
              "      <td>cannabis</td>\n",
              "    </tr>\n",
              "    <tr>\n",
              "      <th>2</th>\n",
              "      <td>After Hours</td>\n",
              "      <td>mdma</td>\n",
              "      <td>160 mg</td>\n",
              "      <td>oral</td>\n",
              "      <td>150</td>\n",
              "      <td>2001</td>\n",
              "      <td>male</td>\n",
              "      <td>Preparation: I have heard some conflicting opi...</td>\n",
              "      <td>prepar heard conflict opinion 5htp ie load day...</td>\n",
              "      <td>1</td>\n",
              "      <td>mdma</td>\n",
              "    </tr>\n",
              "    <tr>\n",
              "      <th>3</th>\n",
              "      <td>After Hours</td>\n",
              "      <td>mdma</td>\n",
              "      <td>100 mg</td>\n",
              "      <td>oral</td>\n",
              "      <td>150</td>\n",
              "      <td>2001</td>\n",
              "      <td>male</td>\n",
              "      <td>Preparation: I have heard some conflicting opi...</td>\n",
              "      <td>prepar heard conflict opinion 5htp ie load day...</td>\n",
              "      <td>1</td>\n",
              "      <td>mdma</td>\n",
              "    </tr>\n",
              "    <tr>\n",
              "      <th>4</th>\n",
              "      <td>After Hours</td>\n",
              "      <td>mdma</td>\n",
              "      <td>50 mg</td>\n",
              "      <td>insufflated</td>\n",
              "      <td>150</td>\n",
              "      <td>2001</td>\n",
              "      <td>male</td>\n",
              "      <td>Preparation: I have heard some conflicting opi...</td>\n",
              "      <td>prepar heard conflict opinion 5htp ie load day...</td>\n",
              "      <td>1</td>\n",
              "      <td>mdma</td>\n",
              "    </tr>\n",
              "  </tbody>\n",
              "</table>\n",
              "</div>\n",
              "      <button class=\"colab-df-convert\" onclick=\"convertToInteractive('df-87af8d6e-3818-4870-a2cf-ae2189c00ab3')\"\n",
              "              title=\"Convert this dataframe to an interactive table.\"\n",
              "              style=\"display:none;\">\n",
              "\n",
              "  <svg xmlns=\"http://www.w3.org/2000/svg\" height=\"24px\"viewBox=\"0 0 24 24\"\n",
              "       width=\"24px\">\n",
              "    <path d=\"M0 0h24v24H0V0z\" fill=\"none\"/>\n",
              "    <path d=\"M18.56 5.44l.94 2.06.94-2.06 2.06-.94-2.06-.94-.94-2.06-.94 2.06-2.06.94zm-11 1L8.5 8.5l.94-2.06 2.06-.94-2.06-.94L8.5 2.5l-.94 2.06-2.06.94zm10 10l.94 2.06.94-2.06 2.06-.94-2.06-.94-.94-2.06-.94 2.06-2.06.94z\"/><path d=\"M17.41 7.96l-1.37-1.37c-.4-.4-.92-.59-1.43-.59-.52 0-1.04.2-1.43.59L10.3 9.45l-7.72 7.72c-.78.78-.78 2.05 0 2.83L4 21.41c.39.39.9.59 1.41.59.51 0 1.02-.2 1.41-.59l7.78-7.78 2.81-2.81c.8-.78.8-2.07 0-2.86zM5.41 20L4 18.59l7.72-7.72 1.47 1.35L5.41 20z\"/>\n",
              "  </svg>\n",
              "      </button>\n",
              "\n",
              "\n",
              "\n",
              "    <div id=\"df-da8d8cd1-577b-45b5-9780-7e089af44395\">\n",
              "      <button class=\"colab-df-quickchart\" onclick=\"quickchart('df-da8d8cd1-577b-45b5-9780-7e089af44395')\"\n",
              "              title=\"Suggest charts.\"\n",
              "              style=\"display:none;\">\n",
              "\n",
              "<svg xmlns=\"http://www.w3.org/2000/svg\" height=\"24px\"viewBox=\"0 0 24 24\"\n",
              "     width=\"24px\">\n",
              "    <g>\n",
              "        <path d=\"M19 3H5c-1.1 0-2 .9-2 2v14c0 1.1.9 2 2 2h14c1.1 0 2-.9 2-2V5c0-1.1-.9-2-2-2zM9 17H7v-7h2v7zm4 0h-2V7h2v10zm4 0h-2v-4h2v4z\"/>\n",
              "    </g>\n",
              "</svg>\n",
              "      </button>\n",
              "    </div>\n",
              "\n",
              "<style>\n",
              "  .colab-df-quickchart {\n",
              "    background-color: #E8F0FE;\n",
              "    border: none;\n",
              "    border-radius: 50%;\n",
              "    cursor: pointer;\n",
              "    display: none;\n",
              "    fill: #1967D2;\n",
              "    height: 32px;\n",
              "    padding: 0 0 0 0;\n",
              "    width: 32px;\n",
              "  }\n",
              "\n",
              "  .colab-df-quickchart:hover {\n",
              "    background-color: #E2EBFA;\n",
              "    box-shadow: 0px 1px 2px rgba(60, 64, 67, 0.3), 0px 1px 3px 1px rgba(60, 64, 67, 0.15);\n",
              "    fill: #174EA6;\n",
              "  }\n",
              "\n",
              "  [theme=dark] .colab-df-quickchart {\n",
              "    background-color: #3B4455;\n",
              "    fill: #D2E3FC;\n",
              "  }\n",
              "\n",
              "  [theme=dark] .colab-df-quickchart:hover {\n",
              "    background-color: #434B5C;\n",
              "    box-shadow: 0px 1px 3px 1px rgba(0, 0, 0, 0.15);\n",
              "    filter: drop-shadow(0px 1px 2px rgba(0, 0, 0, 0.3));\n",
              "    fill: #FFFFFF;\n",
              "  }\n",
              "</style>\n",
              "\n",
              "    <script>\n",
              "      async function quickchart(key) {\n",
              "        const containerElement = document.querySelector('#' + key);\n",
              "        const charts = await google.colab.kernel.invokeFunction(\n",
              "            'suggestCharts', [key], {});\n",
              "      }\n",
              "    </script>\n",
              "\n",
              "      <script>\n",
              "\n",
              "function displayQuickchartButton(domScope) {\n",
              "  let quickchartButtonEl =\n",
              "    domScope.querySelector('#df-da8d8cd1-577b-45b5-9780-7e089af44395 button.colab-df-quickchart');\n",
              "  quickchartButtonEl.style.display =\n",
              "    google.colab.kernel.accessAllowed ? 'block' : 'none';\n",
              "}\n",
              "\n",
              "        displayQuickchartButton(document);\n",
              "      </script>\n",
              "      <style>\n",
              "    .colab-df-container {\n",
              "      display:flex;\n",
              "      flex-wrap:wrap;\n",
              "      gap: 12px;\n",
              "    }\n",
              "\n",
              "    .colab-df-convert {\n",
              "      background-color: #E8F0FE;\n",
              "      border: none;\n",
              "      border-radius: 50%;\n",
              "      cursor: pointer;\n",
              "      display: none;\n",
              "      fill: #1967D2;\n",
              "      height: 32px;\n",
              "      padding: 0 0 0 0;\n",
              "      width: 32px;\n",
              "    }\n",
              "\n",
              "    .colab-df-convert:hover {\n",
              "      background-color: #E2EBFA;\n",
              "      box-shadow: 0px 1px 2px rgba(60, 64, 67, 0.3), 0px 1px 3px 1px rgba(60, 64, 67, 0.15);\n",
              "      fill: #174EA6;\n",
              "    }\n",
              "\n",
              "    [theme=dark] .colab-df-convert {\n",
              "      background-color: #3B4455;\n",
              "      fill: #D2E3FC;\n",
              "    }\n",
              "\n",
              "    [theme=dark] .colab-df-convert:hover {\n",
              "      background-color: #434B5C;\n",
              "      box-shadow: 0px 1px 3px 1px rgba(0, 0, 0, 0.15);\n",
              "      filter: drop-shadow(0px 1px 2px rgba(0, 0, 0, 0.3));\n",
              "      fill: #FFFFFF;\n",
              "    }\n",
              "  </style>\n",
              "\n",
              "      <script>\n",
              "        const buttonEl =\n",
              "          document.querySelector('#df-87af8d6e-3818-4870-a2cf-ae2189c00ab3 button.colab-df-convert');\n",
              "        buttonEl.style.display =\n",
              "          google.colab.kernel.accessAllowed ? 'block' : 'none';\n",
              "\n",
              "        async function convertToInteractive(key) {\n",
              "          const element = document.querySelector('#df-87af8d6e-3818-4870-a2cf-ae2189c00ab3');\n",
              "          const dataTable =\n",
              "            await google.colab.kernel.invokeFunction('convertToInteractive',\n",
              "                                                     [key], {});\n",
              "          if (!dataTable) return;\n",
              "\n",
              "          const docLinkHtml = 'Like what you see? Visit the ' +\n",
              "            '<a target=\"_blank\" href=https://colab.research.google.com/notebooks/data_table.ipynb>data table notebook</a>'\n",
              "            + ' to learn more about interactive tables.';\n",
              "          element.innerHTML = '';\n",
              "          dataTable['output_type'] = 'display_data';\n",
              "          await google.colab.output.renderOutput(dataTable, element);\n",
              "          const docLink = document.createElement('div');\n",
              "          docLink.innerHTML = docLinkHtml;\n",
              "          element.appendChild(docLink);\n",
              "        }\n",
              "      </script>\n",
              "    </div>\n",
              "  </div>\n"
            ]
          },
          "metadata": {},
          "execution_count": 13
        }
      ]
    },
    {
      "cell_type": "code",
      "source": [
        "df['drug_category'].value_counts()"
      ],
      "metadata": {
        "colab": {
          "base_uri": "https://localhost:8080/"
        },
        "id": "hmHK62eNuVal",
        "outputId": "93460bba-9ddf-4a45-80d3-4475cd84ed96"
      },
      "execution_count": 14,
      "outputs": [
        {
          "output_type": "execute_result",
          "data": {
            "text/plain": [
              "pharmaceutical           10142\n",
              "cannabis                  9621\n",
              "stimulant                 5799\n",
              "mushrooms                 4090\n",
              "botanical                 3832\n",
              "opioid                    3810\n",
              "mdma                      3587\n",
              "alcohol                   3425\n",
              "hallucinogen              3143\n",
              "lsd                       3105\n",
              "salvia                    2847\n",
              "2c                        2825\n",
              "other                     2778\n",
              "dissociative              2648\n",
              "entheogen                 2556\n",
              "DMT                       2373\n",
              "entactogen                1757\n",
              "nootropic                 1664\n",
              "5-meo                     1297\n",
              "ketamine                  1253\n",
              "unknown                    931\n",
              "mescaline                  734\n",
              "depressant                 686\n",
              "anxiolytic                 457\n",
              "synthetic cannabinoid      452\n",
              "oneirogen                  308\n",
              "ayahuasca                  232\n",
              "phencyclidine              219\n",
              "antidepressant             167\n",
              "3-MeO                      137\n",
              "ibogaine                    84\n",
              "Name: drug_category, dtype: int64"
            ]
          },
          "metadata": {},
          "execution_count": 14
        }
      ]
    },
    {
      "cell_type": "code",
      "source": [
        "# Tokenize the reports\n",
        "tokenized_reports = df['processed_report'].apply(simple_preprocess)\n",
        "\n",
        "# Train a Word2Vec model\n",
        "word2vec = Word2Vec(sentences=tokenized_reports, vector_size=100, window=5, min_count=5, workers=4)\n",
        "\n",
        "# Function to convert a report into a vector\n",
        "def report_to_vector(report):\n",
        "    report_vec = []\n",
        "    numw = 0\n",
        "    for word in report:\n",
        "        try:\n",
        "            if numw == 0:\n",
        "                report_vec = word2vec.wv[word] # Use word2vec.wv[word] instead of model[word]\n",
        "            else:\n",
        "                report_vec = np.add(report_vec, word2vec.wv[word]) # Use word2vec.wv[word] instead of model[word]\n",
        "            numw+=1\n",
        "        except:\n",
        "            pass\n",
        "\n",
        "    return np.asarray(report_vec) / numw if numw != 0 else np.zeros(word2vec.vector_size)\n",
        "\n",
        "# Convert reports into vectors\n",
        "X = df['processed_report'].apply(report_to_vector).tolist()"
      ],
      "metadata": {
        "id": "pR-28yaQvouJ"
      },
      "execution_count": 28,
      "outputs": []
    },
    {
      "cell_type": "code",
      "source": [
        "class Word2VecVectorizer(BaseEstimator, TransformerMixin):\n",
        "    def __init__(self, model):\n",
        "        self.model = model\n",
        "        self.size = model.vector_size\n",
        "\n",
        "    def fit(self, X, y=None):\n",
        "        return self\n",
        "\n",
        "    def transform(self, X):\n",
        "        return np.array([report_to_vector(report) for report in X])\n",
        "\n",
        "# Instantiate Word2Vec model (replace with your model parameters and training data)\n",
        "model = gensim.models.Word2Vec(sentences=tokenized_reports, vector_size=100, window=5, min_count=1, workers=4)\n",
        "\n",
        "# Define feature extractor\n",
        "vectorizer = Word2VecVectorizer(model)"
      ],
      "metadata": {
        "id": "UQZVvW8Jx1Pv"
      },
      "execution_count": 29,
      "outputs": []
    },
    {
      "cell_type": "code",
      "source": [
        "# Define LDA model\n",
        "lda = LDA(n_components=10)\n",
        "\n",
        "# Define label encoder\n",
        "encoder = LabelEncoder()\n",
        "\n",
        "# Fit and transform the processed reports\n",
        "X = vectorizer.fit_transform(df['processed_report'])\n",
        "y = encoder.fit_transform(df['drug_category'])\n",
        "\n",
        "# Fit LDA model\n",
        "lda.fit(X)\n",
        "\n",
        "# Function to print the top words for each topic\n",
        "def print_top_words(model, feature_names, n_top_words):\n",
        "    for topic_idx, topic in enumerate(model.components_):\n",
        "        print(\"\\nTopic #%d:\" % topic_idx)\n",
        "        print(\" \".join([feature_names[i]\n",
        "                        for i in topic.argsort()[:-n_top_words - 1:-1]]))"
      ],
      "metadata": {
        "id": "H91Z-IFuOjKi",
        "colab": {
          "base_uri": "https://localhost:8080/"
        },
        "outputId": "fe99115f-7419-4e40-9da2-f00d79f34b36"
      },
      "execution_count": 30,
      "outputs": [
        {
          "output_type": "stream",
          "name": "stderr",
          "text": [
            "/usr/local/lib/python3.10/dist-packages/sklearn/decomposition/_lda.py:889: RuntimeWarning: divide by zero encountered in double_scalars\n",
            "  perword_bound = bound / word_cnt\n"
          ]
        }
      ]
    },
    {
      "cell_type": "code",
      "source": [
        "# Print the top 10 words per topic\n",
        "print_top_words(lda, vectorizer.get_feature_names_out(), 20)"
      ],
      "metadata": {
        "id": "7zjSoWszorRI"
      },
      "execution_count": null,
      "outputs": []
    },
    {
      "cell_type": "code",
      "source": [
        "# Define oversampler\n",
        "oversampler = SMOTE()\n",
        "\n",
        "# Define classifiers\n",
        "classifiers = {\n",
        "    'Logistic Regression': LogisticRegression(max_iter=1000),\n",
        "    'Random Forest': RandomForestClassifier(n_estimators=100, random_state=42),\n",
        "    'XGB': XGBClassifier(eval_metric='mlogloss')\n",
        "}\n",
        "\n",
        "# Define pipelines\n",
        "pipelines = {\n",
        "    name: make_pipeline_imb(oversampler, model)\n",
        "    for name, model in classifiers.items()\n",
        "}\n",
        "\n",
        "# Split your data\n",
        "X_train, X_test, y_train, y_test = train_test_split(X, y, test_size=0.2, random_state=42)"
      ],
      "metadata": {
        "id": "GRoESyJ3qfoI",
        "colab": {
          "base_uri": "https://localhost:8080/"
        },
        "outputId": "e35f2eb0-31ee-401f-b7f1-44c8c66d99df"
      },
      "execution_count": 31,
      "outputs": [
        {
          "output_type": "stream",
          "name": "stderr",
          "text": [
            "/usr/local/lib/python3.10/dist-packages/xgboost/sklearn.py:1395: UserWarning: `use_label_encoder` is deprecated in 1.7.0.\n",
            "  warnings.warn(\"`use_label_encoder` is deprecated in 1.7.0.\")\n"
          ]
        }
      ]
    },
    {
      "cell_type": "code",
      "source": [
        "# Fit each pipeline to the training data and print performance\n",
        "for name, pipeline in pipelines.items():\n",
        "    print(f'\\nTraining {name}...')\n",
        "    pipeline.fit(X_train, y_train)\n",
        "    y_pred = pipeline.predict(X_test)\n",
        "    print(f'\\n{name}:')\n",
        "    print(classification_report(y_test, y_pred, target_names=encoder.classes_))"
      ],
      "metadata": {
        "id": "8uyV3a7yqufm",
        "colab": {
          "base_uri": "https://localhost:8080/"
        },
        "outputId": "7cec2883-710d-45bf-dc93-70f913e8c6b7"
      },
      "execution_count": 32,
      "outputs": [
        {
          "output_type": "stream",
          "name": "stdout",
          "text": [
            "\n",
            "Training Logistic Regression...\n",
            "\n",
            "Logistic Regression:\n",
            "                       precision    recall  f1-score   support\n",
            "\n",
            "                   2c       0.04      1.00      0.07       560\n",
            "                3-MeO       0.00      0.00      0.00        31\n",
            "                5-meo       0.00      0.00      0.00       243\n",
            "                  DMT       0.00      0.00      0.00       480\n",
            "              alcohol       0.00      0.00      0.00       693\n",
            "       antidepressant       0.00      0.00      0.00        36\n",
            "           anxiolytic       0.00      0.00      0.00        77\n",
            "            ayahuasca       0.00      0.00      0.00        49\n",
            "            botanical       0.00      0.00      0.00       761\n",
            "             cannabis       0.00      0.00      0.00      1933\n",
            "           depressant       0.00      0.00      0.00       148\n",
            "         dissociative       0.00      0.00      0.00       509\n",
            "           entactogen       0.00      0.00      0.00       376\n",
            "            entheogen       0.00      0.00      0.00       523\n",
            "         hallucinogen       0.00      0.00      0.00       627\n",
            "             ibogaine       0.00      0.00      0.00        10\n",
            "             ketamine       0.00      0.00      0.00       260\n",
            "                  lsd       0.00      0.00      0.00       583\n",
            "                 mdma       0.00      0.00      0.00       698\n",
            "            mescaline       0.00      0.00      0.00       170\n",
            "            mushrooms       0.00      0.00      0.00       785\n",
            "            nootropic       0.00      0.00      0.00       322\n",
            "            oneirogen       0.00      0.00      0.00        69\n",
            "               opioid       0.00      0.00      0.00       750\n",
            "                other       0.00      0.00      0.00       554\n",
            "       pharmaceutical       0.00      0.00      0.00      2041\n",
            "        phencyclidine       0.00      0.00      0.00        45\n",
            "               salvia       0.00      0.00      0.00       579\n",
            "            stimulant       0.00      0.00      0.00      1221\n",
            "synthetic cannabinoid       0.00      0.00      0.00        79\n",
            "              unknown       0.00      0.00      0.00       180\n",
            "\n",
            "             accuracy                           0.04     15392\n",
            "            macro avg       0.00      0.03      0.00     15392\n",
            "         weighted avg       0.00      0.04      0.00     15392\n",
            "\n",
            "\n",
            "Training Random Forest...\n"
          ]
        },
        {
          "output_type": "stream",
          "name": "stderr",
          "text": [
            "/usr/local/lib/python3.10/dist-packages/sklearn/metrics/_classification.py:1344: UndefinedMetricWarning: Precision and F-score are ill-defined and being set to 0.0 in labels with no predicted samples. Use `zero_division` parameter to control this behavior.\n",
            "  _warn_prf(average, modifier, msg_start, len(result))\n",
            "/usr/local/lib/python3.10/dist-packages/sklearn/metrics/_classification.py:1344: UndefinedMetricWarning: Precision and F-score are ill-defined and being set to 0.0 in labels with no predicted samples. Use `zero_division` parameter to control this behavior.\n",
            "  _warn_prf(average, modifier, msg_start, len(result))\n",
            "/usr/local/lib/python3.10/dist-packages/sklearn/metrics/_classification.py:1344: UndefinedMetricWarning: Precision and F-score are ill-defined and being set to 0.0 in labels with no predicted samples. Use `zero_division` parameter to control this behavior.\n",
            "  _warn_prf(average, modifier, msg_start, len(result))\n"
          ]
        },
        {
          "output_type": "stream",
          "name": "stdout",
          "text": [
            "\n",
            "Random Forest:\n",
            "                       precision    recall  f1-score   support\n",
            "\n",
            "                   2c       0.00      0.00      0.00       560\n",
            "                3-MeO       0.00      0.00      0.00        31\n",
            "                5-meo       0.02      1.00      0.03       243\n",
            "                  DMT       0.00      0.00      0.00       480\n",
            "              alcohol       0.00      0.00      0.00       693\n",
            "       antidepressant       0.00      0.00      0.00        36\n",
            "           anxiolytic       0.00      0.00      0.00        77\n",
            "            ayahuasca       0.00      0.00      0.00        49\n",
            "            botanical       0.00      0.00      0.00       761\n",
            "             cannabis       0.00      0.00      0.00      1933\n",
            "           depressant       0.00      0.00      0.00       148\n",
            "         dissociative       0.00      0.00      0.00       509\n",
            "           entactogen       0.00      0.00      0.00       376\n",
            "            entheogen       0.00      0.00      0.00       523\n",
            "         hallucinogen       0.00      0.00      0.00       627\n",
            "             ibogaine       0.00      0.00      0.00        10\n",
            "             ketamine       0.00      0.00      0.00       260\n",
            "                  lsd       0.00      0.00      0.00       583\n",
            "                 mdma       0.00      0.00      0.00       698\n",
            "            mescaline       0.00      0.00      0.00       170\n",
            "            mushrooms       0.00      0.00      0.00       785\n",
            "            nootropic       0.00      0.00      0.00       322\n",
            "            oneirogen       0.00      0.00      0.00        69\n",
            "               opioid       0.00      0.00      0.00       750\n",
            "                other       0.00      0.00      0.00       554\n",
            "       pharmaceutical       0.00      0.00      0.00      2041\n",
            "        phencyclidine       0.00      0.00      0.00        45\n",
            "               salvia       0.00      0.00      0.00       579\n",
            "            stimulant       0.00      0.00      0.00      1221\n",
            "synthetic cannabinoid       0.00      0.00      0.00        79\n",
            "              unknown       0.00      0.00      0.00       180\n",
            "\n",
            "             accuracy                           0.02     15392\n",
            "            macro avg       0.00      0.03      0.00     15392\n",
            "         weighted avg       0.00      0.02      0.00     15392\n",
            "\n",
            "\n",
            "Training XGB...\n"
          ]
        },
        {
          "output_type": "stream",
          "name": "stderr",
          "text": [
            "/usr/local/lib/python3.10/dist-packages/sklearn/metrics/_classification.py:1344: UndefinedMetricWarning: Precision and F-score are ill-defined and being set to 0.0 in labels with no predicted samples. Use `zero_division` parameter to control this behavior.\n",
            "  _warn_prf(average, modifier, msg_start, len(result))\n",
            "/usr/local/lib/python3.10/dist-packages/sklearn/metrics/_classification.py:1344: UndefinedMetricWarning: Precision and F-score are ill-defined and being set to 0.0 in labels with no predicted samples. Use `zero_division` parameter to control this behavior.\n",
            "  _warn_prf(average, modifier, msg_start, len(result))\n",
            "/usr/local/lib/python3.10/dist-packages/sklearn/metrics/_classification.py:1344: UndefinedMetricWarning: Precision and F-score are ill-defined and being set to 0.0 in labels with no predicted samples. Use `zero_division` parameter to control this behavior.\n",
            "  _warn_prf(average, modifier, msg_start, len(result))\n"
          ]
        },
        {
          "output_type": "stream",
          "name": "stdout",
          "text": [
            "\n",
            "XGB:\n",
            "                       precision    recall  f1-score   support\n",
            "\n",
            "                   2c       0.04      1.00      0.07       560\n",
            "                3-MeO       0.00      0.00      0.00        31\n",
            "                5-meo       0.00      0.00      0.00       243\n",
            "                  DMT       0.00      0.00      0.00       480\n",
            "              alcohol       0.00      0.00      0.00       693\n",
            "       antidepressant       0.00      0.00      0.00        36\n",
            "           anxiolytic       0.00      0.00      0.00        77\n",
            "            ayahuasca       0.00      0.00      0.00        49\n",
            "            botanical       0.00      0.00      0.00       761\n",
            "             cannabis       0.00      0.00      0.00      1933\n",
            "           depressant       0.00      0.00      0.00       148\n",
            "         dissociative       0.00      0.00      0.00       509\n",
            "           entactogen       0.00      0.00      0.00       376\n",
            "            entheogen       0.00      0.00      0.00       523\n",
            "         hallucinogen       0.00      0.00      0.00       627\n",
            "             ibogaine       0.00      0.00      0.00        10\n",
            "             ketamine       0.00      0.00      0.00       260\n",
            "                  lsd       0.00      0.00      0.00       583\n",
            "                 mdma       0.00      0.00      0.00       698\n",
            "            mescaline       0.00      0.00      0.00       170\n",
            "            mushrooms       0.00      0.00      0.00       785\n",
            "            nootropic       0.00      0.00      0.00       322\n",
            "            oneirogen       0.00      0.00      0.00        69\n",
            "               opioid       0.00      0.00      0.00       750\n",
            "                other       0.00      0.00      0.00       554\n",
            "       pharmaceutical       0.00      0.00      0.00      2041\n",
            "        phencyclidine       0.00      0.00      0.00        45\n",
            "               salvia       0.00      0.00      0.00       579\n",
            "            stimulant       0.00      0.00      0.00      1221\n",
            "synthetic cannabinoid       0.00      0.00      0.00        79\n",
            "              unknown       0.00      0.00      0.00       180\n",
            "\n",
            "             accuracy                           0.04     15392\n",
            "            macro avg       0.00      0.03      0.00     15392\n",
            "         weighted avg       0.00      0.04      0.00     15392\n",
            "\n"
          ]
        },
        {
          "output_type": "stream",
          "name": "stderr",
          "text": [
            "/usr/local/lib/python3.10/dist-packages/sklearn/metrics/_classification.py:1344: UndefinedMetricWarning: Precision and F-score are ill-defined and being set to 0.0 in labels with no predicted samples. Use `zero_division` parameter to control this behavior.\n",
            "  _warn_prf(average, modifier, msg_start, len(result))\n",
            "/usr/local/lib/python3.10/dist-packages/sklearn/metrics/_classification.py:1344: UndefinedMetricWarning: Precision and F-score are ill-defined and being set to 0.0 in labels with no predicted samples. Use `zero_division` parameter to control this behavior.\n",
            "  _warn_prf(average, modifier, msg_start, len(result))\n",
            "/usr/local/lib/python3.10/dist-packages/sklearn/metrics/_classification.py:1344: UndefinedMetricWarning: Precision and F-score are ill-defined and being set to 0.0 in labels with no predicted samples. Use `zero_division` parameter to control this behavior.\n",
            "  _warn_prf(average, modifier, msg_start, len(result))\n"
          ]
        }
      ]
    },
    {
      "cell_type": "code",
      "source": [
        "# Split data into training and test sets\n",
        "X_train, X_test, y_train, y_test = train_test_split(X, y, test_size=0.2, random_state=42)\n",
        "\n",
        "# Create a Logistic Regression model\n",
        "lr = LogisticRegression()\n",
        "\n",
        "# Train the model\n",
        "lr.fit(X_train, y_train)\n",
        "\n",
        "# Make predictions on the test set\n",
        "y_pred = lr.predict(X_test)\n",
        "\n",
        "# Print a classification report\n",
        "print(classification_report(y_test, y_pred))\n"
      ],
      "metadata": {
        "id": "n_G0cwhpXZuu"
      },
      "execution_count": null,
      "outputs": []
    },
    {
      "cell_type": "code",
      "source": [
        "# Use a RandomForestClassifier\n",
        "clf = RandomForestClassifier(n_estimators=100, random_state=42)\n",
        "clf.fit(X_train, y_train)\n",
        "\n",
        "# Predict the test set results\n",
        "y_pred = clf.predict(X_test)\n",
        "\n",
        "# Evaluate the performance of the model\n",
        "print(classification_report(y_test, y_pred, target_names=encoder.classes_))"
      ],
      "metadata": {
        "id": "l0L2n4orJVM4"
      },
      "execution_count": null,
      "outputs": []
    },
    {
      "cell_type": "code",
      "source": [
        "# Instantiate the XGBClassifier\n",
        "xgb = XGBClassifier(use_label_encoder=False)\n",
        "\n",
        "# Fit the model to the training data\n",
        "xgb.fit(X_train, y_train, eval_metric='mlogloss')\n",
        "\n",
        "# Predict the labels of the test set\n",
        "y_pred = xgb.predict(X_test)\n",
        "\n",
        "# Print the classification report\n",
        "print(classification_report(y_test, y_pred))"
      ],
      "metadata": {
        "id": "X46fIRquJsgB"
      },
      "execution_count": null,
      "outputs": []
    },
    {
      "cell_type": "code",
      "source": [
        "# Define the parameter grid\n",
        "param_grid = {'C': [0.1, 1, 10, 100], 'penalty': ['l1', 'l2']}\n",
        "\n",
        "# Create a GridSearchCV object\n",
        "grid_search = GridSearchCV(lr, param_grid, cv=5)\n",
        "\n",
        "# Perform grid search\n",
        "grid_search.fit(X_train, y_train)\n",
        "\n",
        "# Print the best parameters and the best score\n",
        "print(grid_search.best_params_)\n",
        "print(grid_search.best_score_)\n"
      ],
      "metadata": {
        "id": "u_15jvfzOlg1"
      },
      "execution_count": null,
      "outputs": []
    },
    {
      "cell_type": "code",
      "source": [
        "\n"
      ],
      "metadata": {
        "id": "UuQCDXTehOQt"
      },
      "execution_count": null,
      "outputs": []
    }
  ]
}