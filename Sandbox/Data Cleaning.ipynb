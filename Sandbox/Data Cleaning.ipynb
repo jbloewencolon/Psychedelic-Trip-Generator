{
 "cells": [
  {
   "cell_type": "markdown",
   "metadata": {},
   "source": [
    "## Data Cleaning and Understanding\n",
    "We begin by importing all the necessary libraries that we will be using throughout the data-cleaning process. This includes libraries for data manipulation, natural language processing, and language detection."
   ]
  },
  {
   "cell_type": "code",
   "execution_count": 2,
   "metadata": {
    "executionInfo": {
     "elapsed": 14565,
     "status": "ok",
     "timestamp": 1690315460371,
     "user": {
      "displayName": "Jordan Loewen-Colón",
      "userId": "02519743594613944125"
     },
     "user_tz": 240
    },
    "id": "s-3Lha_ms5oV"
   },
   "outputs": [
    {
     "name": "stderr",
     "output_type": "stream",
     "text": [
      "[nltk_data] Downloading package punkt to\n",
      "[nltk_data]     C:\\Users\\legac\\AppData\\Roaming\\nltk_data...\n",
      "[nltk_data]   Package punkt is already up-to-date!\n",
      "[nltk_data] Downloading package stopwords to\n",
      "[nltk_data]     C:\\Users\\legac\\AppData\\Roaming\\nltk_data...\n",
      "[nltk_data]   Package stopwords is already up-to-date!\n",
      "[nltk_data] Downloading package wordnet to\n",
      "[nltk_data]     C:\\Users\\legac\\AppData\\Roaming\\nltk_data...\n",
      "[nltk_data]   Package wordnet is already up-to-date!\n"
     ]
    }
   ],
   "source": [
    "import pandas as pd\n",
    "import csv\n",
    "import sys\n",
    "import matplotlib.pyplot as plt\n",
    "import numpy as np\n",
    "import nltk\n",
    "from nltk.corpus import stopwords\n",
    "from nltk.stem import WordNetLemmatizer\n",
    "from nltk.tokenize import sent_tokenize, word_tokenize\n",
    "import re\n",
    "from langdetect import detect\n",
    "from langdetect import DetectorFactory\n",
    "DetectorFactory.seed = 0  # For reproducible results\n",
    "\n",
    "nltk.download('punkt')\n",
    "nltk.download('stopwords')\n",
    "nltk.download('wordnet')\n",
    "\n",
    "lemmatizer = WordNetLemmatizer()\n",
    "stop_words = set(stopwords.words('english'))"
   ]
  },
  {
   "cell_type": "markdown",
   "metadata": {},
   "source": [
    "Next, we load the dataset (making sure to specify the columns because of how the data was initially collated) containing various information such as title, drug, dosage, delivery method, weight, year, gender, and report. We'll take an initial look at the information about our data.\r\n"
   ]
  },
  {
   "cell_type": "code",
   "execution_count": 3,
   "metadata": {
    "colab": {
     "base_uri": "https://localhost:8080/"
    },
    "executionInfo": {
     "elapsed": 160,
     "status": "ok",
     "timestamp": 1690315460518,
     "user": {
      "displayName": "Jordan Loewen-Colón",
      "userId": "02519743594613944125"
     },
     "user_tz": 240
    },
    "id": "JvIq4lHa6_JY",
    "outputId": "ad063321-257f-4f59-8156-b0fb6dc0f62c"
   },
   "outputs": [
    {
     "name": "stdout",
     "output_type": "stream",
     "text": [
      "<class 'pandas.core.frame.DataFrame'>\n",
      "RangeIndex: 39244 entries, 0 to 39243\n",
      "Data columns (total 8 columns):\n",
      " #   Column    Non-Null Count  Dtype \n",
      "---  ------    --------------  ----- \n",
      " 0   title     39131 non-null  object\n",
      " 1   drug      39126 non-null  object\n",
      " 2   dosage    35497 non-null  object\n",
      " 3   delivery  37851 non-null  object\n",
      " 4   weight    39124 non-null  object\n",
      " 5   year      39124 non-null  object\n",
      " 6   gender    39123 non-null  object\n",
      " 7   report    39121 non-null  object\n",
      "dtypes: object(8)\n",
      "memory usage: 2.4+ MB\n"
     ]
    },
    {
     "name": "stderr",
     "output_type": "stream",
     "text": [
      "C:\\Users\\legac\\AppData\\Local\\Temp\\ipykernel_16368\\2863116686.py:1: DtypeWarning: Columns (4,5) have mixed types. Specify dtype option on import or set low_memory=False.\n",
      "  df = pd.read_csv('D:/Cloud/Google Drive/Colab Notebooks/Data/Full.csv',\n"
     ]
    }
   ],
   "source": [
    "df = pd.read_csv('D:/Cloud/Google Drive/Colab Notebooks/Data/Full.csv', \n",
    "                 encoding='ISO-8859-1',\n",
    "                 usecols=['title', 'drug', 'dosage', 'delivery', 'weight', 'year', 'gender', 'report'])\n",
    "df.info()"
   ]
  },
  {
   "cell_type": "code",
   "execution_count": 4,
   "metadata": {},
   "outputs": [
    {
     "data": {
      "text/html": [
       "<div>\n",
       "<style scoped>\n",
       "    .dataframe tbody tr th:only-of-type {\n",
       "        vertical-align: middle;\n",
       "    }\n",
       "\n",
       "    .dataframe tbody tr th {\n",
       "        vertical-align: top;\n",
       "    }\n",
       "\n",
       "    .dataframe thead th {\n",
       "        text-align: right;\n",
       "    }\n",
       "</style>\n",
       "<table border=\"1\" class=\"dataframe\">\n",
       "  <thead>\n",
       "    <tr style=\"text-align: right;\">\n",
       "      <th></th>\n",
       "      <th>title</th>\n",
       "      <th>drug</th>\n",
       "      <th>dosage</th>\n",
       "      <th>delivery</th>\n",
       "      <th>weight</th>\n",
       "      <th>year</th>\n",
       "      <th>gender</th>\n",
       "      <th>report</th>\n",
       "    </tr>\n",
       "  </thead>\n",
       "  <tbody>\n",
       "    <tr>\n",
       "      <th>0</th>\n",
       "      <td>Ode to Joy</td>\n",
       "      <td>MDMA</td>\n",
       "      <td>1.5 tablets</td>\n",
       "      <td>oral</td>\n",
       "      <td>185.0</td>\n",
       "      <td>2000.0</td>\n",
       "      <td>male</td>\n",
       "      <td>My friend had some experience with X and had t...</td>\n",
       "    </tr>\n",
       "    <tr>\n",
       "      <th>1</th>\n",
       "      <td>Make Sure the Music's Not Too Complex</td>\n",
       "      <td>Cannabis</td>\n",
       "      <td>NaN</td>\n",
       "      <td>smoked</td>\n",
       "      <td>0.0</td>\n",
       "      <td>1999.0</td>\n",
       "      <td>not specified</td>\n",
       "      <td>This was the first experience that either my f...</td>\n",
       "    </tr>\n",
       "    <tr>\n",
       "      <th>2</th>\n",
       "      <td>After Hours</td>\n",
       "      <td>MDMA, MDMA, MDMA</td>\n",
       "      <td>160 mg, 100 mg, 50 mg</td>\n",
       "      <td>oral, oral, insufflated</td>\n",
       "      <td>150.0</td>\n",
       "      <td>2001.0</td>\n",
       "      <td>male</td>\n",
       "      <td>Preparation: I have heard some conflicting opi...</td>\n",
       "    </tr>\n",
       "    <tr>\n",
       "      <th>3</th>\n",
       "      <td>Heavy Hallucinogenic Expreince</td>\n",
       "      <td>25C-NBOMe, Alcohol - Beer/Wine</td>\n",
       "      <td>1 hit, 2 glasses</td>\n",
       "      <td>sublingual, oral</td>\n",
       "      <td>165.0</td>\n",
       "      <td>2012.0</td>\n",
       "      <td>male</td>\n",
       "      <td>00:00 - Just dropped tab alone. Holding under ...</td>\n",
       "    </tr>\n",
       "    <tr>\n",
       "      <th>4</th>\n",
       "      <td>Love and the Velvet Underground</td>\n",
       "      <td>DMT</td>\n",
       "      <td>100 mg</td>\n",
       "      <td>smoked</td>\n",
       "      <td>170.0</td>\n",
       "      <td>2013.0</td>\n",
       "      <td>male</td>\n",
       "      <td>Setting: my apartmentDate: 4/24/2013I lit up t...</td>\n",
       "    </tr>\n",
       "  </tbody>\n",
       "</table>\n",
       "</div>"
      ],
      "text/plain": [
       "                                   title                            drug  \\\n",
       "0                             Ode to Joy                            MDMA   \n",
       "1  Make Sure the Music's Not Too Complex                        Cannabis   \n",
       "2                            After Hours                MDMA, MDMA, MDMA   \n",
       "3         Heavy Hallucinogenic Expreince  25C-NBOMe, Alcohol - Beer/Wine   \n",
       "4        Love and the Velvet Underground                             DMT   \n",
       "\n",
       "                  dosage                 delivery weight    year  \\\n",
       "0            1.5 tablets                     oral  185.0  2000.0   \n",
       "1                    NaN                   smoked    0.0  1999.0   \n",
       "2  160 mg, 100 mg, 50 mg  oral, oral, insufflated  150.0  2001.0   \n",
       "3       1 hit, 2 glasses         sublingual, oral  165.0  2012.0   \n",
       "4                 100 mg                   smoked  170.0  2013.0   \n",
       "\n",
       "          gender                                             report  \n",
       "0           male  My friend had some experience with X and had t...  \n",
       "1  not specified  This was the first experience that either my f...  \n",
       "2           male  Preparation: I have heard some conflicting opi...  \n",
       "3           male  00:00 - Just dropped tab alone. Holding under ...  \n",
       "4           male  Setting: my apartmentDate: 4/24/2013I lit up t...  "
      ]
     },
     "execution_count": 4,
     "metadata": {},
     "output_type": "execute_result"
    }
   ],
   "source": [
    "df.head()"
   ]
  },
  {
   "cell_type": "markdown",
   "metadata": {},
   "source": [
    "The first things we notice are the 'title' column, which doesn't seem like it has any real value. It also looks like there are some NaNs in the dosage column and some 0s in the weight column. And the year seems to be a float instead of an integer. For this project, our two most important columns will be the 'drug' column, which contains which drug was used, and the 'report' column, which contains the qualitative story data. Let's take a closer look at their values."
   ]
  },
  {
   "cell_type": "code",
   "execution_count": 32,
   "metadata": {},
   "outputs": [
    {
     "data": {
      "text/plain": [
       "11718"
      ]
     },
     "execution_count": 32,
     "metadata": {},
     "output_type": "execute_result"
    }
   ],
   "source": [
    "len(df['drug'].unique())"
   ]
  },
  {
   "cell_type": "markdown",
   "metadata": {},
   "source": [
    "That's a LOT of different drug types! As it turns out, there are sometimes multiple drugs listed per row, so we will have to find a way to seperate them into different units. That should reduce our number of unique inputs. Now let's take a look at the report column to see what we are working with:"
   ]
  },
  {
   "cell_type": "code",
   "execution_count": 7,
   "metadata": {},
   "outputs": [
    {
     "data": {
      "text/plain": [
       "count    39121.000000\n",
       "mean      4849.531505\n",
       "std       4447.779060\n",
       "min          8.000000\n",
       "25%       1944.000000\n",
       "50%       3586.000000\n",
       "75%       6201.000000\n",
       "max      32759.000000\n",
       "Name: report, dtype: float64"
      ]
     },
     "execution_count": 7,
     "metadata": {},
     "output_type": "execute_result"
    }
   ],
   "source": [
    "lengths = df['report'].str.len()\n",
    "lengths.describe()"
   ]
  },
  {
   "cell_type": "markdown",
   "metadata": {},
   "source": [
    "The smallest report is 8 words, which seems off, and the largest is over 32k words. So lots of variation! Those larger reports are going to be harder to manage, as even the largest LLMs have token limits (the amount of data that they can learn from in a single instance). Given the size and scope of our data, we are going to have to find ways to trip the fat so that our processing can be lean and focus primarily on what we want to reproduce: accurate human-sounding trip reports of psychedelics.\n",
    "\n",
    "Let's look at what some of these reports consist of:"
   ]
  },
  {
   "cell_type": "code",
   "execution_count": 20,
   "metadata": {},
   "outputs": [
    {
     "data": {
      "text/plain": [
       "23065    The whole situation started last year, I decid...\n",
       "21386    My doctor suggested I try this for mild anxiet...\n",
       "16550    I had taken this substance by insufflation, ca...\n",
       "30668    I personally think chamomile is an awesome her...\n",
       "20112    Just recently while visiting friends during th...\n",
       "18751    Up to this experience, I've tried mushrooms an...\n",
       "3872     Ayahuasca in the Jungles of PeruAfter the cere...\n",
       "10744    I really had nothing to do one night, and my f...\n",
       "20756    The other night a friend I met a friend of min...\n",
       "24193    About 9 months ago I blew out a disc in my bac...\n",
       "18106    I initially woke up with the thought of taking...\n",
       "19950    Sitting in the park with a few of my girlfrien...\n",
       "19450    One day I read that nutmeg was usable as a dru...\n",
       "21099    I probably only write about 1/4 of my trips or...\n",
       "34769    I ate mushrooms while visiting a friend in the...\n",
       "22784    I went to the dentist to get a filling replace...\n",
       "25010    Calea has been sat in my store cupboard for ov...\n",
       "19744    May 11th, 2005This is an account of my first t...\n",
       "17543    Several months ago, my parents took me to the ...\n",
       "33152    Morning Glory was my first-ever experience wit...\n",
       "Name: report, dtype: object"
      ]
     },
     "execution_count": 20,
     "metadata": {},
     "output_type": "execute_result"
    }
   ],
   "source": [
    "df['report'].sample(20)"
   ]
  },
  {
   "cell_type": "markdown",
   "metadata": {},
   "source": [
    "It looks like there are some non-English reports. We will want to drop those as part of our processing. In addition to lowercasing the text and removing some of the symbols and notation."
   ]
  },
  {
   "cell_type": "code",
   "execution_count": 21,
   "metadata": {},
   "outputs": [],
   "source": [
    "def detect_language(text):\n",
    "    try:\n",
    "        return detect(text)\n",
    "    except:\n",
    "        return None"
   ]
  },
  {
   "cell_type": "code",
   "execution_count": 22,
   "metadata": {},
   "outputs": [
    {
     "name": "stdout",
     "output_type": "stream",
     "text": [
      "192 rows were dropped. The DataFrame now has 39052 rows.\n"
     ]
    }
   ],
   "source": [
    "# Record the original number of rows\n",
    "original_count = df.shape[0]\n",
    "\n",
    "# Detect language and filter the rows\n",
    "df['language'] = df['report'].apply(detect_language)\n",
    "df = df[df['language'] == 'en']\n",
    "df = df.drop('language', axis=1)\n",
    "\n",
    "# Calculate the number of rows that were dropped\n",
    "dropped_count = original_count - df.shape[0]\n",
    "\n",
    "print(f\"{dropped_count} rows were dropped. The DataFrame now has {df.shape[0]} rows.\")"
   ]
  },
  {
   "cell_type": "markdown",
   "metadata": {},
   "source": [
    "Next we want to clean up our rows and columns. We won't need the title or year column, so we can drop those. We also know that the delivery, dosage, gender and reports are strings, and the weight is an integer, so let's adjust their types. "
   ]
  },
  {
   "cell_type": "code",
   "execution_count": 23,
   "metadata": {
    "colab": {
     "base_uri": "https://localhost:8080/"
    },
    "executionInfo": {
     "elapsed": 231,
     "status": "ok",
     "timestamp": 1689786741313,
     "user": {
      "displayName": "Jordan Loewen-Colón",
      "userId": "02519743594613944125"
     },
     "user_tz": 240
    },
    "id": "-QKPhIMcFMtY",
    "outputId": "59048805-e38e-4b45-eb1f-5c4dbde474f0"
   },
   "outputs": [
    {
     "name": "stdout",
     "output_type": "stream",
     "text": [
      "<class 'pandas.core.frame.DataFrame'>\n",
      "Index: 39052 entries, 0 to 39243\n",
      "Data columns (total 6 columns):\n",
      " #   Column    Non-Null Count  Dtype \n",
      "---  ------    --------------  ----- \n",
      " 0   drug      39052 non-null  object\n",
      " 1   dosage    35427 non-null  object\n",
      " 2   delivery  39052 non-null  object\n",
      " 3   weight    39052 non-null  Int64 \n",
      " 4   gender    39052 non-null  object\n",
      " 5   report    39052 non-null  object\n",
      "dtypes: Int64(1), object(5)\n",
      "memory usage: 2.1+ MB\n",
      "None\n"
     ]
    }
   ],
   "source": [
    "# Drop the 'year' and 'title' columns\n",
    "df = df.drop(['year', 'title'], axis=1)\n",
    "\n",
    "# Convert columns to desired data types\n",
    "df['drug'] = df['drug'].astype(str)\n",
    "df['delivery'] = df['delivery'].astype(str)\n",
    "df['gender'] = df['gender'].astype(str)\n",
    "df['report'] = df['report'].astype(str)\n",
    "\n",
    "# Convert 'weight' column to float with error handling\n",
    "df['weight'] = pd.to_numeric(df['weight'], errors='coerce')\n",
    "\n",
    "# Replace NaN values with 0\n",
    "df['weight'] = np.nan_to_num(df['weight'], nan=0)\n",
    "\n",
    "# Convert 'weight' column to rounded integers\n",
    "df['weight'] = np.round(df['weight']).astype('Int64')\n",
    "\n",
    "# Verify the updated data types using df.info()\n",
    "print(df.info())"
   ]
  },
  {
   "cell_type": "markdown",
   "metadata": {},
   "source": [
    "We still have some missing values in the dosage (3747) column. Let's fill them with 'unknown' and also replace the '0' weights with the average weight."
   ]
  },
  {
   "cell_type": "code",
   "execution_count": 24,
   "metadata": {
    "colab": {
     "base_uri": "https://localhost:8080/"
    },
    "executionInfo": {
     "elapsed": 298,
     "status": "ok",
     "timestamp": 1689786753963,
     "user": {
      "displayName": "Jordan Loewen-Colón",
      "userId": "02519743594613944125"
     },
     "user_tz": 240
    },
    "id": "Y-sznu6RJISr",
    "outputId": "39c420db-d172-4344-eefa-ec2162fd21bd"
   },
   "outputs": [
    {
     "name": "stdout",
     "output_type": "stream",
     "text": [
      "<class 'pandas.core.frame.DataFrame'>\n",
      "Index: 39052 entries, 0 to 39243\n",
      "Data columns (total 6 columns):\n",
      " #   Column    Non-Null Count  Dtype \n",
      "---  ------    --------------  ----- \n",
      " 0   drug      39052 non-null  object\n",
      " 1   dosage    39052 non-null  object\n",
      " 2   delivery  39052 non-null  object\n",
      " 3   weight    39052 non-null  object\n",
      " 4   gender    39052 non-null  object\n",
      " 5   report    39052 non-null  object\n",
      "dtypes: object(6)\n",
      "memory usage: 2.1+ MB\n",
      "None\n"
     ]
    }
   ],
   "source": [
    "# Replace 'null' values in 'dosage' column with 'unknown'\n",
    "df['dosage'] = df['dosage'].fillna('unknown')\n",
    "\n",
    "# Calculate the average weight\n",
    "avg_weight = int(np.round(df['weight'].mean()))\n",
    "\n",
    "# Replace '0' values in 'weight' column with the average weight\n",
    "df['weight'] = np.where(df['weight'] == 0, avg_weight, df['weight'])\n",
    "\n",
    "# Verify the updated data using df.info()\n",
    "print(df.info())"
   ]
  },
  {
   "cell_type": "markdown",
   "metadata": {
    "colab": {
     "base_uri": "https://localhost:8080/",
     "height": 206
    },
    "executionInfo": {
     "elapsed": 137,
     "status": "ok",
     "timestamp": 1689791520600,
     "user": {
      "displayName": "Jordan Loewen-Colón",
      "userId": "02519743594613944125"
     },
     "user_tz": 240
    },
    "id": "s7XLMrZ35-_I",
    "outputId": "459e6614-7e72-46a3-c921-3cd61e2b3872"
   },
   "source": [
    "That looks better! Now let's preprocess our reports so that we can use them in our classification models later on. We'll start by converting them to lowercase, removing non letters and numbers, and lemmatizing (find the root of each word)."
   ]
  },
  {
   "cell_type": "code",
   "execution_count": 25,
   "metadata": {
    "colab": {
     "base_uri": "https://localhost:8080/"
    },
    "executionInfo": {
     "elapsed": 709916,
     "status": "ok",
     "timestamp": 1690316186837,
     "user": {
      "displayName": "Jordan Loewen-Colón",
      "userId": "02519743594613944125"
     },
     "user_tz": 240
    },
    "id": "rftaWG6w6UJR",
    "outputId": "09ec8cce-22c9-45a6-a5ec-5391c3bc3add"
   },
   "outputs": [],
   "source": [
    "def preprocess_text(text):\n",
    "    text = text.lower()\n",
    "    sentences = sent_tokenize(text)\n",
    "    words = [word_tokenize(sentence) for sentence in sentences]\n",
    "    words = [re.sub(r'\\W', '', word) for sentence in words for word in sentence]\n",
    "    words = [lemmatizer.lemmatize(word) for word in words if word]\n",
    "    return words\n",
    "\n",
    "df['processed_report'] = df['report'].apply(preprocess_text)"
   ]
  },
  {
   "cell_type": "markdown",
   "metadata": {},
   "source": [
    "## Data Engineering\n",
    "\n",
    "With this preprocssing done, let's start doing some data engineering. We begin by creating a new dataframe so that if we make mistakes, we can reset to our cleaned model."
   ]
  },
  {
   "cell_type": "code",
   "execution_count": 26,
   "metadata": {
    "colab": {
     "base_uri": "https://localhost:8080/",
     "height": 337
    },
    "executionInfo": {
     "elapsed": 187,
     "status": "ok",
     "timestamp": 1690316187014,
     "user": {
      "displayName": "Jordan Loewen-Colón",
      "userId": "02519743594613944125"
     },
     "user_tz": 240
    },
    "id": "poyk0_BAMRlW",
    "outputId": "94c61625-77bb-4009-ca35-9de4ff133fc0"
   },
   "outputs": [
    {
     "data": {
      "text/html": [
       "<div>\n",
       "<style scoped>\n",
       "    .dataframe tbody tr th:only-of-type {\n",
       "        vertical-align: middle;\n",
       "    }\n",
       "\n",
       "    .dataframe tbody tr th {\n",
       "        vertical-align: top;\n",
       "    }\n",
       "\n",
       "    .dataframe thead th {\n",
       "        text-align: right;\n",
       "    }\n",
       "</style>\n",
       "<table border=\"1\" class=\"dataframe\">\n",
       "  <thead>\n",
       "    <tr style=\"text-align: right;\">\n",
       "      <th></th>\n",
       "      <th>drug</th>\n",
       "      <th>dosage</th>\n",
       "      <th>delivery</th>\n",
       "      <th>weight</th>\n",
       "      <th>gender</th>\n",
       "      <th>report</th>\n",
       "      <th>processed_report</th>\n",
       "    </tr>\n",
       "  </thead>\n",
       "  <tbody>\n",
       "    <tr>\n",
       "      <th>0</th>\n",
       "      <td>MDMA</td>\n",
       "      <td>1.5 tablets</td>\n",
       "      <td>oral</td>\n",
       "      <td>185</td>\n",
       "      <td>male</td>\n",
       "      <td>My friend had some experience with X and had t...</td>\n",
       "      <td>[[my, friend, had, some, experience, with, x, ...</td>\n",
       "    </tr>\n",
       "    <tr>\n",
       "      <th>1</th>\n",
       "      <td>Cannabis</td>\n",
       "      <td>unknown</td>\n",
       "      <td>smoked</td>\n",
       "      <td>152</td>\n",
       "      <td>not specified</td>\n",
       "      <td>This was the first experience that either my f...</td>\n",
       "      <td>[[this, wa, the, first, experience, that, eith...</td>\n",
       "    </tr>\n",
       "    <tr>\n",
       "      <th>2</th>\n",
       "      <td>MDMA, MDMA, MDMA</td>\n",
       "      <td>160 mg, 100 mg, 50 mg</td>\n",
       "      <td>oral, oral, insufflated</td>\n",
       "      <td>150</td>\n",
       "      <td>male</td>\n",
       "      <td>Preparation: I have heard some conflicting opi...</td>\n",
       "      <td>[[preparation, , i, have, heard, some, conflic...</td>\n",
       "    </tr>\n",
       "    <tr>\n",
       "      <th>3</th>\n",
       "      <td>25C-NBOMe, Alcohol - Beer/Wine</td>\n",
       "      <td>1 hit, 2 glasses</td>\n",
       "      <td>sublingual, oral</td>\n",
       "      <td>165</td>\n",
       "      <td>male</td>\n",
       "      <td>00:00 - Just dropped tab alone. Holding under ...</td>\n",
       "      <td>[[0000, , just, dropped, tab, alone, ], [holdi...</td>\n",
       "    </tr>\n",
       "    <tr>\n",
       "      <th>4</th>\n",
       "      <td>DMT</td>\n",
       "      <td>100 mg</td>\n",
       "      <td>smoked</td>\n",
       "      <td>170</td>\n",
       "      <td>male</td>\n",
       "      <td>Setting: my apartmentDate: 4/24/2013I lit up t...</td>\n",
       "      <td>[[setting, , my, apartmentdate, , 4242013i, li...</td>\n",
       "    </tr>\n",
       "  </tbody>\n",
       "</table>\n",
       "</div>"
      ],
      "text/plain": [
       "                             drug                 dosage  \\\n",
       "0                            MDMA            1.5 tablets   \n",
       "1                        Cannabis                unknown   \n",
       "2                MDMA, MDMA, MDMA  160 mg, 100 mg, 50 mg   \n",
       "3  25C-NBOMe, Alcohol - Beer/Wine       1 hit, 2 glasses   \n",
       "4                             DMT                 100 mg   \n",
       "\n",
       "                  delivery weight         gender  \\\n",
       "0                     oral    185           male   \n",
       "1                   smoked    152  not specified   \n",
       "2  oral, oral, insufflated    150           male   \n",
       "3         sublingual, oral    165           male   \n",
       "4                   smoked    170           male   \n",
       "\n",
       "                                              report  \\\n",
       "0  My friend had some experience with X and had t...   \n",
       "1  This was the first experience that either my f...   \n",
       "2  Preparation: I have heard some conflicting opi...   \n",
       "3  00:00 - Just dropped tab alone. Holding under ...   \n",
       "4  Setting: my apartmentDate: 4/24/2013I lit up t...   \n",
       "\n",
       "                                    processed_report  \n",
       "0  [[my, friend, had, some, experience, with, x, ...  \n",
       "1  [[this, wa, the, first, experience, that, eith...  \n",
       "2  [[preparation, , i, have, heard, some, conflic...  \n",
       "3  [[0000, , just, dropped, tab, alone, ], [holdi...  \n",
       "4  [[setting, , my, apartmentdate, , 4242013i, li...  "
      ]
     },
     "execution_count": 26,
     "metadata": {},
     "output_type": "execute_result"
    }
   ],
   "source": [
    "new_df = df.copy()\n",
    "\n",
    "new_df.head()"
   ]
  },
  {
   "cell_type": "markdown",
   "metadata": {},
   "source": [
    "Let's start by dropping rows with less than 50 words so that our future GPT-2 model can have quality reports to learn from. This also has the added benefit of removing some of the weird rows that were appearing during randomization that had chunks or reports without any other data."
   ]
  },
  {
   "cell_type": "code",
   "execution_count": 46,
   "metadata": {},
   "outputs": [],
   "source": [
    "new_df = new_df[new_df['report'].apply(lambda x: len(str(x).split()) >= 50)]"
   ]
  },
  {
   "cell_type": "markdown",
   "metadata": {},
   "source": [
    "We'll start our engineering by focusing on the 'drug' column. Just like our reports, we will lowercase first. We also want to create a column that indicates whether a drug report relies on mixing drugs. This way we can start thinking about how we might want to weight our data so that reports that only rely on one drug type are given more weight. "
   ]
  },
  {
   "cell_type": "code",
   "execution_count": 27,
   "metadata": {
    "id": "b_x38uCaQ4b3"
   },
   "outputs": [],
   "source": [
    "#level out the drug names for sorting\n",
    "new_df['drug'] = new_df['drug'].str.lower()\n",
    "\n",
    "# Create the 'mixed' column\n",
    "new_df['mixed'] = new_df['drug'].str.strip().str.contains(',')\n",
    "new_df['mixed'] = new_df['mixed'].fillna(False).astype(int)"
   ]
  },
  {
   "cell_type": "markdown",
   "metadata": {
    "colab": {
     "base_uri": "https://localhost:8080/",
     "height": 206
    },
    "executionInfo": {
     "elapsed": 164,
     "status": "ok",
     "timestamp": 1689791557107,
     "user": {
      "displayName": "Jordan Loewen-Colón",
      "userId": "02519743594613944125"
     },
     "user_tz": 240
    },
    "id": "MUWCk9DhQ6Wj",
    "outputId": "3600e733-61a0-43cc-b569-24bb968259ac"
   },
   "source": [
    "Because we want to isolate drug types, having multiple drugs in a column doesn't provide us the information we need. So we will explode the rows so that each only contains one drug type, but keeps the rest of the information the same and ties each unique drug to its corresponding dosage and delivery. The result is that our 'mixed' reports will end up having more data, so we will need to balance that our with our unmixed columns later."
   ]
  },
  {
   "cell_type": "code",
   "execution_count": 29,
   "metadata": {
    "id": "AHXRTUtSFW2h"
   },
   "outputs": [],
   "source": [
    "def explode_dataframe(new_df):\n",
    "    # Create a copy of the DataFrame\n",
    "    exploded_df = new_df.copy()\n",
    "\n",
    "    # Convert the desired columns to lists\n",
    "    exploded_df['drug'] = exploded_df['drug'].str.split(',')\n",
    "    exploded_df['dosage'] = exploded_df['dosage'].str.split(',')\n",
    "    exploded_df['delivery'] = exploded_df['delivery'].str.split(',')\n",
    "\n",
    "    # Prepare an empty list to store new rows\n",
    "    new_rows = []\n",
    "\n",
    "    # Iterate over each row in the DataFrame\n",
    "    for _, row in exploded_df.iterrows():\n",
    "        drugs = row['drug']\n",
    "        dosages = row['dosage']\n",
    "        deliveries = row['delivery']\n",
    "\n",
    "        # Check if the row has matching element counts\n",
    "        if len(drugs) != len(dosages) or len(drugs) != len(deliveries):\n",
    "            # Fill unmatched values with 'unknown'\n",
    "            min_length = min(len(drugs), len(dosages), len(deliveries))\n",
    "            drugs += ['unknown'] * (min_length - len(drugs))\n",
    "            dosages += ['unknown'] * (min_length - len(dosages))\n",
    "            deliveries += ['unknown'] * (min_length - len(deliveries))\n",
    "\n",
    "        # Create new rows by matching the corresponding elements\n",
    "        for drug, dosage, delivery in zip(drugs, dosages, deliveries):\n",
    "            new_row = row.copy()\n",
    "            new_row['drug'] = drug\n",
    "            new_row['dosage'] = dosage\n",
    "            new_row['delivery'] = delivery\n",
    "            new_rows.append(new_row)\n",
    "\n",
    "    # Concatenate all new rows into a new DataFrame\n",
    "    exploded_df = pd.DataFrame(new_rows)\n",
    "\n",
    "    # Reset the index to reflect the new rows\n",
    "    exploded_df.reset_index(drop=True, inplace=True)\n",
    "\n",
    "    return exploded_df\n",
    "\n",
    "new_df = explode_dataframe(new_df)"
   ]
  },
  {
   "cell_type": "code",
   "execution_count": 30,
   "metadata": {
    "colab": {
     "base_uri": "https://localhost:8080/"
    },
    "executionInfo": {
     "elapsed": 286,
     "status": "ok",
     "timestamp": 1689791593958,
     "user": {
      "displayName": "Jordan Loewen-Colón",
      "userId": "02519743594613944125"
     },
     "user_tz": 240
    },
    "id": "Jk9TmHFmGV1J",
    "outputId": "6e6cc276-8d8b-4b5b-f741-a10d254d823d"
   },
   "outputs": [
    {
     "name": "stdout",
     "output_type": "stream",
     "text": [
      "<class 'pandas.core.frame.DataFrame'>\n",
      "RangeIndex: 76922 entries, 0 to 76921\n",
      "Data columns (total 8 columns):\n",
      " #   Column            Non-Null Count  Dtype \n",
      "---  ------            --------------  ----- \n",
      " 0   drug              76922 non-null  object\n",
      " 1   dosage            76922 non-null  object\n",
      " 2   delivery          76922 non-null  object\n",
      " 3   weight            76922 non-null  int64 \n",
      " 4   gender            76922 non-null  object\n",
      " 5   report            76922 non-null  object\n",
      " 6   processed_report  76922 non-null  object\n",
      " 7   mixed             76922 non-null  int64 \n",
      "dtypes: int64(2), object(6)\n",
      "memory usage: 4.7+ MB\n"
     ]
    }
   ],
   "source": [
    "new_df.info()"
   ]
  },
  {
   "cell_type": "code",
   "execution_count": 31,
   "metadata": {
    "colab": {
     "base_uri": "https://localhost:8080/",
     "height": 519
    },
    "executionInfo": {
     "elapsed": 141,
     "status": "ok",
     "timestamp": 1689794056396,
     "user": {
      "displayName": "Jordan Loewen-Colón",
      "userId": "02519743594613944125"
     },
     "user_tz": 240
    },
    "id": "J00qQhEQGcUS",
    "outputId": "3b2c0fc5-8f1e-4713-e602-7a605941b782"
   },
   "outputs": [
    {
     "data": {
      "text/html": [
       "<div>\n",
       "<style scoped>\n",
       "    .dataframe tbody tr th:only-of-type {\n",
       "        vertical-align: middle;\n",
       "    }\n",
       "\n",
       "    .dataframe tbody tr th {\n",
       "        vertical-align: top;\n",
       "    }\n",
       "\n",
       "    .dataframe thead th {\n",
       "        text-align: right;\n",
       "    }\n",
       "</style>\n",
       "<table border=\"1\" class=\"dataframe\">\n",
       "  <thead>\n",
       "    <tr style=\"text-align: right;\">\n",
       "      <th></th>\n",
       "      <th>drug</th>\n",
       "      <th>dosage</th>\n",
       "      <th>delivery</th>\n",
       "      <th>weight</th>\n",
       "      <th>gender</th>\n",
       "      <th>report</th>\n",
       "      <th>processed_report</th>\n",
       "      <th>mixed</th>\n",
       "    </tr>\n",
       "  </thead>\n",
       "  <tbody>\n",
       "    <tr>\n",
       "      <th>0</th>\n",
       "      <td>mdma</td>\n",
       "      <td>1.5 tablets</td>\n",
       "      <td>oral</td>\n",
       "      <td>185</td>\n",
       "      <td>male</td>\n",
       "      <td>My friend had some experience with X and had t...</td>\n",
       "      <td>[[my, friend, had, some, experience, with, x, ...</td>\n",
       "      <td>0</td>\n",
       "    </tr>\n",
       "    <tr>\n",
       "      <th>1</th>\n",
       "      <td>cannabis</td>\n",
       "      <td>unknown</td>\n",
       "      <td>smoked</td>\n",
       "      <td>152</td>\n",
       "      <td>not specified</td>\n",
       "      <td>This was the first experience that either my f...</td>\n",
       "      <td>[[this, wa, the, first, experience, that, eith...</td>\n",
       "      <td>0</td>\n",
       "    </tr>\n",
       "    <tr>\n",
       "      <th>2</th>\n",
       "      <td>mdma</td>\n",
       "      <td>160 mg</td>\n",
       "      <td>oral</td>\n",
       "      <td>150</td>\n",
       "      <td>male</td>\n",
       "      <td>Preparation: I have heard some conflicting opi...</td>\n",
       "      <td>[[preparation, , i, have, heard, some, conflic...</td>\n",
       "      <td>1</td>\n",
       "    </tr>\n",
       "    <tr>\n",
       "      <th>3</th>\n",
       "      <td>mdma</td>\n",
       "      <td>100 mg</td>\n",
       "      <td>oral</td>\n",
       "      <td>150</td>\n",
       "      <td>male</td>\n",
       "      <td>Preparation: I have heard some conflicting opi...</td>\n",
       "      <td>[[preparation, , i, have, heard, some, conflic...</td>\n",
       "      <td>1</td>\n",
       "    </tr>\n",
       "    <tr>\n",
       "      <th>4</th>\n",
       "      <td>mdma</td>\n",
       "      <td>50 mg</td>\n",
       "      <td>insufflated</td>\n",
       "      <td>150</td>\n",
       "      <td>male</td>\n",
       "      <td>Preparation: I have heard some conflicting opi...</td>\n",
       "      <td>[[preparation, , i, have, heard, some, conflic...</td>\n",
       "      <td>1</td>\n",
       "    </tr>\n",
       "    <tr>\n",
       "      <th>5</th>\n",
       "      <td>25c-nbome</td>\n",
       "      <td>1 hit</td>\n",
       "      <td>sublingual</td>\n",
       "      <td>165</td>\n",
       "      <td>male</td>\n",
       "      <td>00:00 - Just dropped tab alone. Holding under ...</td>\n",
       "      <td>[[0000, , just, dropped, tab, alone, ], [holdi...</td>\n",
       "      <td>1</td>\n",
       "    </tr>\n",
       "    <tr>\n",
       "      <th>6</th>\n",
       "      <td>alcohol - beer/wine</td>\n",
       "      <td>2 glasses</td>\n",
       "      <td>oral</td>\n",
       "      <td>165</td>\n",
       "      <td>male</td>\n",
       "      <td>00:00 - Just dropped tab alone. Holding under ...</td>\n",
       "      <td>[[0000, , just, dropped, tab, alone, ], [holdi...</td>\n",
       "      <td>1</td>\n",
       "    </tr>\n",
       "    <tr>\n",
       "      <th>7</th>\n",
       "      <td>dmt</td>\n",
       "      <td>100 mg</td>\n",
       "      <td>smoked</td>\n",
       "      <td>170</td>\n",
       "      <td>male</td>\n",
       "      <td>Setting: my apartmentDate: 4/24/2013I lit up t...</td>\n",
       "      <td>[[setting, , my, apartmentdate, , 4242013i, li...</td>\n",
       "      <td>0</td>\n",
       "    </tr>\n",
       "    <tr>\n",
       "      <th>8</th>\n",
       "      <td>4-aco-dmt</td>\n",
       "      <td>30 mg</td>\n",
       "      <td>IM</td>\n",
       "      <td>152</td>\n",
       "      <td>male</td>\n",
       "      <td>Been feeling a lack of motivation of sorts. La...</td>\n",
       "      <td>[[been, feeling, a, lack, of, motivation, of, ...</td>\n",
       "      <td>0</td>\n",
       "    </tr>\n",
       "    <tr>\n",
       "      <th>9</th>\n",
       "      <td>wormwood</td>\n",
       "      <td>2 tsp</td>\n",
       "      <td>oral</td>\n",
       "      <td>225</td>\n",
       "      <td>male</td>\n",
       "      <td>About three days ago I had purchased a 200 gra...</td>\n",
       "      <td>[[about, three, day, ago, i, had, purchased, a...</td>\n",
       "      <td>1</td>\n",
       "    </tr>\n",
       "    <tr>\n",
       "      <th>10</th>\n",
       "      <td>nutmeg</td>\n",
       "      <td>1 tsp</td>\n",
       "      <td>oral</td>\n",
       "      <td>225</td>\n",
       "      <td>male</td>\n",
       "      <td>About three days ago I had purchased a 200 gra...</td>\n",
       "      <td>[[about, three, day, ago, i, had, purchased, a...</td>\n",
       "      <td>1</td>\n",
       "    </tr>\n",
       "    <tr>\n",
       "      <th>11</th>\n",
       "      <td>kava</td>\n",
       "      <td>270 mg</td>\n",
       "      <td>smoked</td>\n",
       "      <td>225</td>\n",
       "      <td>male</td>\n",
       "      <td>About three days ago I had purchased a 200 gra...</td>\n",
       "      <td>[[about, three, day, ago, i, had, purchased, a...</td>\n",
       "      <td>1</td>\n",
       "    </tr>\n",
       "    <tr>\n",
       "      <th>12</th>\n",
       "      <td>piracetam</td>\n",
       "      <td>3.2 g</td>\n",
       "      <td>oral</td>\n",
       "      <td>225</td>\n",
       "      <td>male</td>\n",
       "      <td>For several days prior each morning we took 20...</td>\n",
       "      <td>[[for, several, day, prior, each, morning, we,...</td>\n",
       "      <td>1</td>\n",
       "    </tr>\n",
       "    <tr>\n",
       "      <th>13</th>\n",
       "      <td>vitamins - choline</td>\n",
       "      <td>1 g</td>\n",
       "      <td>oral</td>\n",
       "      <td>225</td>\n",
       "      <td>male</td>\n",
       "      <td>For several days prior each morning we took 20...</td>\n",
       "      <td>[[for, several, day, prior, each, morning, we,...</td>\n",
       "      <td>1</td>\n",
       "    </tr>\n",
       "    <tr>\n",
       "      <th>14</th>\n",
       "      <td>methylone</td>\n",
       "      <td>200 mg</td>\n",
       "      <td>oral</td>\n",
       "      <td>225</td>\n",
       "      <td>male</td>\n",
       "      <td>For several days prior each morning we took 20...</td>\n",
       "      <td>[[for, several, day, prior, each, morning, we,...</td>\n",
       "      <td>1</td>\n",
       "    </tr>\n",
       "  </tbody>\n",
       "</table>\n",
       "</div>"
      ],
      "text/plain": [
       "                    drug       dosage      delivery  weight         gender  \\\n",
       "0                   mdma  1.5 tablets          oral     185           male   \n",
       "1               cannabis      unknown        smoked     152  not specified   \n",
       "2                   mdma       160 mg          oral     150           male   \n",
       "3                   mdma       100 mg          oral     150           male   \n",
       "4                   mdma        50 mg   insufflated     150           male   \n",
       "5              25c-nbome        1 hit    sublingual     165           male   \n",
       "6    alcohol - beer/wine    2 glasses          oral     165           male   \n",
       "7                    dmt       100 mg        smoked     170           male   \n",
       "8              4-aco-dmt        30 mg            IM     152           male   \n",
       "9               wormwood        2 tsp          oral     225           male   \n",
       "10                nutmeg        1 tsp          oral     225           male   \n",
       "11                  kava       270 mg        smoked     225           male   \n",
       "12             piracetam        3.2 g          oral     225           male   \n",
       "13    vitamins - choline          1 g          oral     225           male   \n",
       "14             methylone       200 mg          oral     225           male   \n",
       "\n",
       "                                               report  \\\n",
       "0   My friend had some experience with X and had t...   \n",
       "1   This was the first experience that either my f...   \n",
       "2   Preparation: I have heard some conflicting opi...   \n",
       "3   Preparation: I have heard some conflicting opi...   \n",
       "4   Preparation: I have heard some conflicting opi...   \n",
       "5   00:00 - Just dropped tab alone. Holding under ...   \n",
       "6   00:00 - Just dropped tab alone. Holding under ...   \n",
       "7   Setting: my apartmentDate: 4/24/2013I lit up t...   \n",
       "8   Been feeling a lack of motivation of sorts. La...   \n",
       "9   About three days ago I had purchased a 200 gra...   \n",
       "10  About three days ago I had purchased a 200 gra...   \n",
       "11  About three days ago I had purchased a 200 gra...   \n",
       "12  For several days prior each morning we took 20...   \n",
       "13  For several days prior each morning we took 20...   \n",
       "14  For several days prior each morning we took 20...   \n",
       "\n",
       "                                     processed_report  mixed  \n",
       "0   [[my, friend, had, some, experience, with, x, ...      0  \n",
       "1   [[this, wa, the, first, experience, that, eith...      0  \n",
       "2   [[preparation, , i, have, heard, some, conflic...      1  \n",
       "3   [[preparation, , i, have, heard, some, conflic...      1  \n",
       "4   [[preparation, , i, have, heard, some, conflic...      1  \n",
       "5   [[0000, , just, dropped, tab, alone, ], [holdi...      1  \n",
       "6   [[0000, , just, dropped, tab, alone, ], [holdi...      1  \n",
       "7   [[setting, , my, apartmentdate, , 4242013i, li...      0  \n",
       "8   [[been, feeling, a, lack, of, motivation, of, ...      0  \n",
       "9   [[about, three, day, ago, i, had, purchased, a...      1  \n",
       "10  [[about, three, day, ago, i, had, purchased, a...      1  \n",
       "11  [[about, three, day, ago, i, had, purchased, a...      1  \n",
       "12  [[for, several, day, prior, each, morning, we,...      1  \n",
       "13  [[for, several, day, prior, each, morning, we,...      1  \n",
       "14  [[for, several, day, prior, each, morning, we,...      1  "
      ]
     },
     "execution_count": 31,
     "metadata": {},
     "output_type": "execute_result"
    }
   ],
   "source": [
    "new_df.head(15)"
   ]
  },
  {
   "cell_type": "markdown",
   "metadata": {},
   "source": [
    "Next! We want to reduce the amount of unique drug types. It turns out that many of these drugs have very similar effects our could be classed together. So we will manually create a list for sorting the different values, and then create a function that does the sorting for us."
   ]
  },
  {
   "cell_type": "code",
   "execution_count": 34,
   "metadata": {
    "id": "NXlGrTONYfF5"
   },
   "outputs": [
    {
     "data": {
      "text/plain": [
       "31"
      ]
     },
     "execution_count": 34,
     "metadata": {},
     "output_type": "execute_result"
    }
   ],
   "source": [
    "new_df['drug'] = new_df['drug'].str.strip()\n",
    "\n",
    "def clean_and_categorize(drug):\n",
    "    # Define the substances in each category\n",
    "    mushrooms = ['mushrooms', 'mushrooms - p. tampanensis', 'mushrooms - p. cubensis', 'mushrooms - p. atlantis', 'psilocin',\n",
    "                 'amanitas - a. muscaria', 'mushrooms - p. semilanceata', 'amanitas', 'mushrooms - p. cyanescens',\n",
    "                 'mushrooms - p. mexicana']\n",
    "    entactogens = ['mda', 'methylone', '4-methylmethcathinone', '6-apb', '6-apdb', '6-mapb', '5-apb', '3-methylmethcathinone',\n",
    "                   '3mmc', '3-mmc', '2-aminoindan', '4-fluoroamphetamine', 'mdpv', '4-fluoromethamphetamine', 'mdai',\n",
    "                   'bk-mbdb', '5-mapb', 'bk-mdea', '2-fluoroamphetamine', 'bad/suspect ecstasy']\n",
    "    dissociatives = ['methoxetamine', 'methoxphenidine', 'ephenidine', '3F-PCP', 'nitrous oxide', 'diphenidine', 'inhalants',\n",
    "                     'inhalants - nitrites', 'dxm']\n",
    "    nootropics = ['piracetam', 'l-theanine', 'ginkgo biloba', 'dmae'\n",
    "                  'aniracetam', 'noopept', 'vitamins - choline', 'coluracetam', 'smarts', 'smarts - sulbutiamine',\n",
    "                  'l-dopa', 'meclofenoxate', 'citicoline', 'coluracetam', 'methylliberine', 'levetiracetam', 'aniracetam',\n",
    "                  'tryptophan', 'huperzine', 'melatonin', 'pramiracetam', 'alpha-gpc', 'tyrosine']\n",
    "    synthetic_cannabinoids = ['products - spice-like smoking blends', 'jwh-018', 'am-2201',\n",
    "                              'thj-018', 'synthetic cannabinoids', 'cannabidiol', 'AB-CHMINACA',\n",
    "                              'ab-fubinaca', 'mdmb-chmica', 'ur-144', 'xlr-11', 'jwh-250']\n",
    "    entheogens = ['morning glory', 'syrian rue', 'h.b. woodrose', 'banisteriopsis caapi',\n",
    "                        'tabernanthe iboga', 'voacanga africana', 'harmala alkaloids', 'epimedium spp.',\n",
    "                        'boophone disticha', 'heimia myrtifolia', 'acacia maidenii', 'sida cordifolia',\n",
    "                        'ilex guayusa', 'acacia phlebophylla', 'changa', 'leonotis leonurus', 'leonotis nepetifolia',\n",
    "                        'heimia salicifolia']\n",
    "    depressants = ['products - spice-like smoking blends', 'ghb', 'opioids', 'benzodiazepines', 'oxygen',\n",
    "                         'barbiturates (butalbital)', 'ghv', 'gbl', 'ether', 'butalbital']\n",
    "    stimulants = ['tobacco', 'tobacco - cigarettes', 'cocaine', 'modafinil', 'methamphetamine', '4-methylethcathinone', 'pentedrone', 'methiopropamine', 'nicotine',\n",
    "                  '2-fluoromethamphetamine', 'ethylphenidate', 'alpha-pvp', 'amphetamines', 'ethylcathinone', '5-it', 'crack',\n",
    "                  'ephedrine', 'lisdexamfetamine', 'bzp', '3f-phenmetrazine', 'coca', 'adrafinil', 'armodafinil', 'methcathinone' ]\n",
    "    hallucinogens = ['nbome series', '25c-nbome', '25i-nbome', 'doc', 'dpt', '4-aco-dipt', '4-ho-det', 'brugmansia', '4-ho-dipt',\n",
    "                     'amt', 'products - bath salts', '4-ho-mipt', '25b-nbome', '4-ho-met', 'doi', 'mipt', 'al-lad',\n",
    "                     '4-aco-dalt', 'datura', 'dipt', '4-aco-det', 'dob', 'dom', 'belladonna', 'bromo-dragonfly', 'toad venom',\n",
    "                     'tma-2', '4-aco-mipt', 'ald-52', 'llylescaline', '4-aco-met', 'lsz']\n",
    "    anxiolytics = ['etizolam', 'benzodiazepines', 'clonazolam', 'bromazepam', 'diclazepam', 'fluclotizolam', 'meopp']\n",
    "    antidepressants = ['\"st. johns wort\"', 'duloxetine', 'fluclotizolam', 'maois', 'moclobemide']\n",
    "    pharmaceuticals = ['dexamethasone', 'varenicline', 'tripelennamine', 'triprolidine', 'clozapine', 'clobazam',\n",
    "                       'pseudoephedrine', 'diphenhydramine', 'loperamide', 'chloral hydrate', 'products - other',\n",
    "                       'dimenhydrinate', 'aspirin', 'tapentadol', 'chlorpheniramine maleate', 'acetaminophen',\n",
    "                       'pharmaceuticals', 'ergoloid mesylates', 'scopolamine', 'hydroxyzine', 'naloxone']\n",
    "    opioids = ['opium', 'heroin', 'codeine', 'hydrocodone', 'methadone', 'kratom', 'ah-7921', 'opiates',\n",
    "               'poppies - opium', 'hydromorphone', 'oxycodone', 'morphine', 'poppies', 'poppies - california']\n",
    "    DMT = ['mimosa tenuiflora', 'anadenanthera', 'psychotria viridis', 'acacia confusa', 'acacia', 'det']\n",
    "    mescaline = ['cacti - t. pachanoi', 'cacti - t. peruvianus', 'cacti - columnar', 'peyote', 'cacti - t. bridgesii']\n",
    "    ibogaine = ['ibogaine']\n",
    "    oneirogen = ['silene capensis', 'calea zacatechichi', 'entada rheedii', 'mugwort']\n",
    "    phencyclidine = ['pcp', 'pce', 'dizocilpine']\n",
    "    botanicals = ['kava', 'wormwood', 'nutmeg', 'betel nut', 'tea', 'caffeine', 'coffee', 'yohimbe', 'tagetes lucida',\n",
    "               'chamomile', 'mullein', 'damiana', 'lactuca - l. virosa', 'harmaline', 'sceletium tortuosum',\n",
    "               'ginger', 'valerian', 'catnip', 'skullcap', 'passion flower', 'capsaicin', 'herbal ecstasy', 'theanine',\n",
    "               'lotus/lily', 'yerba mate', 'coleus', 'calamus', 'ginseng', 'lotus/lily - nymphaea nouchali var caerulea',\n",
    "               'hops', 'cacao', 'ephedra sinica']\n",
    "\n",
    "    if 'salvia' in drug: return 'salvia'\n",
    "    elif '3-meo' in drug: return '3-MeO'\n",
    "    elif '5-meo' in drug: return '5-meo'\n",
    "    elif '2c' in drug: return '2c'\n",
    "    elif 'cannabis' in drug: return 'cannabis'\n",
    "    elif 'ayahuasca' in drug: return 'ayahuasca'\n",
    "    elif 'alcohol' in drug: return 'alcohol'\n",
    "    elif 'absinthe' in drug: return 'alcohol'\n",
    "    elif 'ketamine' in drug: return 'ketamine'\n",
    "    elif 'lsd' in drug: return 'lsd'\n",
    "    elif 'mdma' in drug: return 'mdma'\n",
    "    elif any(x in drug for x in DMT) or 'dmt' in drug: return 'DMT'\n",
    "    elif any(x in drug for x in mescaline) or 'mescaline' in drug: return 'mescaline'\n",
    "    elif any(x in drug for x in ibogaine) or 'ibogaine' in drug: return 'ibogaine'\n",
    "    elif any(x in drug for x in oneirogen): return 'oneirogen'\n",
    "    elif any(x in drug for x in phencyclidine): return 'phencyclidine'\n",
    "    elif any(x in drug for x in nootropics) or 'vitamin' in drug: return 'nootropic'\n",
    "    elif any(x in drug for x in pharmaceuticals) or 'pharms' in drug: return 'pharmaceutical'\n",
    "    elif any(x in drug for x in mushrooms) or 'mushrooms' in drug: return 'mushrooms'\n",
    "    elif drug in synthetic_cannabinoids: return 'synthetic cannabinoid'\n",
    "    elif drug in entactogens: return 'entactogen'\n",
    "    elif drug in dissociatives: return 'dissociative'\n",
    "    elif drug in opioids: return 'opioid'\n",
    "    elif drug in entheogens: return 'entheogen'\n",
    "    elif drug in depressants: return 'depressant'\n",
    "    elif drug in hallucinogens: return 'hallucinogen'\n",
    "    elif drug in stimulants: return 'stimulant'\n",
    "    elif drug in anxiolytics: return 'anxiolytic'\n",
    "    elif drug in antidepressants: return 'antidepressant'\n",
    "    elif drug in botanicals: return 'botanical'\n",
    "    elif drug == '[]': return 'unknown'\n",
    "    elif drug == 'various': return 'unknown'\n",
    "    elif drug == 'nan': return 'unknown'\n",
    "    elif drug == 'unknown': return 'unknown'\n",
    "    elif drug == '1': return 'unknown'\n",
    "    else: return 'other'\n",
    "\n",
    "# Create a new column 'drug_category' by applying the 'clean_and_categorize' function to the 'drug' column\n",
    "new_df['drug_category'] = new_df['drug'].apply(clean_and_categorize)\n",
    "len(new_df['drug_category'].unique())\n"
   ]
  },
  {
   "cell_type": "markdown",
   "metadata": {},
   "source": [
    "31 different drug types is still a bit too high. Let's check the values of each of those columns:"
   ]
  },
  {
   "cell_type": "code",
   "execution_count": 47,
   "metadata": {
    "colab": {
     "base_uri": "https://localhost:8080/"
    },
    "executionInfo": {
     "elapsed": 144,
     "status": "ok",
     "timestamp": 1689800197725,
     "user": {
      "displayName": "Jordan Loewen-Colón",
      "userId": "02519743594613944125"
     },
     "user_tz": 240
    },
    "id": "bEzLsk6QYhWk",
    "outputId": "52a87c4e-238f-44de-a209-1edd1882749a"
   },
   "outputs": [
    {
     "data": {
      "text/plain": [
       "drug_category\n",
       "pharmaceutical           10105\n",
       "cannabis                  9606\n",
       "stimulant                 5784\n",
       "mushrooms                 4072\n",
       "botanical                 3810\n",
       "opioid                    3796\n",
       "mdma                      3579\n",
       "alcohol                   3421\n",
       "hallucinogen              3120\n",
       "lsd                       3096\n",
       "other                     2849\n",
       "salvia                    2844\n",
       "2c                        2818\n",
       "dissociative              2640\n",
       "entheogen                 2550\n",
       "DMT                       2364\n",
       "entactogen                1754\n",
       "nootropic                 1659\n",
       "5-meo                     1292\n",
       "ketamine                  1251\n",
       "unknown                    921\n",
       "mescaline                  730\n",
       "depressant                 685\n",
       "anxiolytic                 457\n",
       "synthetic cannabinoid      451\n",
       "oneirogen                  308\n",
       "ayahuasca                  232\n",
       "phencyclidine              219\n",
       "antidepressant             167\n",
       "3-MeO                      137\n",
       "ibogaine                    84\n",
       "Name: count, dtype: int64"
      ]
     },
     "execution_count": 47,
     "metadata": {},
     "output_type": "execute_result"
    }
   ],
   "source": [
    "new_df['drug_category'].value_counts()"
   ]
  },
  {
   "cell_type": "markdown",
   "metadata": {
    "colab": {
     "base_uri": "https://localhost:8080/"
    },
    "executionInfo": {
     "elapsed": 121,
     "status": "ok",
     "timestamp": 1689800447274,
     "user": {
      "displayName": "Jordan Loewen-Colón",
      "userId": "02519743594613944125"
     },
     "user_tz": 240
    },
    "id": "4X9sETIF6OoT",
    "outputId": "c67eace6-1d61-4c17-b455-5b33153b06f8"
   },
   "source": [
    "Now that we've got in narrowed down to 31, we can narrow down even further to just 10 columns:"
   ]
  },
  {
   "cell_type": "code",
   "execution_count": 49,
   "metadata": {
    "colab": {
     "base_uri": "https://localhost:8080/"
    },
    "executionInfo": {
     "elapsed": 39,
     "status": "ok",
     "timestamp": 1690156518222,
     "user": {
      "displayName": "Jordan Loewen-Colón",
      "userId": "02519743594613944125"
     },
     "user_tz": 240
    },
    "id": "iV4dNL1-Hrrb",
    "outputId": "7c4c7d5b-c64d-41dc-d412-a1a78d17a827"
   },
   "outputs": [
    {
     "data": {
      "text/plain": [
       "drug_category\n",
       "Psychedelic              20568\n",
       "Pharmaceutical           10729\n",
       "Cannabinoid              10057\n",
       "Other                     9684\n",
       "Stimulant                 5784\n",
       "Entactogen/Empathogen     5333\n",
       "Dissociative              4110\n",
       "Depressant                4106\n",
       "Opioid                    3796\n",
       "Entheogen                 2634\n",
       "Name: count, dtype: int64"
      ]
     },
     "execution_count": 49,
     "metadata": {},
     "output_type": "execute_result"
    }
   ],
   "source": [
    "# Define the mapping from old categories to new ones\n",
    "category_mapping = {\n",
    "    'pharmaceutical': 'Pharmaceutical',\n",
    "    'cannabis': 'Cannabinoid',\n",
    "    'stimulant': 'Stimulant',\n",
    "    'mushrooms': 'Psychedelic',\n",
    "    'botanical': 'Other',\n",
    "    'opioid': 'Opioid',\n",
    "    'mdma': 'Entactogen/Empathogen',\n",
    "    'alcohol': 'Depressant',\n",
    "    'hallucinogen': 'Psychedelic',\n",
    "    'lsd': 'Psychedelic',\n",
    "    'salvia': 'Psychedelic',\n",
    "    '2c': 'Psychedelic',\n",
    "    'other': 'Other',\n",
    "    'dissociative': 'Dissociative',\n",
    "    'entheogen': 'Entheogen',\n",
    "    'DMT': 'Psychedelic',\n",
    "    'entactogen': 'Entactogen/Empathogen',\n",
    "    'nootropic': 'Other',\n",
    "    '5-meo': 'Psychedelic',\n",
    "    'ketamine': 'Dissociative',\n",
    "    'unknown': 'Other',\n",
    "    'mescaline': 'Psychedelic',\n",
    "    'depressant': 'Depressant',\n",
    "    'synthetic cannabinoid': 'Cannabinoid',\n",
    "    'anxiolytic': 'Pharmaceutical',\n",
    "    'oneirogen': 'Other',\n",
    "    'ayahuasca': 'Psychedelic',\n",
    "    'phencyclidine': 'Dissociative',\n",
    "    'antidepressant': 'Pharmaceutical',\n",
    "    '3-MeO': 'Other',\n",
    "    'ibogaine': 'Entheogen'\n",
    "}\n",
    "\n",
    "# Apply the mapping to the 'drug_category' column\n",
    "new_df['drug_category'] = new_df['drug_category'].map(category_mapping)\n",
    "\n",
    "new_df['drug_category'].value_counts()"
   ]
  },
  {
   "cell_type": "markdown",
   "metadata": {},
   "source": [
    "10 Drug types is far more manageable. It also had the added benefit of increasing the values of our largest and most important category 'psychedelics.' We definitely lose some nuance in particular psychedelic type, but that is a problem for another day. In fact, we need to reduce our data set even more. We will keep all the data for the 'psychedelic', 'Entactogen/Empathogen', 'entheogen' categories, but we will reduce all other categories by 50%."
   ]
  },
  {
   "cell_type": "code",
   "execution_count": 66,
   "metadata": {
    "colab": {
     "base_uri": "https://localhost:8080/"
    },
    "executionInfo": {
     "elapsed": 1282,
     "status": "ok",
     "timestamp": 1690216113949,
     "user": {
      "displayName": "Jordan Loewen-Colón",
      "userId": "02519743594613944125"
     },
     "user_tz": 240
    },
    "id": "hJC2C-_curVX",
    "outputId": "1e29991e-ed3b-43b7-cb8a-49b52403ccd6"
   },
   "outputs": [
    {
     "data": {
      "text/plain": [
       "drug_category\n",
       "Psychedelic              20568\n",
       "Pharmaceutical            5364\n",
       "Entactogen/Empathogen     5333\n",
       "Cannabinoid               5028\n",
       "Other                     4842\n",
       "Stimulant                 2892\n",
       "Entheogen                 2634\n",
       "Dissociative              2055\n",
       "Depressant                2053\n",
       "Opioid                    1898\n",
       "Name: count, dtype: int64"
      ]
     },
     "execution_count": 66,
     "metadata": {},
     "output_type": "execute_result"
    }
   ],
   "source": [
    "# Categories to keep all data\n",
    "full_categories = ['Psychedelic', 'Entactogen/Empathogen', 'Entheogen']\n",
    "\n",
    "# Create an empty DataFrame to hold the final result\n",
    "final_df = pd.DataFrame()\n",
    "\n",
    "# Keep all the data in the full_categories\n",
    "for cat in full_categories:\n",
    "    final_df = pd.concat([final_df, new_df[new_df['drug_category'] == cat]])\n",
    "\n",
    "# For other categories, reduce by 50%\n",
    "other_categories = set(new_df['drug_category'].unique()) - set(full_categories)\n",
    "for cat in other_categories:\n",
    "    cat_df = new_df[new_df['drug_category'] == cat]\n",
    "\n",
    "    # Sample 50% of the data in this category without replacement\n",
    "    reduced_df = cat_df.sample(frac=0.5, replace=False, random_state=42)\n",
    "\n",
    "    final_df = pd.concat([final_df, reduced_df])\n",
    "\n",
    "# Reset the index of the final DataFrame\n",
    "final_df.reset_index(drop=True, inplace=True)\n",
    "\n",
    "final_df.value_counts('drug_category')"
   ]
  },
  {
   "cell_type": "markdown",
   "metadata": {},
   "source": [
    "But we still have the problem of the mixed drugs:"
   ]
  },
  {
   "cell_type": "code",
   "execution_count": 67,
   "metadata": {
    "colab": {
     "base_uri": "https://localhost:8080/"
    },
    "executionInfo": {
     "elapsed": 200,
     "status": "ok",
     "timestamp": 1690216143257,
     "user": {
      "displayName": "Jordan Loewen-Colón",
      "userId": "02519743594613944125"
     },
     "user_tz": 240
    },
    "id": "v5ztVvf2urbx",
    "outputId": "dfcc83d6-60c0-4d61-9aed-fd3b79fb9715"
   },
   "outputs": [
    {
     "data": {
      "text/plain": [
       "mixed\n",
       "1    37459\n",
       "0    15208\n",
       "Name: count, dtype: int64"
      ]
     },
     "execution_count": 67,
     "metadata": {},
     "output_type": "execute_result"
    }
   ],
   "source": [
    "final_df['mixed'].value_counts()"
   ]
  },
  {
   "cell_type": "markdown",
   "metadata": {},
   "source": [
    "We will respond to this problem by doubling the values of our 'unmixed' column, so that those reports that are of a single drug type are given more weight for our predictions and our chat generator."
   ]
  },
  {
   "cell_type": "code",
   "execution_count": 68,
   "metadata": {
    "colab": {
     "base_uri": "https://localhost:8080/"
    },
    "executionInfo": {
     "elapsed": 168,
     "status": "ok",
     "timestamp": 1690216153065,
     "user": {
      "displayName": "Jordan Loewen-Colón",
      "userId": "02519743594613944125"
     },
     "user_tz": 240
    },
    "id": "GEP9RzJiu6EK",
    "outputId": "2ccfa610-b1e0-4ed2-d855-ba39b96f2b52"
   },
   "outputs": [
    {
     "data": {
      "text/plain": [
       "mixed\n",
       "1    37459\n",
       "0    30416\n",
       "Name: count, dtype: int64"
      ]
     },
     "execution_count": 68,
     "metadata": {},
     "output_type": "execute_result"
    }
   ],
   "source": [
    "# Identify not mixed reports\n",
    "not_mixed_df = final_df[final_df['mixed'] == 0]\n",
    "\n",
    "# Append not mixed reports to the final dataframe once (to double them)\n",
    "final_df = pd.concat([final_df, not_mixed_df])\n",
    "\n",
    "# Shuffle the data so it's not all the same reports in a row\n",
    "final_df = final_df.sample(frac=1).reset_index(drop=True)\n",
    "\n",
    "final_df['mixed'].value_counts()"
   ]
  },
  {
   "cell_type": "markdown",
   "metadata": {},
   "source": [
    "This has the added benefit of balancing our classes and giving more weight to our 'pure' drug reports."
   ]
  },
  {
   "cell_type": "code",
   "execution_count": 69,
   "metadata": {
    "colab": {
     "base_uri": "https://localhost:8080/"
    },
    "executionInfo": {
     "elapsed": 127,
     "status": "ok",
     "timestamp": 1690316254767,
     "user": {
      "displayName": "Jordan Loewen-Colón",
      "userId": "02519743594613944125"
     },
     "user_tz": 240
    },
    "id": "q2KUfSVau8ih",
    "outputId": "856e6015-92bc-409a-8b14-35725bbf41bc"
   },
   "outputs": [
    {
     "name": "stdout",
     "output_type": "stream",
     "text": [
      "<class 'pandas.core.frame.DataFrame'>\n",
      "RangeIndex: 67875 entries, 0 to 67874\n",
      "Data columns (total 9 columns):\n",
      " #   Column            Non-Null Count  Dtype \n",
      "---  ------            --------------  ----- \n",
      " 0   drug              67875 non-null  object\n",
      " 1   dosage            67875 non-null  object\n",
      " 2   delivery          67875 non-null  object\n",
      " 3   weight            67875 non-null  int64 \n",
      " 4   gender            67875 non-null  object\n",
      " 5   report            67875 non-null  object\n",
      " 6   processed_report  67875 non-null  object\n",
      " 7   mixed             67875 non-null  int64 \n",
      " 8   drug_category     67875 non-null  object\n",
      "dtypes: int64(2), object(7)\n",
      "memory usage: 4.7+ MB\n"
     ]
    }
   ],
   "source": [
    "final_df.info()"
   ]
  },
  {
   "cell_type": "code",
   "execution_count": 70,
   "metadata": {
    "colab": {
     "base_uri": "https://localhost:8080/",
     "height": 337
    },
    "executionInfo": {
     "elapsed": 304,
     "status": "ok",
     "timestamp": 1690316279577,
     "user": {
      "displayName": "Jordan Loewen-Colón",
      "userId": "02519743594613944125"
     },
     "user_tz": 240
    },
    "id": "b10xaHR3s2mF",
    "outputId": "119438c2-4876-40b0-8e75-1692c5ebac7b"
   },
   "outputs": [
    {
     "data": {
      "text/html": [
       "<div>\n",
       "<style scoped>\n",
       "    .dataframe tbody tr th:only-of-type {\n",
       "        vertical-align: middle;\n",
       "    }\n",
       "\n",
       "    .dataframe tbody tr th {\n",
       "        vertical-align: top;\n",
       "    }\n",
       "\n",
       "    .dataframe thead th {\n",
       "        text-align: right;\n",
       "    }\n",
       "</style>\n",
       "<table border=\"1\" class=\"dataframe\">\n",
       "  <thead>\n",
       "    <tr style=\"text-align: right;\">\n",
       "      <th></th>\n",
       "      <th>drug</th>\n",
       "      <th>dosage</th>\n",
       "      <th>delivery</th>\n",
       "      <th>weight</th>\n",
       "      <th>gender</th>\n",
       "      <th>report</th>\n",
       "      <th>processed_report</th>\n",
       "      <th>mixed</th>\n",
       "      <th>drug_category</th>\n",
       "    </tr>\n",
       "  </thead>\n",
       "  <tbody>\n",
       "    <tr>\n",
       "      <th>0</th>\n",
       "      <td>mdpv</td>\n",
       "      <td></td>\n",
       "      <td>insufflated</td>\n",
       "      <td>140</td>\n",
       "      <td>male</td>\n",
       "      <td>MDPV, Over a Two-Month PeriodI thought I'd sha...</td>\n",
       "      <td>[[mdpv, , over, a, twomonth, periodi, thought,...</td>\n",
       "      <td>1</td>\n",
       "      <td>Entactogen/Empathogen</td>\n",
       "    </tr>\n",
       "    <tr>\n",
       "      <th>1</th>\n",
       "      <td>crack</td>\n",
       "      <td>repeated</td>\n",
       "      <td>smoked</td>\n",
       "      <td>165</td>\n",
       "      <td>male</td>\n",
       "      <td>I'll start this story with a bit of background...</td>\n",
       "      <td>[[i, ll, start, this, story, with, a, bit, of,...</td>\n",
       "      <td>0</td>\n",
       "      <td>Stimulant</td>\n",
       "    </tr>\n",
       "    <tr>\n",
       "      <th>2</th>\n",
       "      <td>methcathinone</td>\n",
       "      <td>10 mg</td>\n",
       "      <td>IV</td>\n",
       "      <td>135</td>\n",
       "      <td>male</td>\n",
       "      <td>I hate the name of this drug. Impossible for m...</td>\n",
       "      <td>[[i, hate, the, name, of, this, drug, ], [impo...</td>\n",
       "      <td>1</td>\n",
       "      <td>Stimulant</td>\n",
       "    </tr>\n",
       "    <tr>\n",
       "      <th>3</th>\n",
       "      <td>jwh-018</td>\n",
       "      <td></td>\n",
       "      <td>smoked</td>\n",
       "      <td>209</td>\n",
       "      <td>male</td>\n",
       "      <td>Me - Male (95kg, 29 y/o, moderate experience o...</td>\n",
       "      <td>[[me, , male, , 95kg, , 29, yo, , moderate, ex...</td>\n",
       "      <td>1</td>\n",
       "      <td>Cannabinoid</td>\n",
       "    </tr>\n",
       "    <tr>\n",
       "      <th>4</th>\n",
       "      <td>pharms - pregabalin</td>\n",
       "      <td></td>\n",
       "      <td></td>\n",
       "      <td>170</td>\n",
       "      <td>male</td>\n",
       "      <td>GBL AddictI was thinking of writing this for a...</td>\n",
       "      <td>[[gbl, addicti, wa, thinking, of, writing, thi...</td>\n",
       "      <td>1</td>\n",
       "      <td>Pharmaceutical</td>\n",
       "    </tr>\n",
       "  </tbody>\n",
       "</table>\n",
       "</div>"
      ],
      "text/plain": [
       "                  drug    dosage     delivery  weight gender  \\\n",
       "0                 mdpv            insufflated     140   male   \n",
       "1                crack  repeated       smoked     165   male   \n",
       "2        methcathinone     10 mg           IV     135   male   \n",
       "3              jwh-018                 smoked     209   male   \n",
       "4  pharms - pregabalin                            170   male   \n",
       "\n",
       "                                              report  \\\n",
       "0  MDPV, Over a Two-Month PeriodI thought I'd sha...   \n",
       "1  I'll start this story with a bit of background...   \n",
       "2  I hate the name of this drug. Impossible for m...   \n",
       "3  Me - Male (95kg, 29 y/o, moderate experience o...   \n",
       "4  GBL AddictI was thinking of writing this for a...   \n",
       "\n",
       "                                    processed_report  mixed  \\\n",
       "0  [[mdpv, , over, a, twomonth, periodi, thought,...      1   \n",
       "1  [[i, ll, start, this, story, with, a, bit, of,...      0   \n",
       "2  [[i, hate, the, name, of, this, drug, ], [impo...      1   \n",
       "3  [[me, , male, , 95kg, , 29, yo, , moderate, ex...      1   \n",
       "4  [[gbl, addicti, wa, thinking, of, writing, thi...      1   \n",
       "\n",
       "           drug_category  \n",
       "0  Entactogen/Empathogen  \n",
       "1              Stimulant  \n",
       "2              Stimulant  \n",
       "3            Cannabinoid  \n",
       "4         Pharmaceutical  "
      ]
     },
     "execution_count": 70,
     "metadata": {},
     "output_type": "execute_result"
    }
   ],
   "source": [
    "final_df.head()"
   ]
  },
  {
   "cell_type": "markdown",
   "metadata": {},
   "source": [
    "It looks like when we exploded the columns, some of the dosage and delivery columns were left null. Let's fill them before saving our cleaned and processed dataset."
   ]
  },
  {
   "cell_type": "code",
   "execution_count": 71,
   "metadata": {
    "colab": {
     "base_uri": "https://localhost:8080/"
    },
    "executionInfo": {
     "elapsed": 124,
     "status": "ok",
     "timestamp": 1690316383967,
     "user": {
      "displayName": "Jordan Loewen-Colón",
      "userId": "02519743594613944125"
     },
     "user_tz": 240
    },
    "id": "oUNbjt5GrnIf",
    "outputId": "20a31bc6-f9c7-4ef0-8c88-59704129e585"
   },
   "outputs": [],
   "source": [
    "# Replace 'null' values in 'dosage' and 'delivery' column with 'unknown'\n",
    "final_df['dosage'] = final_df['dosage'].fillna('unknown')\n",
    "final_df['delivery'] = final_df['delivery'].fillna('unknown')"
   ]
  },
  {
   "cell_type": "code",
   "execution_count": 10,
   "metadata": {
    "executionInfo": {
     "elapsed": 23985,
     "status": "ok",
     "timestamp": 1690316413719,
     "user": {
      "displayName": "Jordan Loewen-Colón",
      "userId": "02519743594613944125"
     },
     "user_tz": 240
    },
    "id": "wkad0VP0upUd"
   },
   "outputs": [],
   "source": [
    "final_df.to_csv('D:/Cloud/Google Drive/Colab Notebooks/Data/processed.csv', index=False)"
   ]
  },
  {
   "cell_type": "code",
   "execution_count": null,
   "metadata": {},
   "outputs": [],
   "source": []
  }
 ],
 "metadata": {
  "colab": {
   "authorship_tag": "ABX9TyMM86oC4AobLhFrLWjVI6XR",
   "gpuType": "T4",
   "mount_file_id": "1dYs8jFVScrGFRcTmo4ZdBuDanKAxt-FP",
   "provenance": []
  },
  "kernelspec": {
   "display_name": "Python 3 (ipykernel)",
   "language": "python",
   "name": "python3"
  },
  "language_info": {
   "codemirror_mode": {
    "name": "ipython",
    "version": 3
   },
   "file_extension": ".py",
   "mimetype": "text/x-python",
   "name": "python",
   "nbconvert_exporter": "python",
   "pygments_lexer": "ipython3",
   "version": "3.8.17"
  }
 },
 "nbformat": 4,
 "nbformat_minor": 4
}
