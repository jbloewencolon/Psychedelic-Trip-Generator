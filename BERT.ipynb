{
  "nbformat": 4,
  "nbformat_minor": 0,
  "metadata": {
    "colab": {
      "provenance": [],
      "history_visible": true,
      "machine_shape": "hm",
      "gpuType": "A100",
      "mount_file_id": "1G_HBjSnrJAx4Sd--fgYycIWWtnqQNHXD",
      "authorship_tag": "ABX9TyOA1YEGb7EN5Pdu4ofT9TQP",
      "include_colab_link": true
    },
    "kernelspec": {
      "name": "python3",
      "display_name": "Python 3"
    },
    "language_info": {
      "name": "python"
    }
  },
  "cells": [
    {
      "cell_type": "markdown",
      "metadata": {
        "id": "view-in-github",
        "colab_type": "text"
      },
      "source": [
        "<a href=\"https://colab.research.google.com/github/jbloewencolon/Psychedelic-Trip-Generator/blob/main/BERT.ipynb\" target=\"_parent\"><img src=\"https://colab.research.google.com/assets/colab-badge.svg\" alt=\"Open In Colab\"/></a>"
      ]
    },
    {
      "cell_type": "code",
      "execution_count": 6,
      "metadata": {
        "id": "3L8ThvWC-cvL"
      },
      "outputs": [],
      "source": [
        "import pandas as pd\n",
        "import numpy as np\n",
        "import seaborn as sns\n",
        "import matplotlib.pyplot as plt\n",
        "import re\n",
        "import torch\n",
        "import xgboost as xgb\n",
        "import os\n",
        "from joblib import dump, load\n",
        "from sklearn.pipeline import Pipeline\n",
        "from sklearn.linear_model import LogisticRegression\n",
        "from sklearn.model_selection import GridSearchCV\n",
        "from sklearn.model_selection import train_test_split\n",
        "from sklearn.ensemble import RandomForestClassifier\n",
        "from sklearn.metrics import classification_report\n",
        "from sklearn.preprocessing import LabelEncoder, StandardScaler\n",
        "from imblearn.pipeline import make_pipeline\n",
        "from xgboost import XGBClassifier\n",
        "from sklearn.base import BaseEstimator, TransformerMixin\n",
        "from transformers import BertTokenizer, BertModel\n",
        "from transformers import AutoTokenizer, AutoModel"
      ]
    },
    {
      "cell_type": "code",
      "source": [
        "#df = pd.read_csv('/content/drive/MyDrive/Colab Notebooks/Data/processed.csv')\n",
        "\n",
        "df = pd.read_csv('D:/Cloud/Google Drive/Colab Notebooks/Data/processed.csv')"
      ],
      "metadata": {
        "id": "H590US3U_Zen"
      },
      "execution_count": 4,
      "outputs": []
    },
    {
      "cell_type": "code",
      "source": [
        "df.info()"
      ],
      "metadata": {
        "id": "mzo_TlQNG-x_",
        "outputId": "7e36dbe1-c27b-493a-fb85-3a3006de4222",
        "colab": {
          "base_uri": "https://localhost:8080/"
        }
      },
      "execution_count": 7,
      "outputs": [
        {
          "output_type": "stream",
          "name": "stdout",
          "text": [
            "<class 'pandas.core.frame.DataFrame'>\n",
            "RangeIndex: 76450 entries, 0 to 76449\n",
            "Data columns (total 11 columns):\n",
            " #   Column            Non-Null Count  Dtype  \n",
            "---  ------            --------------  -----  \n",
            " 0   title             76448 non-null  object \n",
            " 1   drug              76447 non-null  object \n",
            " 2   dosage            73699 non-null  object \n",
            " 3   delivery          74213 non-null  object \n",
            " 4   weight            76449 non-null  float64\n",
            " 5   year              76449 non-null  float64\n",
            " 6   gender            76446 non-null  object \n",
            " 7   report            76439 non-null  object \n",
            " 8   processed_report  76438 non-null  object \n",
            " 9   mixed             76448 non-null  float64\n",
            " 10  drug_category     76448 non-null  object \n",
            "dtypes: float64(3), object(8)\n",
            "memory usage: 6.4+ MB\n"
          ]
        }
      ]
    },
    {
      "cell_type": "code",
      "source": [
        "# Fill missing values with 'unknown' in 'drug_category' column\n",
        "df[['drug', 'dosage', 'delivery']] = df[['drug', 'dosage', 'delivery']].fillna('unknown')\n",
        "\n",
        "df = df.dropna()\n",
        "\n",
        "df.info()"
      ],
      "metadata": {
        "colab": {
          "base_uri": "https://localhost:8080/"
        },
        "id": "YbhusvMOIXe1",
        "outputId": "e60a259c-0fdf-436a-a325-7b9f80638d0a"
      },
      "execution_count": 8,
      "outputs": [
        {
          "output_type": "stream",
          "name": "stdout",
          "text": [
            "<class 'pandas.core.frame.DataFrame'>\n",
            "Int64Index: 76438 entries, 0 to 76449\n",
            "Data columns (total 11 columns):\n",
            " #   Column            Non-Null Count  Dtype  \n",
            "---  ------            --------------  -----  \n",
            " 0   title             76438 non-null  object \n",
            " 1   drug              76438 non-null  object \n",
            " 2   dosage            76438 non-null  object \n",
            " 3   delivery          76438 non-null  object \n",
            " 4   weight            76438 non-null  float64\n",
            " 5   year              76438 non-null  float64\n",
            " 6   gender            76438 non-null  object \n",
            " 7   report            76438 non-null  object \n",
            " 8   processed_report  76438 non-null  object \n",
            " 9   mixed             76438 non-null  float64\n",
            " 10  drug_category     76438 non-null  object \n",
            "dtypes: float64(3), object(8)\n",
            "memory usage: 7.0+ MB\n"
          ]
        }
      ]
    },
    {
      "cell_type": "code",
      "source": [
        "df.head()"
      ],
      "metadata": {
        "id": "uXoi-tsyHAnO",
        "outputId": "e823bba1-81d8-4bc5-cccf-24e371bfe45b",
        "colab": {
          "base_uri": "https://localhost:8080/",
          "height": 206
        }
      },
      "execution_count": 9,
      "outputs": [
        {
          "output_type": "execute_result",
          "data": {
            "text/plain": [
              "                                   title      drug       dosage      delivery  \\\n",
              "0                             Ode to Joy      mdma  1.5 tablets          oral   \n",
              "1  Make Sure the Music's Not Too Complex  cannabis      unknown        smoked   \n",
              "2                            After Hours      mdma       160 mg          oral   \n",
              "3                            After Hours      mdma       100 mg          oral   \n",
              "4                            After Hours      mdma        50 mg   insufflated   \n",
              "\n",
              "   weight    year         gender  \\\n",
              "0   185.0  2000.0           male   \n",
              "1   152.0  1999.0  not specified   \n",
              "2   150.0  2001.0           male   \n",
              "3   150.0  2001.0           male   \n",
              "4   150.0  2001.0           male   \n",
              "\n",
              "                                              report  \\\n",
              "0  My friend had some experience with X and had t...   \n",
              "1  This was the first experience that either my f...   \n",
              "2  Preparation: I have heard some conflicting opi...   \n",
              "3  Preparation: I have heard some conflicting opi...   \n",
              "4  Preparation: I have heard some conflicting opi...   \n",
              "\n",
              "                                    processed_report  mixed drug_category  \n",
              "0  friend experi x told one day said come across ...    0.0          mdma  \n",
              "1  first experi either friend salvia housem check...    0.0      cannabis  \n",
              "2  prepar heard conflict opinion 5htp ie load day...    1.0          mdma  \n",
              "3  prepar heard conflict opinion 5htp ie load day...    1.0          mdma  \n",
              "4  prepar heard conflict opinion 5htp ie load day...    1.0          mdma  "
            ],
            "text/html": [
              "<div>\n",
              "<style scoped>\n",
              "    .dataframe tbody tr th:only-of-type {\n",
              "        vertical-align: middle;\n",
              "    }\n",
              "\n",
              "    .dataframe tbody tr th {\n",
              "        vertical-align: top;\n",
              "    }\n",
              "\n",
              "    .dataframe thead th {\n",
              "        text-align: right;\n",
              "    }\n",
              "</style>\n",
              "<table border=\"1\" class=\"dataframe\">\n",
              "  <thead>\n",
              "    <tr style=\"text-align: right;\">\n",
              "      <th></th>\n",
              "      <th>title</th>\n",
              "      <th>drug</th>\n",
              "      <th>dosage</th>\n",
              "      <th>delivery</th>\n",
              "      <th>weight</th>\n",
              "      <th>year</th>\n",
              "      <th>gender</th>\n",
              "      <th>report</th>\n",
              "      <th>processed_report</th>\n",
              "      <th>mixed</th>\n",
              "      <th>drug_category</th>\n",
              "    </tr>\n",
              "  </thead>\n",
              "  <tbody>\n",
              "    <tr>\n",
              "      <th>0</th>\n",
              "      <td>Ode to Joy</td>\n",
              "      <td>mdma</td>\n",
              "      <td>1.5 tablets</td>\n",
              "      <td>oral</td>\n",
              "      <td>185.0</td>\n",
              "      <td>2000.0</td>\n",
              "      <td>male</td>\n",
              "      <td>My friend had some experience with X and had t...</td>\n",
              "      <td>friend experi x told one day said come across ...</td>\n",
              "      <td>0.0</td>\n",
              "      <td>mdma</td>\n",
              "    </tr>\n",
              "    <tr>\n",
              "      <th>1</th>\n",
              "      <td>Make Sure the Music's Not Too Complex</td>\n",
              "      <td>cannabis</td>\n",
              "      <td>unknown</td>\n",
              "      <td>smoked</td>\n",
              "      <td>152.0</td>\n",
              "      <td>1999.0</td>\n",
              "      <td>not specified</td>\n",
              "      <td>This was the first experience that either my f...</td>\n",
              "      <td>first experi either friend salvia housem check...</td>\n",
              "      <td>0.0</td>\n",
              "      <td>cannabis</td>\n",
              "    </tr>\n",
              "    <tr>\n",
              "      <th>2</th>\n",
              "      <td>After Hours</td>\n",
              "      <td>mdma</td>\n",
              "      <td>160 mg</td>\n",
              "      <td>oral</td>\n",
              "      <td>150.0</td>\n",
              "      <td>2001.0</td>\n",
              "      <td>male</td>\n",
              "      <td>Preparation: I have heard some conflicting opi...</td>\n",
              "      <td>prepar heard conflict opinion 5htp ie load day...</td>\n",
              "      <td>1.0</td>\n",
              "      <td>mdma</td>\n",
              "    </tr>\n",
              "    <tr>\n",
              "      <th>3</th>\n",
              "      <td>After Hours</td>\n",
              "      <td>mdma</td>\n",
              "      <td>100 mg</td>\n",
              "      <td>oral</td>\n",
              "      <td>150.0</td>\n",
              "      <td>2001.0</td>\n",
              "      <td>male</td>\n",
              "      <td>Preparation: I have heard some conflicting opi...</td>\n",
              "      <td>prepar heard conflict opinion 5htp ie load day...</td>\n",
              "      <td>1.0</td>\n",
              "      <td>mdma</td>\n",
              "    </tr>\n",
              "    <tr>\n",
              "      <th>4</th>\n",
              "      <td>After Hours</td>\n",
              "      <td>mdma</td>\n",
              "      <td>50 mg</td>\n",
              "      <td>insufflated</td>\n",
              "      <td>150.0</td>\n",
              "      <td>2001.0</td>\n",
              "      <td>male</td>\n",
              "      <td>Preparation: I have heard some conflicting opi...</td>\n",
              "      <td>prepar heard conflict opinion 5htp ie load day...</td>\n",
              "      <td>1.0</td>\n",
              "      <td>mdma</td>\n",
              "    </tr>\n",
              "  </tbody>\n",
              "</table>\n",
              "</div>"
            ]
          },
          "metadata": {},
          "execution_count": 9
        }
      ]
    },
    {
      "cell_type": "code",
      "source": [
        "df['drug_category'].value_counts()"
      ],
      "metadata": {
        "colab": {
          "base_uri": "https://localhost:8080/"
        },
        "id": "hmHK62eNuVal",
        "outputId": "0dd57c27-5936-415e-d015-1c23c20af845"
      },
      "execution_count": null,
      "outputs": [
        {
          "output_type": "execute_result",
          "data": {
            "text/plain": [
              "pharmaceutical           10125\n",
              "cannabis                  9536\n",
              "stimulant                 5780\n",
              "mushrooms                 4055\n",
              "botanical                 3814\n",
              "opioid                    3795\n",
              "mdma                      3560\n",
              "alcohol                   3368\n",
              "hallucinogen              3128\n",
              "lsd                       3064\n",
              "salvia                    2831\n",
              "2c                        2812\n",
              "other                     2746\n",
              "dissociative              2624\n",
              "entheogen                 2546\n",
              "DMT                       2362\n",
              "entactogen                1754\n",
              "nootropic                 1653\n",
              "5-meo                     1290\n",
              "ketamine                  1233\n",
              "unknown                    923\n",
              "mescaline                  726\n",
              "depressant                 686\n",
              "synthetic cannabinoid      451\n",
              "anxiolytic                 448\n",
              "oneirogen                  307\n",
              "ayahuasca                  229\n",
              "phencyclidine              216\n",
              "antidepressant             167\n",
              "3-MeO                      131\n",
              "ibogaine                    78\n",
              "Name: drug_category, dtype: int64"
            ]
          },
          "metadata": {},
          "execution_count": 6
        }
      ]
    },
    {
      "cell_type": "code",
      "source": [
        "# Define the mapping from old categories to new ones\n",
        "category_mapping = {\n",
        "    'pharmaceutical': 'Pharmaceutical',\n",
        "    'cannabis': 'Cannabinoid',\n",
        "    'stimulant': 'Stimulant',\n",
        "    'mushrooms': 'Psychedelic',\n",
        "    'botanical': 'Other',\n",
        "    'opioid': 'Opioid',\n",
        "    'mdma': 'Entactogen/Empathogen',\n",
        "    'alcohol': 'Depressant',\n",
        "    'hallucinogen': 'Psychedelic',\n",
        "    'lsd': 'Psychedelic',\n",
        "    'salvia': 'Psychedelic',\n",
        "    '2c': 'Psychedelic',\n",
        "    'other': 'Other',\n",
        "    'dissociative': 'Dissociative',\n",
        "    'entheogen': 'Entheogen',\n",
        "    'DMT': 'Psychedelic',\n",
        "    'entactogen': 'Entactogen/Empathogen',\n",
        "    'nootropic': 'Other',\n",
        "    '5-meo': 'Psychedelic',\n",
        "    'ketamine': 'Dissociative',\n",
        "    'unknown': 'Other',\n",
        "    'mescaline': 'Psychedelic',\n",
        "    'depressant': 'Depressant',\n",
        "    'synthetic cannabinoid': 'Cannabinoid',\n",
        "    'anxiolytic': 'Pharmaceutical',\n",
        "    'oneirogen': 'Other',\n",
        "    'ayahuasca': 'Psychedelic',\n",
        "    'phencyclidine': 'Dissociative',\n",
        "    'antidepressant': 'Pharmaceutical',\n",
        "    '3-MeO': 'Other',\n",
        "    'ibogaine': 'Entheogen'\n",
        "}\n",
        "\n",
        "# Apply the mapping to the 'drug_category' column and create a new column 'grouped_drug_category'\n",
        "df['drug_category'] = df['drug_category'].map(category_mapping)\n",
        "\n",
        "df['drug_category'].value_counts()"
      ],
      "metadata": {
        "colab": {
          "base_uri": "https://localhost:8080/"
        },
        "id": "1vX5jkdztN1V",
        "outputId": "0ecd9ecf-f4e1-452d-8215-2fcc0f5e6c43"
      },
      "execution_count": 10,
      "outputs": [
        {
          "output_type": "execute_result",
          "data": {
            "text/plain": [
              "Psychedelic              20497\n",
              "Pharmaceutical           10740\n",
              "Cannabinoid               9987\n",
              "Other                     9574\n",
              "Stimulant                 5780\n",
              "Entactogen/Empathogen     5314\n",
              "Dissociative              4073\n",
              "Depressant                4054\n",
              "Opioid                    3795\n",
              "Entheogen                 2624\n",
              "Name: drug_category, dtype: int64"
            ]
          },
          "metadata": {},
          "execution_count": 10
        }
      ]
    },
    {
      "cell_type": "code",
      "source": [
        "df.head()"
      ],
      "metadata": {
        "colab": {
          "base_uri": "https://localhost:8080/",
          "height": 423
        },
        "id": "IHoP7dFy9KVx",
        "outputId": "53070b69-4556-491d-b960-735d2d77ec35"
      },
      "execution_count": null,
      "outputs": [
        {
          "output_type": "execute_result",
          "data": {
            "text/plain": [
              "                                   title      drug       dosage      delivery  \\\n",
              "0                             Ode to Joy      mdma  1.5 tablets          oral   \n",
              "1  Make Sure the Music's Not Too Complex  cannabis      unknown        smoked   \n",
              "2                            After Hours      mdma       160 mg          oral   \n",
              "3                            After Hours      mdma       100 mg          oral   \n",
              "4                            After Hours      mdma        50 mg   insufflated   \n",
              "\n",
              "   weight    year         gender  \\\n",
              "0   185.0  2000.0           male   \n",
              "1   152.0  1999.0  not specified   \n",
              "2   150.0  2001.0           male   \n",
              "3   150.0  2001.0           male   \n",
              "4   150.0  2001.0           male   \n",
              "\n",
              "                                              report  \\\n",
              "0  My friend had some experience with X and had t...   \n",
              "1  This was the first experience that either my f...   \n",
              "2  Preparation: I have heard some conflicting opi...   \n",
              "3  Preparation: I have heard some conflicting opi...   \n",
              "4  Preparation: I have heard some conflicting opi...   \n",
              "\n",
              "                                    processed_report  mixed  \\\n",
              "0  friend experi x told one day said come across ...    0.0   \n",
              "1  first experi either friend salvia housem check...    0.0   \n",
              "2  prepar heard conflict opinion 5htp ie load day...    1.0   \n",
              "3  prepar heard conflict opinion 5htp ie load day...    1.0   \n",
              "4  prepar heard conflict opinion 5htp ie load day...    1.0   \n",
              "\n",
              "           drug_category  \n",
              "0  Entactogen/Empathogen  \n",
              "1            Cannabinoid  \n",
              "2  Entactogen/Empathogen  \n",
              "3  Entactogen/Empathogen  \n",
              "4  Entactogen/Empathogen  "
            ],
            "text/html": [
              "\n",
              "\n",
              "  <div id=\"df-1e630ef8-4b03-447b-ab29-a94913a51664\">\n",
              "    <div class=\"colab-df-container\">\n",
              "      <div>\n",
              "<style scoped>\n",
              "    .dataframe tbody tr th:only-of-type {\n",
              "        vertical-align: middle;\n",
              "    }\n",
              "\n",
              "    .dataframe tbody tr th {\n",
              "        vertical-align: top;\n",
              "    }\n",
              "\n",
              "    .dataframe thead th {\n",
              "        text-align: right;\n",
              "    }\n",
              "</style>\n",
              "<table border=\"1\" class=\"dataframe\">\n",
              "  <thead>\n",
              "    <tr style=\"text-align: right;\">\n",
              "      <th></th>\n",
              "      <th>title</th>\n",
              "      <th>drug</th>\n",
              "      <th>dosage</th>\n",
              "      <th>delivery</th>\n",
              "      <th>weight</th>\n",
              "      <th>year</th>\n",
              "      <th>gender</th>\n",
              "      <th>report</th>\n",
              "      <th>processed_report</th>\n",
              "      <th>mixed</th>\n",
              "      <th>drug_category</th>\n",
              "    </tr>\n",
              "  </thead>\n",
              "  <tbody>\n",
              "    <tr>\n",
              "      <th>0</th>\n",
              "      <td>Ode to Joy</td>\n",
              "      <td>mdma</td>\n",
              "      <td>1.5 tablets</td>\n",
              "      <td>oral</td>\n",
              "      <td>185.0</td>\n",
              "      <td>2000.0</td>\n",
              "      <td>male</td>\n",
              "      <td>My friend had some experience with X and had t...</td>\n",
              "      <td>friend experi x told one day said come across ...</td>\n",
              "      <td>0.0</td>\n",
              "      <td>Entactogen/Empathogen</td>\n",
              "    </tr>\n",
              "    <tr>\n",
              "      <th>1</th>\n",
              "      <td>Make Sure the Music's Not Too Complex</td>\n",
              "      <td>cannabis</td>\n",
              "      <td>unknown</td>\n",
              "      <td>smoked</td>\n",
              "      <td>152.0</td>\n",
              "      <td>1999.0</td>\n",
              "      <td>not specified</td>\n",
              "      <td>This was the first experience that either my f...</td>\n",
              "      <td>first experi either friend salvia housem check...</td>\n",
              "      <td>0.0</td>\n",
              "      <td>Cannabinoid</td>\n",
              "    </tr>\n",
              "    <tr>\n",
              "      <th>2</th>\n",
              "      <td>After Hours</td>\n",
              "      <td>mdma</td>\n",
              "      <td>160 mg</td>\n",
              "      <td>oral</td>\n",
              "      <td>150.0</td>\n",
              "      <td>2001.0</td>\n",
              "      <td>male</td>\n",
              "      <td>Preparation: I have heard some conflicting opi...</td>\n",
              "      <td>prepar heard conflict opinion 5htp ie load day...</td>\n",
              "      <td>1.0</td>\n",
              "      <td>Entactogen/Empathogen</td>\n",
              "    </tr>\n",
              "    <tr>\n",
              "      <th>3</th>\n",
              "      <td>After Hours</td>\n",
              "      <td>mdma</td>\n",
              "      <td>100 mg</td>\n",
              "      <td>oral</td>\n",
              "      <td>150.0</td>\n",
              "      <td>2001.0</td>\n",
              "      <td>male</td>\n",
              "      <td>Preparation: I have heard some conflicting opi...</td>\n",
              "      <td>prepar heard conflict opinion 5htp ie load day...</td>\n",
              "      <td>1.0</td>\n",
              "      <td>Entactogen/Empathogen</td>\n",
              "    </tr>\n",
              "    <tr>\n",
              "      <th>4</th>\n",
              "      <td>After Hours</td>\n",
              "      <td>mdma</td>\n",
              "      <td>50 mg</td>\n",
              "      <td>insufflated</td>\n",
              "      <td>150.0</td>\n",
              "      <td>2001.0</td>\n",
              "      <td>male</td>\n",
              "      <td>Preparation: I have heard some conflicting opi...</td>\n",
              "      <td>prepar heard conflict opinion 5htp ie load day...</td>\n",
              "      <td>1.0</td>\n",
              "      <td>Entactogen/Empathogen</td>\n",
              "    </tr>\n",
              "  </tbody>\n",
              "</table>\n",
              "</div>\n",
              "      <button class=\"colab-df-convert\" onclick=\"convertToInteractive('df-1e630ef8-4b03-447b-ab29-a94913a51664')\"\n",
              "              title=\"Convert this dataframe to an interactive table.\"\n",
              "              style=\"display:none;\">\n",
              "\n",
              "  <svg xmlns=\"http://www.w3.org/2000/svg\" height=\"24px\"viewBox=\"0 0 24 24\"\n",
              "       width=\"24px\">\n",
              "    <path d=\"M0 0h24v24H0V0z\" fill=\"none\"/>\n",
              "    <path d=\"M18.56 5.44l.94 2.06.94-2.06 2.06-.94-2.06-.94-.94-2.06-.94 2.06-2.06.94zm-11 1L8.5 8.5l.94-2.06 2.06-.94-2.06-.94L8.5 2.5l-.94 2.06-2.06.94zm10 10l.94 2.06.94-2.06 2.06-.94-2.06-.94-.94-2.06-.94 2.06-2.06.94z\"/><path d=\"M17.41 7.96l-1.37-1.37c-.4-.4-.92-.59-1.43-.59-.52 0-1.04.2-1.43.59L10.3 9.45l-7.72 7.72c-.78.78-.78 2.05 0 2.83L4 21.41c.39.39.9.59 1.41.59.51 0 1.02-.2 1.41-.59l7.78-7.78 2.81-2.81c.8-.78.8-2.07 0-2.86zM5.41 20L4 18.59l7.72-7.72 1.47 1.35L5.41 20z\"/>\n",
              "  </svg>\n",
              "      </button>\n",
              "\n",
              "\n",
              "\n",
              "    <div id=\"df-e740504e-7735-48fb-9f3f-06f085d6daff\">\n",
              "      <button class=\"colab-df-quickchart\" onclick=\"quickchart('df-e740504e-7735-48fb-9f3f-06f085d6daff')\"\n",
              "              title=\"Suggest charts.\"\n",
              "              style=\"display:none;\">\n",
              "\n",
              "<svg xmlns=\"http://www.w3.org/2000/svg\" height=\"24px\"viewBox=\"0 0 24 24\"\n",
              "     width=\"24px\">\n",
              "    <g>\n",
              "        <path d=\"M19 3H5c-1.1 0-2 .9-2 2v14c0 1.1.9 2 2 2h14c1.1 0 2-.9 2-2V5c0-1.1-.9-2-2-2zM9 17H7v-7h2v7zm4 0h-2V7h2v10zm4 0h-2v-4h2v4z\"/>\n",
              "    </g>\n",
              "</svg>\n",
              "      </button>\n",
              "    </div>\n",
              "\n",
              "<style>\n",
              "  .colab-df-quickchart {\n",
              "    background-color: #E8F0FE;\n",
              "    border: none;\n",
              "    border-radius: 50%;\n",
              "    cursor: pointer;\n",
              "    display: none;\n",
              "    fill: #1967D2;\n",
              "    height: 32px;\n",
              "    padding: 0 0 0 0;\n",
              "    width: 32px;\n",
              "  }\n",
              "\n",
              "  .colab-df-quickchart:hover {\n",
              "    background-color: #E2EBFA;\n",
              "    box-shadow: 0px 1px 2px rgba(60, 64, 67, 0.3), 0px 1px 3px 1px rgba(60, 64, 67, 0.15);\n",
              "    fill: #174EA6;\n",
              "  }\n",
              "\n",
              "  [theme=dark] .colab-df-quickchart {\n",
              "    background-color: #3B4455;\n",
              "    fill: #D2E3FC;\n",
              "  }\n",
              "\n",
              "  [theme=dark] .colab-df-quickchart:hover {\n",
              "    background-color: #434B5C;\n",
              "    box-shadow: 0px 1px 3px 1px rgba(0, 0, 0, 0.15);\n",
              "    filter: drop-shadow(0px 1px 2px rgba(0, 0, 0, 0.3));\n",
              "    fill: #FFFFFF;\n",
              "  }\n",
              "</style>\n",
              "\n",
              "    <script>\n",
              "      async function quickchart(key) {\n",
              "        const containerElement = document.querySelector('#' + key);\n",
              "        const charts = await google.colab.kernel.invokeFunction(\n",
              "            'suggestCharts', [key], {});\n",
              "      }\n",
              "    </script>\n",
              "\n",
              "      <script>\n",
              "\n",
              "function displayQuickchartButton(domScope) {\n",
              "  let quickchartButtonEl =\n",
              "    domScope.querySelector('#df-e740504e-7735-48fb-9f3f-06f085d6daff button.colab-df-quickchart');\n",
              "  quickchartButtonEl.style.display =\n",
              "    google.colab.kernel.accessAllowed ? 'block' : 'none';\n",
              "}\n",
              "\n",
              "        displayQuickchartButton(document);\n",
              "      </script>\n",
              "      <style>\n",
              "    .colab-df-container {\n",
              "      display:flex;\n",
              "      flex-wrap:wrap;\n",
              "      gap: 12px;\n",
              "    }\n",
              "\n",
              "    .colab-df-convert {\n",
              "      background-color: #E8F0FE;\n",
              "      border: none;\n",
              "      border-radius: 50%;\n",
              "      cursor: pointer;\n",
              "      display: none;\n",
              "      fill: #1967D2;\n",
              "      height: 32px;\n",
              "      padding: 0 0 0 0;\n",
              "      width: 32px;\n",
              "    }\n",
              "\n",
              "    .colab-df-convert:hover {\n",
              "      background-color: #E2EBFA;\n",
              "      box-shadow: 0px 1px 2px rgba(60, 64, 67, 0.3), 0px 1px 3px 1px rgba(60, 64, 67, 0.15);\n",
              "      fill: #174EA6;\n",
              "    }\n",
              "\n",
              "    [theme=dark] .colab-df-convert {\n",
              "      background-color: #3B4455;\n",
              "      fill: #D2E3FC;\n",
              "    }\n",
              "\n",
              "    [theme=dark] .colab-df-convert:hover {\n",
              "      background-color: #434B5C;\n",
              "      box-shadow: 0px 1px 3px 1px rgba(0, 0, 0, 0.15);\n",
              "      filter: drop-shadow(0px 1px 2px rgba(0, 0, 0, 0.3));\n",
              "      fill: #FFFFFF;\n",
              "    }\n",
              "  </style>\n",
              "\n",
              "      <script>\n",
              "        const buttonEl =\n",
              "          document.querySelector('#df-1e630ef8-4b03-447b-ab29-a94913a51664 button.colab-df-convert');\n",
              "        buttonEl.style.display =\n",
              "          google.colab.kernel.accessAllowed ? 'block' : 'none';\n",
              "\n",
              "        async function convertToInteractive(key) {\n",
              "          const element = document.querySelector('#df-1e630ef8-4b03-447b-ab29-a94913a51664');\n",
              "          const dataTable =\n",
              "            await google.colab.kernel.invokeFunction('convertToInteractive',\n",
              "                                                     [key], {});\n",
              "          if (!dataTable) return;\n",
              "\n",
              "          const docLinkHtml = 'Like what you see? Visit the ' +\n",
              "            '<a target=\"_blank\" href=https://colab.research.google.com/notebooks/data_table.ipynb>data table notebook</a>'\n",
              "            + ' to learn more about interactive tables.';\n",
              "          element.innerHTML = '';\n",
              "          dataTable['output_type'] = 'display_data';\n",
              "          await google.colab.output.renderOutput(dataTable, element);\n",
              "          const docLink = document.createElement('div');\n",
              "          docLink.innerHTML = docLinkHtml;\n",
              "          element.appendChild(docLink);\n",
              "        }\n",
              "      </script>\n",
              "    </div>\n",
              "  </div>\n"
            ]
          },
          "metadata": {},
          "execution_count": 8
        }
      ]
    },
    {
      "cell_type": "code",
      "source": [
        "# Set the device to GPU (if available)\n",
        "device = torch.device(\"cuda\" if torch.cuda.is_available() else \"cpu\")\n",
        "\n",
        "# Load pre-trained model tokenizer\n",
        "tokenizer = BertTokenizer.from_pretrained('bert-base-uncased')\n",
        "\n",
        "# Load pre-trained model (weights)\n",
        "model = BertModel.from_pretrained('bert-base-uncased', output_hidden_states = True)\n",
        "model = model.to(device)  # Move model to GPU if available\n",
        "model.eval()  # Put the model in \"evaluation\" mode\n",
        "\n",
        "def get_bert_embeddings(text, tokenizer, model):\n",
        "    # Add special tokens takes care of adding [CLS], [SEP], <s>... tokens in the right way for BERT\n",
        "    marked_text = \"[CLS] \" + text + \" [SEP]\"\n",
        "    tokenized_text = tokenizer.tokenize(marked_text)\n",
        "\n",
        "    # Check tokenized text length\n",
        "    if len(tokenized_text) > 512:\n",
        "        tokenized_text = tokenized_text[:512]  # Truncate if too long\n",
        "\n",
        "    indexed_tokens = tokenizer.convert_tokens_to_ids(tokenized_text)\n",
        "\n",
        "    segments_ids = [1] * len(tokenized_text)\n",
        "\n",
        "    # Convert inputs to PyTorch tensors\n",
        "    tokens_tensor = torch.tensor([indexed_tokens]).to(device)\n",
        "    segments_tensors = torch.tensor([segments_ids]).to(device)\n",
        "\n",
        "    # Predict hidden states features for each layer\n",
        "    with torch.no_grad():\n",
        "        outputs = model(tokens_tensor, segments_tensors)\n",
        "        hidden_states = outputs.hidden_states\n",
        "\n",
        "    token_embeddings = torch.stack(hidden_states, dim=0)\n",
        "    token_embeddings = torch.squeeze(token_embeddings, dim=1)\n",
        "    token_embeddings = token_embeddings.permute(1,0,2)\n",
        "\n",
        "    # Sum the vectors from the last four layers.\n",
        "    sum_vec = torch.sum(token_embeddings[-4:], dim=0)\n",
        "\n",
        "    return sum_vec"
      ],
      "metadata": {
        "id": "pR-28yaQvouJ"
      },
      "execution_count": 9,
      "outputs": []
    },
    {
      "cell_type": "code",
      "source": [
        "# Check if the model and tokenizer are already saved\n",
        "model_file = \"D:/Cloud/Google Drive/Colab Notebooks/Data/bert_model.joblib\"\n",
        "tokenizer_file = \"D:/Cloud/Google Drive/Colab Notebooks/Data/bert_tokenizer.joblib\"\n",
        "\n",
        "# If model and tokenizer files exist, load them. Otherwise, download and save them.\n",
        "if os.path.exists(model_file) and os.path.exists(tokenizer_file):\n",
        "    model = load(model_file)\n",
        "    tokenizer = load(tokenizer_file)\n",
        "else:\n",
        "    # Load pre-trained model tokenizer\n",
        "    tokenizer = BertTokenizer.from_pretrained('bert-base-uncased')\n",
        "\n",
        "    # Load pre-trained model (weights)\n",
        "    model = BertModel.from_pretrained('bert-base-uncased', output_hidden_states=True)\n",
        "    model = model.to(device)  # Move model to GPU if available\n",
        "    model.eval()  # Put the model in \"evaluation\" mode\n",
        "\n",
        "    dump(model, model_file)\n",
        "    dump(tokenizer, tokenizer_file)"
      ],
      "metadata": {
        "id": "zghgQQSUVIce"
      },
      "execution_count": 7,
      "outputs": []
    },
    {
      "cell_type": "code",
      "source": [
        "df.info()"
      ],
      "metadata": {
        "id": "PSfcFWK31zEa"
      },
      "execution_count": null,
      "outputs": []
    },
    {
      "cell_type": "code",
      "source": [
        "df['processed_report'] = df['processed_report'].astype(str)\n",
        "\n",
        "# Get the processed reports\n",
        "processed_reports = df['processed_report'].tolist()\n",
        "\n",
        "# Compute the BERT embeddings for each report\n",
        "bert_embeddings = [get_bert_embeddings(report, tokenizer, model) for report in processed_reports]"
      ],
      "metadata": {
        "colab": {
          "base_uri": "https://localhost:8080/",
          "height": 408
        },
        "id": "ptNGev_N690a",
        "outputId": "1e7b231b-19ad-41a6-daa6-fbfeb2695d80"
      },
      "execution_count": 10,
      "outputs": [
        {
          "output_type": "error",
          "ename": "TypeError",
          "evalue": "ignored",
          "traceback": [
            "\u001b[1;31m---------------------------------------------------------------------------\u001b[0m",
            "\u001b[1;31mTypeError\u001b[0m                                 Traceback (most recent call last)",
            "Cell \u001b[1;32mIn[10], line 5\u001b[0m\n\u001b[0;32m      2\u001b[0m processed_reports \u001b[38;5;241m=\u001b[39m df[\u001b[38;5;124m'\u001b[39m\u001b[38;5;124mprocessed_report\u001b[39m\u001b[38;5;124m'\u001b[39m]\u001b[38;5;241m.\u001b[39mtolist()\n\u001b[0;32m      4\u001b[0m \u001b[38;5;66;03m# Compute the BERT embeddings for each report\u001b[39;00m\n\u001b[1;32m----> 5\u001b[0m bert_embeddings \u001b[38;5;241m=\u001b[39m [get_bert_embeddings(report, tokenizer, model) \u001b[38;5;28;01mfor\u001b[39;00m report \u001b[38;5;129;01min\u001b[39;00m processed_reports]\n",
            "Cell \u001b[1;32mIn[10], line 5\u001b[0m, in \u001b[0;36m<listcomp>\u001b[1;34m(.0)\u001b[0m\n\u001b[0;32m      2\u001b[0m processed_reports \u001b[38;5;241m=\u001b[39m df[\u001b[38;5;124m'\u001b[39m\u001b[38;5;124mprocessed_report\u001b[39m\u001b[38;5;124m'\u001b[39m]\u001b[38;5;241m.\u001b[39mtolist()\n\u001b[0;32m      4\u001b[0m \u001b[38;5;66;03m# Compute the BERT embeddings for each report\u001b[39;00m\n\u001b[1;32m----> 5\u001b[0m bert_embeddings \u001b[38;5;241m=\u001b[39m [get_bert_embeddings(report, tokenizer, model) \u001b[38;5;28;01mfor\u001b[39;00m report \u001b[38;5;129;01min\u001b[39;00m processed_reports]\n",
            "Cell \u001b[1;32mIn[9], line 14\u001b[0m, in \u001b[0;36mget_bert_embeddings\u001b[1;34m(text, tokenizer, model)\u001b[0m\n\u001b[0;32m     12\u001b[0m \u001b[38;5;28;01mdef\u001b[39;00m \u001b[38;5;21mget_bert_embeddings\u001b[39m(text, tokenizer, model):\n\u001b[0;32m     13\u001b[0m     \u001b[38;5;66;03m# Add special tokens takes care of adding [CLS], [SEP], <s>... tokens in the right way for BERT\u001b[39;00m\n\u001b[1;32m---> 14\u001b[0m     marked_text \u001b[38;5;241m=\u001b[39m \u001b[38;5;124m\"\u001b[39m\u001b[38;5;124m[CLS] \u001b[39m\u001b[38;5;124m\"\u001b[39m \u001b[38;5;241m+\u001b[39m text \u001b[38;5;241m+\u001b[39m \u001b[38;5;124m\"\u001b[39m\u001b[38;5;124m [SEP]\u001b[39m\u001b[38;5;124m\"\u001b[39m\n\u001b[0;32m     15\u001b[0m     tokenized_text \u001b[38;5;241m=\u001b[39m tokenizer\u001b[38;5;241m.\u001b[39mtokenize(marked_text)\n\u001b[0;32m     17\u001b[0m     \u001b[38;5;66;03m# Check tokenized text length\u001b[39;00m\n",
            "\u001b[1;31mTypeError\u001b[0m: can only concatenate str (not \"float\") to str"
          ]
        }
      ]
    },
    {
      "cell_type": "code",
      "source": [
        "# Convert tensors to numpy arrays for pickling\n",
        "bert_embeddings = [embedding.cpu().numpy() for embedding in bert_embeddings]\n",
        "\n",
        "# Specify the directory where you want to save the file\n",
        "output_dir = 'D:/Cloud/Google Drive/Colab Notebooks/Data'\n",
        "\n",
        "# Create the directory if it does not exist\n",
        "os.makedirs(output_dir, exist_ok=True)\n",
        "\n",
        "# Specify the full path of the file\n",
        "output_file = os.path.join(output_dir, 'bert_embeddings.joblib')\n",
        "\n",
        "# Save the embeddings to a file\n",
        "with open(output_file, 'wb') as f:\n",
        "    dump(bert_embeddings, f)"
      ],
      "metadata": {
        "id": "jEtbkI877L-0"
      },
      "execution_count": null,
      "outputs": []
    },
    {
      "cell_type": "code",
      "source": [
        "# Load the model back from the file\n",
        "model = load(model_file)\n",
        "tokenizer = load(tokenizer_file)\n"
      ],
      "metadata": {
        "id": "7HHIdlSV6RWa"
      },
      "execution_count": null,
      "outputs": []
    },
    {
      "cell_type": "code",
      "source": [
        "# Convert list of tensors to numpy array\n",
        "df['report_embeddings'] = df['report_embeddings'].apply(lambda x: np.mean([t.numpy() for t in x], axis=0))\n",
        "\n",
        "# Split data into train and test\n",
        "X_train, X_test, y_train, y_test = train_test_split(df['report_embeddings'].to_list(), df['drug_category'], test_size=0.2, random_state=42)"
      ],
      "metadata": {
        "id": "UQZVvW8Jx1Pv"
      },
      "execution_count": null,
      "outputs": []
    },
    {
      "cell_type": "code",
      "source": [
        "# Create pipelines\n",
        "pipelines = {\n",
        "    \"lr\": Pipeline([('scaler', StandardScaler()), ('clf', LogisticRegression(solver='liblinear', random_state=42))]),\n",
        "    \"rfc\": Pipeline([('clf', RandomForestClassifier(n_estimators=100, random_state=42))]),\n",
        "    \"xgb\": Pipeline([('scaler', StandardScaler()), ('clf', XGBClassifier(use_label_encoder=False, eval_metric='mlogloss'))])\n",
        "}"
      ],
      "metadata": {
        "id": "5ceeV92Fm53o"
      },
      "execution_count": null,
      "outputs": []
    },
    {
      "cell_type": "code",
      "source": [
        "# Fit each model, print classification reports for both training and test data\n",
        "for model_name, pipeline in pipelines.items():\n",
        "    # Fit the model\n",
        "    pipeline.fit(X_train, y_train)\n",
        "\n",
        "    # Predict on training data and print classification report\n",
        "    y_train_pred = pipeline.predict(X_train)\n",
        "    print(f\"\\nTraining classification report for {model_name}:\")\n",
        "    print(classification_report(y_train, y_train_pred))\n",
        "\n",
        "    # Predict on test data and print classification report\n",
        "    y_test_pred = pipeline.predict(X_test)\n",
        "    print(f\"\\nTest classification report for {model_name}:\")\n",
        "    print(classification_report(y_test, y_test_pred))"
      ],
      "metadata": {
        "id": "ijYysrqxd2IQ"
      },
      "execution_count": null,
      "outputs": []
    },
    {
      "cell_type": "code",
      "source": [
        "# Create the GridSearchCV instance\n",
        "grid_search = GridSearchCV(model, param_grid, cv=3)\n",
        "\n",
        "# Tokenize the reports\n",
        "tokenized_reports = df['processed_report'].apply(simple_preprocess)\n",
        "\n",
        "# Train the Word2Vec model and perform grid search\n",
        "grid_search.fit(tokenized_reports)\n",
        "\n",
        "# Get the best model and its hyperparameters\n",
        "best_model = grid_search.best_estimator_\n",
        "best_params = grid_search.best_params_\n",
        "\n",
        "# Print the best hyperparameters\n",
        "print(\"Best Hyperparameters:\")\n",
        "for param, value in best_params.items():\n",
        "    print(f\"{param}: {value}\")"
      ],
      "metadata": {
        "colab": {
          "base_uri": "https://localhost:8080/",
          "height": 380
        },
        "id": "6XyOHOpaBy5z",
        "outputId": "4264b3de-8dcd-41e1-9da0-2f7ba5e8a2b0"
      },
      "execution_count": null,
      "outputs": [
        {
          "output_type": "error",
          "ename": "TypeError",
          "evalue": "ignored",
          "traceback": [
            "\u001b[0;31m---------------------------------------------------------------------------\u001b[0m",
            "\u001b[0;31mTypeError\u001b[0m                                 Traceback (most recent call last)",
            "\u001b[0;32m<ipython-input-80-54635e4b6bad>\u001b[0m in \u001b[0;36m<cell line: 8>\u001b[0;34m()\u001b[0m\n\u001b[1;32m      6\u001b[0m \u001b[0;34m\u001b[0m\u001b[0m\n\u001b[1;32m      7\u001b[0m \u001b[0;31m# Train the Word2Vec model and perform grid search\u001b[0m\u001b[0;34m\u001b[0m\u001b[0;34m\u001b[0m\u001b[0m\n\u001b[0;32m----> 8\u001b[0;31m \u001b[0mgrid_search\u001b[0m\u001b[0;34m.\u001b[0m\u001b[0mfit\u001b[0m\u001b[0;34m(\u001b[0m\u001b[0mtokenized_reports\u001b[0m\u001b[0;34m)\u001b[0m\u001b[0;34m\u001b[0m\u001b[0;34m\u001b[0m\u001b[0m\n\u001b[0m\u001b[1;32m      9\u001b[0m \u001b[0;34m\u001b[0m\u001b[0m\n\u001b[1;32m     10\u001b[0m \u001b[0;31m# Get the best model and its hyperparameters\u001b[0m\u001b[0;34m\u001b[0m\u001b[0;34m\u001b[0m\u001b[0m\n",
            "\u001b[0;32m/usr/local/lib/python3.10/dist-packages/sklearn/model_selection/_search.py\u001b[0m in \u001b[0;36mfit\u001b[0;34m(self, X, y, groups, **fit_params)\u001b[0m\n\u001b[1;32m    774\u001b[0m             \u001b[0mscorers\u001b[0m \u001b[0;34m=\u001b[0m \u001b[0mself\u001b[0m\u001b[0;34m.\u001b[0m\u001b[0mscoring\u001b[0m\u001b[0;34m\u001b[0m\u001b[0;34m\u001b[0m\u001b[0m\n\u001b[1;32m    775\u001b[0m         \u001b[0;32melif\u001b[0m \u001b[0mself\u001b[0m\u001b[0;34m.\u001b[0m\u001b[0mscoring\u001b[0m \u001b[0;32mis\u001b[0m \u001b[0;32mNone\u001b[0m \u001b[0;32mor\u001b[0m \u001b[0misinstance\u001b[0m\u001b[0;34m(\u001b[0m\u001b[0mself\u001b[0m\u001b[0;34m.\u001b[0m\u001b[0mscoring\u001b[0m\u001b[0;34m,\u001b[0m \u001b[0mstr\u001b[0m\u001b[0;34m)\u001b[0m\u001b[0;34m:\u001b[0m\u001b[0;34m\u001b[0m\u001b[0;34m\u001b[0m\u001b[0m\n\u001b[0;32m--> 776\u001b[0;31m             \u001b[0mscorers\u001b[0m \u001b[0;34m=\u001b[0m \u001b[0mcheck_scoring\u001b[0m\u001b[0;34m(\u001b[0m\u001b[0mself\u001b[0m\u001b[0;34m.\u001b[0m\u001b[0mestimator\u001b[0m\u001b[0;34m,\u001b[0m \u001b[0mself\u001b[0m\u001b[0;34m.\u001b[0m\u001b[0mscoring\u001b[0m\u001b[0;34m)\u001b[0m\u001b[0;34m\u001b[0m\u001b[0;34m\u001b[0m\u001b[0m\n\u001b[0m\u001b[1;32m    777\u001b[0m         \u001b[0;32melse\u001b[0m\u001b[0;34m:\u001b[0m\u001b[0;34m\u001b[0m\u001b[0;34m\u001b[0m\u001b[0m\n\u001b[1;32m    778\u001b[0m             \u001b[0mscorers\u001b[0m \u001b[0;34m=\u001b[0m \u001b[0m_check_multimetric_scoring\u001b[0m\u001b[0;34m(\u001b[0m\u001b[0mself\u001b[0m\u001b[0;34m.\u001b[0m\u001b[0mestimator\u001b[0m\u001b[0;34m,\u001b[0m \u001b[0mself\u001b[0m\u001b[0;34m.\u001b[0m\u001b[0mscoring\u001b[0m\u001b[0;34m)\u001b[0m\u001b[0;34m\u001b[0m\u001b[0;34m\u001b[0m\u001b[0m\n",
            "\u001b[0;32m/usr/local/lib/python3.10/dist-packages/sklearn/metrics/_scorer.py\u001b[0m in \u001b[0;36mcheck_scoring\u001b[0;34m(estimator, scoring, allow_none)\u001b[0m\n\u001b[1;32m    472\u001b[0m     \"\"\"\n\u001b[1;32m    473\u001b[0m     \u001b[0;32mif\u001b[0m \u001b[0;32mnot\u001b[0m \u001b[0mhasattr\u001b[0m\u001b[0;34m(\u001b[0m\u001b[0mestimator\u001b[0m\u001b[0;34m,\u001b[0m \u001b[0;34m\"fit\"\u001b[0m\u001b[0;34m)\u001b[0m\u001b[0;34m:\u001b[0m\u001b[0;34m\u001b[0m\u001b[0;34m\u001b[0m\u001b[0m\n\u001b[0;32m--> 474\u001b[0;31m         raise TypeError(\n\u001b[0m\u001b[1;32m    475\u001b[0m             \u001b[0;34m\"estimator should be an estimator implementing 'fit' method, %r was passed\"\u001b[0m\u001b[0;34m\u001b[0m\u001b[0;34m\u001b[0m\u001b[0m\n\u001b[1;32m    476\u001b[0m             \u001b[0;34m%\u001b[0m \u001b[0mestimator\u001b[0m\u001b[0;34m\u001b[0m\u001b[0;34m\u001b[0m\u001b[0m\n",
            "\u001b[0;31mTypeError\u001b[0m: estimator should be an estimator implementing 'fit' method, <gensim.models.word2vec.Word2Vec object at 0x7bf6668f2080> was passed"
          ]
        }
      ]
    },
    {
      "cell_type": "code",
      "source": [
        "# Define oversampler\n",
        "oversampler = SMOTE()\n",
        "\n",
        "# Compute class frequencies in 'mixed' column\n",
        "class_freq = df['mixed'].value_counts()\n",
        "\n",
        "# Define class weights based on frequencies\n",
        "class_weights = {value: 10 if value == '0' else 1 for value in class_freq.index}\n",
        "\n",
        "# Encode the labels in y\n",
        "label_encoder = LabelEncoder()\n",
        "y_encoded = label_encoder.fit_transform(y)\n",
        "\n",
        "# Set up the XGBoost parameters\n",
        "params = {\n",
        "    'objective': 'multi:softmax',\n",
        "    'num_class': 3\n",
        "}\n",
        "\n",
        "# Define classifiers\n",
        "classifiers = {\n",
        "    'Logistic Regression': LogisticRegression(max_iter=1000, class_weight=class_weights),\n",
        "    'Random Forest': RandomForestClassifier(class_weight=class_weights, n_estimators=100, random_state=42),\n",
        "    'XGB': XGBClassifier(eval_metric='mlogloss')\n",
        "}\n",
        "\n",
        "# Define pipelines\n",
        "pipelines = {\n",
        "    name: make_pipeline(oversampler, model)\n",
        "    for name, model in classifiers.items()\n",
        "}\n",
        "\n",
        "# Split your data\n",
        "X_train, X_test, y_train, y_test = train_test_split(X, y, test_size=0.2, random_state=42)"
      ],
      "metadata": {
        "id": "GRoESyJ3qfoI"
      },
      "execution_count": null,
      "outputs": []
    },
    {
      "cell_type": "code",
      "source": [
        "# Fit and evaluate Logistic Regression\n",
        "print('\\nTraining Logistic Regression...')\n",
        "pipeline.fit(X_train, y_train)\n",
        "y_pred_lr = pipeline.predict(X_test)\n",
        "print('\\nLogistic Regression:')\n",
        "print(classification_report(y_test, y_pred_lr, target_names=encoder.classes_, zero_division=1))"
      ],
      "metadata": {
        "id": "8uyV3a7yqufm"
      },
      "execution_count": null,
      "outputs": []
    },
    {
      "cell_type": "code",
      "source": [
        "# Fit and evaluate Random Forest\n",
        "print('\\nTraining Random Forest...')\n",
        "pipeline.fit(X_train, y_train)\n",
        "y_pred = pipeline.predict(X_test)\n",
        "print('\\nRandom Forest:')\n",
        "print(classification_report(y_test, y_pred_rf, target_names=encoder.classes_, zero_division=1))"
      ],
      "metadata": {
        "id": "VMEvL0TDskUu"
      },
      "execution_count": null,
      "outputs": []
    },
    {
      "cell_type": "code",
      "source": [
        "# Fit and evaluate XGBoost with the pipeline\n",
        "print('\\nTraining XGB through pipeline...')\n",
        "pipeline_xgb.fit(X_train, y_train, xgbclassifier__sample_weight=weights_train)\n",
        "y_pred_xgb = pipeline_xgb.predict(X_test)\n",
        "print('\\nXGBoost (through pipeline):')\n",
        "print(classification_report(y_test, y_pred_xgb, target_names=encoder.classes_, zero_division=1))"
      ],
      "metadata": {
        "id": "THJ1mhvLvLT-"
      },
      "execution_count": null,
      "outputs": []
    },
    {
      "cell_type": "code",
      "source": [
        "# Define the parameter grid\n",
        "param_grid = {'C': [0.1, 1, 10, 100], 'penalty': ['l1', 'l2']}\n",
        "\n",
        "# Create a GridSearchCV object\n",
        "grid_search = GridSearchCV(lr, param_grid, cv=5)\n",
        "\n",
        "# Perform grid search\n",
        "grid_search.fit(X_train, y_train)\n",
        "\n",
        "# Print the best parameters and the best score\n",
        "print(grid_search.best_params_)\n",
        "print(grid_search.best_score_)\n"
      ],
      "metadata": {
        "id": "u_15jvfzOlg1"
      },
      "execution_count": null,
      "outputs": []
    },
    {
      "cell_type": "code",
      "source": [
        "\n"
      ],
      "metadata": {
        "id": "UuQCDXTehOQt"
      },
      "execution_count": null,
      "outputs": []
    }
  ]
}